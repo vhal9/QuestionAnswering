{
 "cells": [
  {
   "cell_type": "markdown",
   "metadata": {},
   "source": [
    "# Person Claims"
   ]
  },
  {
   "cell_type": "code",
   "execution_count": 1,
   "metadata": {},
   "outputs": [],
   "source": [
    "arquivo = open('../relacoes.txt')"
   ]
  },
  {
   "cell_type": "code",
   "execution_count": 2,
   "metadata": {},
   "outputs": [],
   "source": [
    "property = {}\n",
    "for line in arquivo:\n",
    "    texto = []\n",
    "    texto.append(line.split())\n",
    "    property[texto[0][1]] = texto[0][0]"
   ]
  },
  {
   "cell_type": "code",
   "execution_count": 3,
   "metadata": {},
   "outputs": [
    {
     "data": {
      "text/plain": [
       "{'P101': 'campoDeTrabalho',\n",
       " 'P102': 'membroDoPartidoPolitico',\n",
       " 'P103': 'idiomaNativo',\n",
       " 'P1038': 'parente',\n",
       " 'P106': 'ocupacao',\n",
       " 'P1066': 'alunoDe',\n",
       " 'P108': 'empregador',\n",
       " 'P109': 'assinatura',\n",
       " 'P119': 'localDoEnterro',\n",
       " 'P1196': 'modoDeMorte',\n",
       " 'P1290': 'padrinho',\n",
       " 'P1352': 'classificacao',\n",
       " 'P140': 'religiao',\n",
       " 'P1442': 'imagemDaSepultura',\n",
       " 'P1477': 'nomeDeNascimento',\n",
       " 'P1532': 'paisParaOEsporte',\n",
       " 'P1559': 'nomeNoIdiomaNativo',\n",
       " 'P157': 'mortoPor',\n",
       " 'P166': 'premioRecebido',\n",
       " 'P172': 'grupoEtnico',\n",
       " 'P184': 'orientadorDeDoutorado',\n",
       " 'P185': 'doutorando',\n",
       " 'P19': 'localDeNascimento',\n",
       " 'P1971': 'numeroDeFilhos',\n",
       " 'P20': 'localDaMorte',\n",
       " 'P21': 'sexoGenero',\n",
       " 'P22': 'pai',\n",
       " 'P2323': 'IdentificacaoDeAtletaDoComiteOlimpicoSueco',\n",
       " 'P2332': 'IdDoDicionarioDeHistoriadoresDeArte',\n",
       " 'P237': 'brasaoDeArmas',\n",
       " 'P25': 'mae',\n",
       " 'P26': 'conjuge',\n",
       " 'P263': 'residenciaOficial',\n",
       " 'P27': 'paisDeCidadania',\n",
       " 'P3150': 'aniversario',\n",
       " 'P3373': 'irmao',\n",
       " 'P3448': 'padrasto',\n",
       " 'P39': 'cargoOcupado',\n",
       " 'P40': 'crianca',\n",
       " 'P413': 'PosicaoJogadaEmEquipeOuEspecialidade',\n",
       " 'P451': 'parceiro',\n",
       " 'P463': 'membroDe',\n",
       " 'P509': 'causaDeMorte',\n",
       " 'P54': 'membroDaEquipeEsportiva',\n",
       " 'P551': 'residencia',\n",
       " 'P555': 'registroDeDuplas',\n",
       " 'P564': 'registroIndividual',\n",
       " 'P569': 'dataDeNascimento',\n",
       " 'P570': 'dataDoFalecimento',\n",
       " 'P66': 'larAncestral',\n",
       " 'P69': 'educadoEm',\n",
       " 'P800': 'trabalhoNotavel',\n",
       " 'P802': 'estudante',\n",
       " 'P91': 'orientacaoSexual',\n",
       " 'P94': 'imagemDoBrasaoDeArmas'}"
      ]
     },
     "execution_count": 3,
     "metadata": {},
     "output_type": "execute_result"
    }
   ],
   "source": [
    "property"
   ]
  },
  {
   "cell_type": "code",
   "execution_count": 5,
   "metadata": {},
   "outputs": [],
   "source": [
    "from database import database"
   ]
  },
  {
   "cell_type": "code",
   "execution_count": 6,
   "metadata": {},
   "outputs": [],
   "source": [
    "db = database.Database()"
   ]
  },
  {
   "cell_type": "code",
   "execution_count": 7,
   "metadata": {},
   "outputs": [
    {
     "name": "stdout",
     "output_type": "stream",
     "text": [
      "['P108', 'empregador']\n",
      "['P27', 'paisDeCidadania']\n",
      "['P1971', 'numeroDeFilhos']\n",
      "['P166', 'premioRecebido']\n",
      "['P2323', 'IdentificacaoDeAtletaDoComiteOlimpicoSueco']\n",
      "['P184', 'orientadorDeDoutorado']\n",
      "['P1038', 'parente']\n",
      "['P237', 'brasaoDeArmas']\n",
      "['P555', 'registroDeDuplas']\n",
      "['P463', 'membroDe']\n",
      "['P1559', 'nomeNoIdiomaNativo']\n",
      "['P3448', 'padrasto']\n",
      "['P106', 'ocupacao']\n",
      "['P569', 'dataDeNascimento']\n",
      "['P103', 'idiomaNativo']\n",
      "['P20', 'localDaMorte']\n",
      "['P1477', 'nomeDeNascimento']\n",
      "['P69', 'educadoEm']\n",
      "['P2332', 'IdDoDicionarioDeHistoriadoresDeArte']\n",
      "['P185', 'doutorando']\n",
      "['P119', 'localDoEnterro']\n",
      "['P1290', 'padrinho']\n",
      "['P109', 'assinatura']\n",
      "['P94', 'imagemDoBrasaoDeArmas']\n",
      "['P570', 'dataDoFalecimento']\n",
      "['P263', 'residenciaOficial']\n",
      "['P564', 'registroIndividual']\n",
      "['P413', 'PosicaoJogadaEmEquipeOuEspecialidade']\n",
      "['P3150', 'aniversario']\n",
      "['P1532', 'paisParaOEsporte']\n",
      "['P26', 'conjuge']\n",
      "['P802', 'estudante']\n",
      "['P1066', 'alunoDe']\n",
      "['P1442', 'imagemDaSepultura']\n",
      "['P66', 'larAncestral']\n",
      "['P54', 'membroDaEquipeEsportiva']\n",
      "['P19', 'localDeNascimento']\n",
      "['P140', 'religiao']\n",
      "['P1352', 'classificacao']\n",
      "['P22', 'pai']\n",
      "['P21', 'sexoGenero']\n",
      "['P91', 'orientacaoSexual']\n",
      "['P102', 'membroDoPartidoPolitico']\n",
      "['P800', 'trabalhoNotavel']\n",
      "['P40', 'crianca']\n",
      "['P101', 'campoDeTrabalho']\n",
      "['P172', 'grupoEtnico']\n",
      "['P3373', 'irmao']\n",
      "['P25', 'mae']\n",
      "['P509', 'causaDeMorte']\n",
      "['P157', 'mortoPor']\n",
      "['P551', 'residencia']\n",
      "['P39', 'cargoOcupado']\n",
      "['P451', 'parceiro']\n",
      "['P1196', 'modoDeMorte']\n"
     ]
    }
   ],
   "source": [
    "for key in property:\n",
    "    relation = [key,property[key]]\n",
    "    print(relation)\n",
    "    db.insertProperty(relation)"
   ]
  },
  {
   "cell_type": "code",
   "execution_count": null,
   "metadata": {},
   "outputs": [],
   "source": []
  }
 ],
 "metadata": {
  "kernelspec": {
   "display_name": "Python 3",
   "language": "python",
   "name": "python3"
  },
  "language_info": {
   "codemirror_mode": {
    "name": "ipython",
    "version": 3
   },
   "file_extension": ".py",
   "mimetype": "text/x-python",
   "name": "python",
   "nbconvert_exporter": "python",
   "pygments_lexer": "ipython3",
   "version": "3.5.2"
  }
 },
 "nbformat": 4,
 "nbformat_minor": 2
}
