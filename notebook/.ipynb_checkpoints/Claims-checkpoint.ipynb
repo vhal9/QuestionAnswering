{
 "cells": [
  {
   "cell_type": "markdown",
   "metadata": {},
   "source": [
    "# Person Claims"
   ]
  },
  {
   "cell_type": "code",
   "execution_count": 1,
   "metadata": {},
   "outputs": [],
   "source": [
    "arquivo = open('../relacoes.txt')"
   ]
  },
  {
   "cell_type": "code",
   "execution_count": 2,
   "metadata": {},
   "outputs": [],
   "source": [
    "relacoes = {}\n",
    "for line in arquivo:\n",
    "    texto = []\n",
    "    texto.append(line.split())\n",
    "    relacoes[texto[0][1]] = texto[0][0]"
   ]
  },
  {
   "cell_type": "code",
   "execution_count": 3,
   "metadata": {},
   "outputs": [
    {
     "data": {
      "text/plain": [
       "{'P101': 'campoDeTrabalho',\n",
       " 'P102': 'membroDoPartidoPolitico',\n",
       " 'P103': 'idiomaNativo',\n",
       " 'P1038': 'parente',\n",
       " 'P106': 'ocupacao',\n",
       " 'P1066': 'alunoDe',\n",
       " 'P108': 'empregador',\n",
       " 'P109': 'assinatura',\n",
       " 'P119': 'localDoEnterro',\n",
       " 'P1196': 'modoDeMorte',\n",
       " 'P1290': 'padrinho',\n",
       " 'P1352': 'classificacao',\n",
       " 'P140': 'religiao',\n",
       " 'P1442': 'imagemDaSepultura',\n",
       " 'P1477': 'nomeDeNascimento',\n",
       " 'P1532': 'paisParaOEsporte',\n",
       " 'P1559': 'nomeNoIdiomaNativo',\n",
       " 'P157': 'mortoPor',\n",
       " 'P166': 'premioRecebido',\n",
       " 'P172': 'grupoEtnico',\n",
       " 'P184': 'orientadorDeDoutorado',\n",
       " 'P185': 'doutoranda',\n",
       " 'P19': 'localDeNascimento',\n",
       " 'P1971': 'numeroDeFilhos',\n",
       " 'P20': 'localDaMorte',\n",
       " 'P21': 'sexoGenero',\n",
       " 'P22': 'pai',\n",
       " 'P2323': 'IdentificacaoDeAtletaDoComiteOlimpicoSueco',\n",
       " 'P2332': 'IdDoDicionarioDeHistoriadoresDeArte',\n",
       " 'P237': 'brasaoDeArmas',\n",
       " 'P25': 'mae',\n",
       " 'P26': 'conjuge',\n",
       " 'P263': 'residenciaOficial',\n",
       " 'P27': 'paisDeCidadania',\n",
       " 'P3150': 'aniversario',\n",
       " 'P3373': 'irmao',\n",
       " 'P3448': 'padrasto',\n",
       " 'P39': 'cargoOcupado',\n",
       " 'P40': 'crianca',\n",
       " 'P413': 'PosicaoJogadaEmEquipeOuEspecialidade',\n",
       " 'P451': 'parceiro',\n",
       " 'P463': 'membroDe',\n",
       " 'P509': 'causaDeMorte',\n",
       " 'P54': 'membroDaEquipeEsportiva',\n",
       " 'P551': 'residencia',\n",
       " 'P555': 'registroDeDuplas',\n",
       " 'P564': 'registroIndividual',\n",
       " 'P569': 'dataDeNascimento',\n",
       " 'P570': 'dataDoFalecimento',\n",
       " 'P66': 'larAncestral',\n",
       " 'P69': 'educadoEm',\n",
       " 'P800': 'trabalhoNotavel',\n",
       " 'P802': 'estudante',\n",
       " 'P91': 'orientacaoSexual',\n",
       " 'P94': 'imagemDoBrasaoDeArmas'}"
      ]
     },
     "execution_count": 3,
     "metadata": {},
     "output_type": "execute_result"
    }
   ],
   "source": [
    "relacoes"
   ]
  },
  {
   "cell_type": "code",
   "execution_count": 4,
   "metadata": {},
   "outputs": [],
   "source": [
    "import sqlite3"
   ]
  },
  {
   "cell_type": "code",
   "execution_count": 5,
   "metadata": {},
   "outputs": [],
   "source": [
    "conn = sqlite3.connect('knowledge.db')\n",
    "c = conn.cursor()"
   ]
  },
  {
   "cell_type": "code",
   "execution_count": 9,
   "metadata": {},
   "outputs": [],
   "source": [
    "def inserirRelation(relation):\n",
    "    insert = \"INSERT INTO relation VALUES('\"+ relation[0] +\"','\"+ relation[1] +\"')\"\n",
    "    print(insert)\n",
    "    c.execute(insert)\n",
    "    conn.commit()\n",
    "    "
   ]
  },
  {
   "cell_type": "code",
   "execution_count": 10,
   "metadata": {},
   "outputs": [
    {
     "name": "stdout",
     "output_type": "stream",
     "text": [
      "['P1532', 'paisParaOEsporte']\n",
      "INSERT INTO relation VALUES(P1532,paisParaOEsporte)\n"
     ]
    },
    {
     "ename": "OperationalError",
     "evalue": "no such column: P1532",
     "output_type": "error",
     "traceback": [
      "\u001b[0;31m---------------------------------------------------------------------------\u001b[0m",
      "\u001b[0;31mOperationalError\u001b[0m                          Traceback (most recent call last)",
      "\u001b[0;32m<ipython-input-10-ed2ee531cebf>\u001b[0m in \u001b[0;36m<module>\u001b[0;34m\u001b[0m\n\u001b[1;32m      2\u001b[0m     \u001b[0mrelation\u001b[0m \u001b[0;34m=\u001b[0m \u001b[0;34m[\u001b[0m\u001b[0mkey\u001b[0m\u001b[0;34m,\u001b[0m\u001b[0mrelacoes\u001b[0m\u001b[0;34m[\u001b[0m\u001b[0mkey\u001b[0m\u001b[0;34m]\u001b[0m\u001b[0;34m]\u001b[0m\u001b[0;34m\u001b[0m\u001b[0m\n\u001b[1;32m      3\u001b[0m     \u001b[0mprint\u001b[0m\u001b[0;34m(\u001b[0m\u001b[0mrelation\u001b[0m\u001b[0;34m)\u001b[0m\u001b[0;34m\u001b[0m\u001b[0m\n\u001b[0;32m----> 4\u001b[0;31m     \u001b[0minserirRelation\u001b[0m\u001b[0;34m(\u001b[0m\u001b[0mrelation\u001b[0m\u001b[0;34m)\u001b[0m\u001b[0;34m\u001b[0m\u001b[0m\n\u001b[0m",
      "\u001b[0;32m<ipython-input-9-925407956bba>\u001b[0m in \u001b[0;36minserirRelation\u001b[0;34m(relation)\u001b[0m\n\u001b[1;32m      2\u001b[0m     \u001b[0minsert\u001b[0m \u001b[0;34m=\u001b[0m \u001b[0;34m\"INSERT INTO relation VALUES(\"\u001b[0m\u001b[0;34m+\u001b[0m \u001b[0mrelation\u001b[0m\u001b[0;34m[\u001b[0m\u001b[0;36m0\u001b[0m\u001b[0;34m]\u001b[0m \u001b[0;34m+\u001b[0m\u001b[0;34m\",\"\u001b[0m\u001b[0;34m+\u001b[0m \u001b[0mrelation\u001b[0m\u001b[0;34m[\u001b[0m\u001b[0;36m1\u001b[0m\u001b[0;34m]\u001b[0m \u001b[0;34m+\u001b[0m\u001b[0;34m\")\"\u001b[0m\u001b[0;34m\u001b[0m\u001b[0m\n\u001b[1;32m      3\u001b[0m     \u001b[0mprint\u001b[0m\u001b[0;34m(\u001b[0m\u001b[0minsert\u001b[0m\u001b[0;34m)\u001b[0m\u001b[0;34m\u001b[0m\u001b[0m\n\u001b[0;32m----> 4\u001b[0;31m     \u001b[0mc\u001b[0m\u001b[0;34m.\u001b[0m\u001b[0mexecute\u001b[0m\u001b[0;34m(\u001b[0m\u001b[0minsert\u001b[0m\u001b[0;34m)\u001b[0m\u001b[0;34m\u001b[0m\u001b[0m\n\u001b[0m\u001b[1;32m      5\u001b[0m     \u001b[0mconn\u001b[0m\u001b[0;34m.\u001b[0m\u001b[0mcommit\u001b[0m\u001b[0;34m(\u001b[0m\u001b[0;34m)\u001b[0m\u001b[0;34m\u001b[0m\u001b[0m\n\u001b[1;32m      6\u001b[0m \u001b[0;34m\u001b[0m\u001b[0m\n",
      "\u001b[0;31mOperationalError\u001b[0m: no such column: P1532"
     ]
    }
   ],
   "source": [
    "for key in relacoes:\n",
    "    relation = [key,relacoes[key]]\n",
    "    print(relation)\n",
    "    inserirRelation(relation)"
   ]
  },
  {
   "cell_type": "code",
   "execution_count": null,
   "metadata": {},
   "outputs": [],
   "source": []
  }
 ],
 "metadata": {
  "kernelspec": {
   "display_name": "Python 3",
   "language": "python",
   "name": "python3"
  },
  "language_info": {
   "codemirror_mode": {
    "name": "ipython",
    "version": 3
   },
   "file_extension": ".py",
   "mimetype": "text/x-python",
   "name": "python",
   "nbconvert_exporter": "python",
   "pygments_lexer": "ipython3",
   "version": "3.5.2"
  }
 },
 "nbformat": 4,
 "nbformat_minor": 2
}
