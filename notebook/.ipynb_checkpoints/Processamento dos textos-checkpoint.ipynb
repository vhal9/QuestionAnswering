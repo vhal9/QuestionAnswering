{
 "cells": [
  {
   "cell_type": "markdown",
   "metadata": {},
   "source": [
    "## Utilizar dataframe para preprocessar cada texto"
   ]
  },
  {
   "cell_type": "markdown",
   "metadata": {},
   "source": [
    "- Abrir os arquivos"
   ]
  },
  {
   "cell_type": "code",
   "execution_count": 16,
   "metadata": {},
   "outputs": [],
   "source": [
    "import os\n",
    "corpora_path = '../data/corpora/'\n",
    "corpora_dirs = os.listdir(corpora_path)\n",
    "corpora_dirs = [d for d in corpora_dirs]"
   ]
  },
  {
   "cell_type": "code",
   "execution_count": 17,
   "metadata": {},
   "outputs": [
    {
     "data": {
      "text/plain": [
       "['Mahatma Gandhi',\n",
       " 'Neymar',\n",
       " 'LexCorp',\n",
       " 'Raposa',\n",
       " 'Donut',\n",
       " 'Arnold Schwarzenegger',\n",
       " 'Arco do Triunfo',\n",
       " 'Nanotecnologia',\n",
       " 'Oracle',\n",
       " 'Afeganistão',\n",
       " 'Nárnia',\n",
       " 'UFLA']"
      ]
     },
     "execution_count": 17,
     "metadata": {},
     "output_type": "execute_result"
    }
   ],
   "source": [
    "corpora_dirs"
   ]
  },
  {
   "cell_type": "code",
   "execution_count": 14,
   "metadata": {},
   "outputs": [
    {
     "ename": "FileNotFoundError",
     "evalue": "[Errno 2] No such file or directory: '../data/corpora/M'",
     "output_type": "error",
     "traceback": [
      "\u001b[0;31m---------------------------------------------------------------------------\u001b[0m",
      "\u001b[0;31mFileNotFoundError\u001b[0m                         Traceback (most recent call last)",
      "\u001b[0;32m<ipython-input-14-9d36ab3db23d>\u001b[0m in \u001b[0;36m<module>\u001b[0;34m\u001b[0m\n\u001b[1;32m      2\u001b[0m \u001b[0;32mfor\u001b[0m \u001b[0mcorpus\u001b[0m \u001b[0;32min\u001b[0m \u001b[0mcorpora_dirs\u001b[0m\u001b[0;34m[\u001b[0m\u001b[0;36m0\u001b[0m\u001b[0;34m]\u001b[0m\u001b[0;34m:\u001b[0m\u001b[0;34m\u001b[0m\u001b[0m\n\u001b[1;32m      3\u001b[0m     files = [os.path.join(corpora_path + corpus, f) \\\n\u001b[0;32m----> 4\u001b[0;31m              \u001b[0;32mfor\u001b[0m \u001b[0mf\u001b[0m \u001b[0;32min\u001b[0m \u001b[0mos\u001b[0m\u001b[0;34m.\u001b[0m\u001b[0mlistdir\u001b[0m\u001b[0;34m(\u001b[0m\u001b[0mcorpora_path\u001b[0m \u001b[0;34m+\u001b[0m \u001b[0mcorpus\u001b[0m\u001b[0;34m)\u001b[0m\u001b[0;31m \u001b[0m\u001b[0;31m\\\u001b[0m\u001b[0;34m\u001b[0m\u001b[0m\n\u001b[0m\u001b[1;32m      5\u001b[0m              if os.path.isfile(os.path.join(corpora_path + corpus, f))]\n\u001b[1;32m      6\u001b[0m     \u001b[0mcorpora\u001b[0m\u001b[0;34m[\u001b[0m\u001b[0mcorpus\u001b[0m\u001b[0;34m]\u001b[0m \u001b[0;34m=\u001b[0m \u001b[0;34m{\u001b[0m\u001b[0;34m'raw'\u001b[0m\u001b[0;34m:\u001b[0m \u001b[0;34m[\u001b[0m\u001b[0;34m]\u001b[0m\u001b[0;34m,\u001b[0m \u001b[0;34m'tokenized'\u001b[0m\u001b[0;34m:\u001b[0m \u001b[0;34m[\u001b[0m\u001b[0;34m]\u001b[0m\u001b[0;34m,\u001b[0m \u001b[0;34m'words'\u001b[0m\u001b[0;34m:\u001b[0m \u001b[0;34m[\u001b[0m\u001b[0;34m]\u001b[0m\u001b[0;34m}\u001b[0m\u001b[0;34m\u001b[0m\u001b[0m\n",
      "\u001b[0;31mFileNotFoundError\u001b[0m: [Errno 2] No such file or directory: '../data/corpora/M'"
     ]
    }
   ],
   "source": [
    "corpora = {}\n",
    "for corpus in corpora_dirs:\n",
    "    files = [os.path.join(corpora_path + corpus, f) \\\n",
    "             for f in os.listdir(corpora_path + corpus) \\\n",
    "             if os.path.isfile(os.path.join(corpora_path + corpus, f))]\n",
    "    corpora[corpus] = {'raw': [], 'tokenized': [], 'words': []}\n",
    "    for file in files:\n",
    "        lines = []\n",
    "        with open(file, 'r') as txt_file:\n",
    "            for line in txt_file.readlines():\n",
    "            if line != '\\n' and line != '' and line != ' ': \n",
    "                lines.append(line)\n",
    "            corpora[corpus]['raw'].append(lines)"
   ]
  },
  {
   "cell_type": "code",
   "execution_count": 25,
   "metadata": {},
   "outputs": [],
   "source": [
    "corpora = {}\n",
    "corpus = 'Afeganistão'\n",
    "files = [os.path.join(corpora_path + corpus, f) \\\n",
    "     for f in os.listdir(corpora_path + corpus) \\\n",
    "     if os.path.isfile(os.path.join(corpora_path + corpus, f))]\n",
    "corpora[corpus] = {'raw': [], 'tokenized': [], 'words': []}\n",
    "lines = []\n",
    "for file in files:\n",
    "    with open(file, 'r') as txt_file:\n",
    "        for line in txt_file.readlines():\n",
    "            if line != '\\n' and line != '' and line != ' ': \n",
    "                lines.append(line)\n",
    "        corpora[corpus]['raw'].append(lines)"
   ]
  },
  {
   "cell_type": "code",
   "execution_count": 20,
   "metadata": {},
   "outputs": [
    {
     "data": {
      "text/plain": [
       "{'raw': [['O Afeganistão (em persa e pastó:افغانستان, Afġānistān), oficialmente República Islâmica do Afeganistão é um Estado soberano sem litoral, localizado no centro da Ásia, estando na encruzilhada entre o Sul da Ásia, a Ásia Central e a Ásia Ocidental. Povoado por cerca de 34 milhões de habitantes, tem uma área de 647 500 km², sendo o 40.º país mais populoso do mundo e o 40.º maior do mundo em área. Faz fronteira com o Paquistão ao sul e ao leste, com o Irã ao oeste, com o Turcomenistão, Uzbequistão e Tajiquistão ao norte e com China no nordeste. O território do Afeganistão foi um ponto essencial para a rota da seda e para a migração humana. Arqueólogos encontraram evidências de presença humana remontantes ao Paleolítico Médio (c.\\u200950 000 a.C.). A civilização urbana pode ter começado entre 3 000 e 2 000 a.C.O país fica em uma localização geoestratégica importante que liga o Oriente Médio com a Ásia Central e o subcontinente indiano, tendo sido a casa de vários povos através dos tempos. A terra tem testemunhado muitas campanhas militares desde a Antiguidade, as mais notáveis feitas por Alexandre o Grande, Chandragupta Máuria, Gêngis Cã, pela União Soviética e, mais recentemente, pelos Estados Unidos e pela OTAN. Também foi local de origem de várias dinastias locais como os Greco-bactrianos, Cuchanas, Safáridas, Gaznévidas, Gúridas, Timúridas, Mogóis e muitos outros que criaram seus próprios impérios.A história política moderna do Afeganistão começa em 1709 com a ascensão dos Pachtuns (ou Pastós), quando a dinastia Hotaki foi criada em Candaar seguida por Ahmad Shah Durrani subindo ao poder em 1747. A capital do Afeganistão foi transferida em 1776 de Candaar para Cabul e parte do Império Afegão foi cedida aos impérios vizinhos em 1893. No final do século XIX, o Afeganistão tornou-se um Estado tampão no grande jogo entre os impérios britânico e russo. Essa circunstância histórica, combinada com o terreno montanhoso do país, impediu o domínio de potências imperialistas sobre o país, mas também resultou em pouco desenvolvimento econômico. Depois da Terceira Guerra Anglo-Afegã e a assinatura do Tratado de Rawalpindi em 1919, o país recuperou o controle de sua política externa com os britânicos.[carece de fontes?]Após a revolução marxista de 1978 e a invasão soviética em 1979, teve início uma guerra entre as forças governamentais apoiadas por tropas soviéticas e os rebeldes mujahidin, apoiados pelos Estados Unidos, Paquistão, Arábia Saudita e outros países muçulmanos. Nesse conflito, mais de um milhão de afegãos perderam a vida, muitos deles vítimas de minas terrestres. Após a vitória dos rebeldes, em 1992, teve início uma guerra civil, entre diversos grupos rebeldes, que foi vencida pelos talibãs. Depois dos atentados terroristas de 11 de setembro de 2001, teve início um novo conflito, decorrente da intervenção de forças norte-americanas no país. Em dezembro de 2001 o Conselho de Segurança das Nações Unidas autorizou a criação da Força Internacional de Assistência para Segurança para ajudar a manter a segurança no Afeganistão e ajudar a administração do presidente Hamid Karzai.As décadas de guerra fizeram do Afeganistão o país mais perigoso do mundo, incluindo o título de maior produtor de refugiados e requerentes de asilo. Enquanto a comunidade internacional está reconstruindo o Afeganistão dilacerado pela guerra, grupos terroristas como a rede Haqqani e Hezbi Islami estão ativamente envolvidos na insurgência talibã por todo o país, que inclui centenas de assassinatos e ataques suicidas. De acordo com a Organização das Nações Unidas, os insurgentes foram responsáveis por 75% das mortes de civis em 2010 e 80% em 2011.\\n',\n",
       "   '\\n',\n",
       "   '\\n',\n",
       "   '== Etimologia ==\\n',\n",
       "   'O nome Afeganistão (em persa: افغانستان, [avɣɒnestɒn]) significa \"Terra dos Afegãos\", que se origina a partir do etnônimo \"Afegão\". Historicamente, o nome \"Afegão\" designa as pessoas pachtuns, o maior grupo étnico do Afeganistão. Este nome é mencionado na forma de Abgan no século III pelo Império Sassânida e como Avagana (afghana) no século VI pelo astrônomo indiano Varahimira. Um povo chamado de Afegãos é mencionado várias vezes no século X no livro de geografia Hudud al-\\'alam, principalmente quando faz-se referência a uma vila: \"Saul, uma agradável vila nas montanhas. Onde vivem os Afegãos.\"Al-Biruni faz referência no século XI a várias tribos nas montanhas da fronteira ocidental do Rio Indo, conhecidas como Montanhas Sulaiman. ibne Batuta, um famoso estudioso marroquino que visitou a região em 1333, escreve: \"Nós viajamos para Cabul, antigamente uma grande cidade, o lugar agora é habitado por uma tribo de persas chamados afegãos. Eles vivem nas montanhas e desfiladeiros e possuem considerável força, e são muitas vezes salteadores. Sua principal montanha é chamada de Kuh Sulaiman.\"\\n',\n",
       "   '\\n',\n",
       "   'Um importante estudioso persa do século XVI explica extensamente sobre os afegãos. Por exemplo, ele escreve:\\n',\n",
       "   '\\n',\n",
       "   'É amplamente aceito que os termos \"Pachtum\" e Afegão são sinônimos. Nos escritos do século XVII o poeta Pachto Khushal Khan Khattak é mencionado:\\n',\n",
       "   '\\n',\n",
       "   'A última parte do nome, -istão é um sufixo persa para \"lugar\", proeminente em muitas línguas da região. O nome \"Afeganistão\" é descrito no século XVI pelo imperador mogol Babur em suas memórias e também pelo estudioso persa Firishta e os descendentes de Babur, referindo-se a tradicional étnica afegã (pachtum) territórios entre as montanhas de Indocuche e o Rio Indo. No início do século XIX, Políticos afegãos decidiram por adotar o nome Afeganistão para todo o Império Afegão após sua tradução para o inglês  já havia aparecido em diversos tratados com o Império Qajar e a Índia Britânica. Em 1857, na análise de John William Kaye The Afghan Warm Friedrich Engels descreve o \"Afeganistão\" como:\\n',\n",
       "   '\\n',\n",
       "   'O Reino do Afeganistão foi, por vezes referido como Reino de Cabul, como mencionado pelo estadista e historiador britânico Mountstuart Elphinstone. O Afeganistão foi oficialmente reconhecido como um estado soberano pela comunidade internacional após a assinatura do Tratado de Rawalpindi em 1919.\\n',\n",
       "   '\\n',\n",
       "   '\\n',\n",
       "   '== História ==\\n',\n",
       "   '\\n',\n",
       "   'Desde a Antiguidade, a guerra é constante na região onde hoje fica o Afeganistão, local já ocupado no século VI a.C. pela civilização bactriana, formada por um povo que incorporava elementos das culturas hindu, grega e persa. Depois disso, o território foi atacado por sucessivos invasores.[carece de fontes?]O Afeganistão foi invadido e ocupado pela União Soviética em 1979. Mas, apesar da destruição maciça provocada na sustentação logística, lutas subsequentes entre as várias facções dos Mujahidin permitiram que os fundamentalistas do Talibã se apropriassem da maior parte do país. Em 1997, as forças talibãs mudaram o nome do país de Estado Islâmico do Afeganistão para Emirado Islâmico do Afeganistão.[carece de fontes?]Nos últimos dois anos o país sofre com a seca. Estas circunstâncias conduziram três a quatro milhões de afegãos a sofrerem de inanição.[carece de fontes?]Em resposta aos ataques terroristas de 11 de setembro de 2001 em Nova Iorque e no Pentágono, cuja autoria foi reivindicada por Osama bin Laden, líder da Al Qaeda, reconhecido como herói pelos Talibãs, no dia 7 de outubro de 2001, os Estados Unidos e forças aliadas lançaram uma campanha militar, como parte de sua política antiterrorismo, caçando e prendendo suspeitos de atividades terroristas no Afeganistão e mandando-os para a base de Guantánamo, em Cuba.[carece de fontes?]\\n',\n",
       "   '\\n',\n",
       "   '\\n',\n",
       "   '== Geografia ==\\n',\n",
       "   '\\n',\n",
       "   'Um país em um enclave montanhoso, com planícies a norte e sudoeste, o Afeganistão é descrito como sendo localizado no sul da Ásia ou na Ásia Central. Faz parte do Grande Oriente Médio no mundo islâmico, e fica entre as latitudes 29 N e 39 N e longitudes 60 E e 75 E. O ponto mais alto do país é Noshaq com 7.492 metros acima do nível do mar.\\n',\n",
       "   '\\n',\n",
       "   'Apesar de ter numerosos rios e reservatórios, grande parte do país está seco. A bacia endorreica de Sistan é uma das regiões mais secas do mundo. Além da chuva habitual que cai no Afeganistão, o país recebe neve durante o inverno em Indocuche e nas Montanhas Pamir, e o derretimento dessa neve na primavera entra nos rios, lagos e riachos. No entanto dois terços da água do país flui para os países vizinhos do Irã, Paquistão e Turcomenistão. O estado necessita de mais de 2 bilhões de dólares para reabilitar os sistemas de irrigação, de modo que a água seja gerida corretamente.Ao nordeste da cordilheira de Indocuche e em torno da Província de Badakhshan existe uma área geologicamente ativa em que ocorrem fortes sismos quase todos os anos. Eles podem ser mortais e destrutivos, por vezes causando deslizamento de terra e no inverno avalanches. Os últimos fortes terremotos ocorreram  em 1998, em Badakhshan perto do Tajiquistão, matando 6000 pessoas. Isto foi seguido pelos terremotos de 2002 em Indocuche, no qual mais de 150 pessoas morreram em vários países da região, e mais de 1000 ficaram feridos. O terremoto de 2010 deixou 11 afegãos mortos, mais de 70 feridos, e 2000 casas destruídas.[carece de fontes?]Os principais recursos naturais do país são: carvão mineral, cobre, minério de ferro, lítio, urânio, terra-rara, cromita, ouro, zinco, talco, barita, enxofre, chumbo, mármore, pedras preciosas e semi-preciosas, gás natural, petróleo, entre outras coisas. Em 2010 funcionários do Estados Unidos e Afeganistão estimaram que os depósitos minerais inexplorados localizados em 2007 pelo Serviço Geológico dos Estados Unidos valem entre US$900 bilhões e US$3 trilhões.Tem 652 230 km², sendo então o 41° maior país do mundo, pouco maior que a França e menor que Myanmar. Faz fronteira com o Paquistão no sul e no leste, o Irã a oeste, Turcomenistão, Uzbequistão e Tajiquistão no norte, e a República Popular da China no extremo oriente.[carece de fontes?]\\n',\n",
       "   '\\n',\n",
       "   '\\n',\n",
       "   '== Demografia ==\\n',\n",
       "   '\\n',\n",
       "   'Com a capital em Cabul e uma área de 647 500 km²; e 32 milhões de habitantes (46 hab/km²), o Afeganistão é um dos países mais pobres e inóspitos do mundo. A instabilidade política e os conflitos internos arruinaram a sua já débil economia e infraestruturas a tal ponto que um terço da população afegã abandonou o país.[carece de fontes?]Segundo uma estimativa de 2006, a população cresce 2,67% ao ano. O índice de natalidade é de 46,6 a cada 1000 habitantes, enquanto o índice de mortalidade é 20,34 a cada 1000 habitantes. A taxa de mortalidade infantil é de 160,23 mortes a cada 1000 nascimentos. A expectativa de vida é de 43.34 anos.[carece de fontes?]Em 2001, o país tinha diferentes grupos étnicos. Os pachtuns, que tradicionalmente dominaram o país, eram 52 por cento da população; os hazaras eram 19 por cento; os tajiques, que habitavam a porção mais ao norte, eram 21 por cento; os uzbeques, que também habitavam no norte, eram 5 por cento.\\n',\n",
       "   '\\n',\n",
       "   '\\n',\n",
       "   '=== Religião ===\\n',\n",
       "   '\\n',\n",
       "   'Mais de 99% da população afegã é muçulmana. Cerca de 80 a 85% destes são seguidores do ramo sunita, e entre 15 a 20% são seguidores do ramo xiita, ramo do islamismo predominante entre os hazaras. Há, ainda, outros 3% de muçulmanos não confessionais. Até a década de 1890, a região em torno de Nuristão era conhecida como Cafiristão (terra dos cafires ou cafir  (incrédulos)), por causa de seus habitantes não muçulmanos, o nuristanis, um povo etnicamente distinto cujas práticas religiosas incluíam o animismo, politeísmo e xamanismo. Há pequenas minorias de cristãos, budistas, parsis, sikhs e hindus.O Afeganistão é um dos vários países islâmicos que prevê a pena de morte por apostasia ou blasfémia.\\n',\n",
       "   '\\n',\n",
       "   '\\n',\n",
       "   '=== Criminalidade ===\\n',\n",
       "   '\\n',\n",
       "   'O crime está presente em várias formas. As formas de criminalidade incluem o narcotráfico, o branqueamento de capitais, fraude, corrupção, etc.[carece de fontes?]O Afeganistão é o maior produtor mundial de ópio. De 80 a 90% da heroína consumida na Europa provêm de ópio produzido no Afeganistão. O tráfico de ópio tornou-se um importante negócio ilegal no Afeganistão desde a queda do regime talibã, em 2001. De acordo com um inquérito realizado em 2007 pelo Escritório das Nações Unidas contra a Droga e o Crime (UNODC), 93% dos opiáceos no mercado mundial tiveram origem no Afeganistão.[carece de fontes?]Outras formas de criminalidade incluem roubo, bem como sequestros e assaltos.[carece de fontes?]\\n',\n",
       "   '\\n',\n",
       "   '\\n',\n",
       "   '== Política ==\\n',\n",
       "   '\\n',\n",
       "   'Em 27 de setembro de 1996 as forças talibãs, constituídas de ex-estudantes, derrubaram o presidente, capturaram a capital, Cabul, e passaram a controlar grande parte do país. Em novembro desse ano outras facções negociavam um governo nacional de coalizão.[carece de fontes?]O primeiro presidente do Afeganistão pós-talibã, Hamid Karzai, foi escolhido pelo governo dos Estados Unidos para dirigir um governo interino, após a queda dos Taliban.[carece de fontes?]\\n',\n",
       "   '\\n',\n",
       "   'Foram realizadas eleições a 9 de Outubro de 2004, com mais de 10 milhões de afegãos registrados para votar, mas a maioria dos 17 candidatos da oposição não reconheceu o resultado das eleições, alegando fraude; uma comissão independente encontrou evidências de fraude, mas considerou que isto não teria afectado os resultados. Karzai obteve 55,4% dos votos e foi empossado como presidente a 7 de Dezembro. Estas foram as primeiras eleições desde 1969, quando houve eleições para o parlamento.[carece de fontes?]O governo de Karzai incluía membros da Aliança do Norte, um grupo político formado por elementos de diferentes regiões e grupos étnicos nomeados pela Loya jirga - conselho ligado às antigas tradições afegãs, inicialmente constituído por membros da etnia Pashtun, majoritária, e foi formado por diferentes líderes regionais e tribais, autoridades políticas, militares e religiosas, funcionários do governo, etc.[carece de fontes?]Em 2014, após um conturbado processo, Ashraf Ghani foi eleito e empossado presidente do país.\\n',\n",
       "   '\\n',\n",
       "   '\\n',\n",
       "   '=== Direitos Humanos ===\\n',\n",
       "   'A Amnistia Internacional tem documentado tortura e maus-tratos em numerosas instalações de detenção no Afeganistão. Jornalistas foram presos, espancados ou mortos. A pena de morte é muitas vezes aplicada. Muitas crianças sofrem casamentos forçados e a violência doméstica é generalizada.Há também abuso infantil e abuso sexual de crianças através da prática dos  Bacha Bazi.Até à data, os Hazara no Afeganistão são discriminados e perseguidos.De acordo com a ONG  Global Rights, cerca de  90% das mulheres afegãs sofren abusos físicos e sexuais abuso psicológico e casamentos forçados, habitualmente ás mãos da própria família.Em 2012, o Afeganistão registou 240 casos de crimes de \"honra\", muito embora se acredite que o número real de casos é muito maior. Destes crimes reportados, 21% foram cometidos pelos maridos das vítimas, 7% pelos seus irmãos, 4% pelos pais e os restantes por outros  familiares. A Comissaõ Independente dos Direitos Humanos do Afeganistão (AIHRC) chegou também á conclusão de que 15% dos crimes de \"honra\" e violações  foram cometidos por policiais afegãos. A AIHRC também afirmou que as instituições judiciárias culpam as vítimas de violação  pelo crime e as condenam como castigo.Apesar dos testes de virgindade terem sido proibidos em 2016, continuam a ser efectuados, e caso o resultado não seja o que se espera, as mulheres afegãs podem ser presas ou executadas.\\n',\n",
       "   '\\n',\n",
       "   '\\n',\n",
       "   '=== Símbolos nacionais ===\\n',\n",
       "   '\\n',\n",
       "   'A bandeira nacional foi adaptada pelo governo de transição em 2002. A bandeira é um rectângulo com proporções de 1:2, dividida em três barras verticais de igual largura e de cores preta à tralha, vermelha ao centro e verde ao batente. No centro da barra vermelha, o símbolo tradicional do Afeganistão, com uma mesquita no centro.[carece de fontes?]O brasão de armas tem aparecido de alguma forma sobre a Bandeira do Afeganistão desde o início da nação. A mais notável ausência foi durante a década de 1980 quando um regime comunista dominou o país, e nos finais dos anos 1990, durante o Estado do Talibã.[carece de fontes?]A mais recente alteração do brasão de armas foi a inserção da inscrição das shahada em árabe no topo do mesmo. Abaixo, está uma imagem de uma mesquita com um mehrab que se confronta com um local de oração em Meca. Anexa à mesquita estão duas bandeiras, tomadas de posição das bandeiras do Afeganistão. Abaixo da mesquita encontra-se uma inscrição que indica o nome da nação. Em torno da mesquita está uma grinalda vegetal.[carece de fontes?]\"Sorud-e Melli\" (em persa: سرودی ملی, Hino nacional) é o hino nacional, adoptado em 2006. De acordo com o artigo 20 da constituição do Afeganistão: \"O hino nacional deverá ser em pachto e terá a menção \"Alá é o maior\", assim como os nomes das etnias do Afeganistão.\"\\n',\n",
       "   '\\n',\n",
       "   '\\n',\n",
       "   '== Subdivisões ==\\n',\n",
       "   '\\n',\n",
       "   'O Afeganistão subdivide-se em 34 províncias:\\n',\n",
       "   '\\n',\n",
       "   '\\n',\n",
       "   '== Economia ==\\n',\n",
       "   '\\n',\n",
       "   'O Afeganistão é um país extremamente pobre, muito dependente da agricultura (principalmente da papoula -, matéria-prima do ópio) e da criação de gado. A economia sofreu fortemente com a recente agitação política e militar, e uma severa seca veio se juntar às dificuldades da nação entre 1998 e 2001. A maior parte da população continua a ter alimentação, vestuário, alojamento e cuidados de saúde insuficientes, e estes problemas são agravados pelas operações militares e pela incerteza política. A inflação continua a ser um problema sério.[carece de fontes?]Depois do ataque da coligação liderada pelos Estados Unidos que levou à derrota dos Talibã em Novembro de 2001 e à formação da Autoridade Afegã Interina (AAI) resultante do acordo de Bona de Dezembro de 2001, os esforços internacionais para reconstruir o Afeganistão foram o tema da Conferência de Doadores de Tóquio para a Reconstrução do Afeganistão em Janeiro de 2002, onde foram atribuídos 4,5 bilhões de dólares a um fundo a ser administrado pelo Banco Mundial. As áreas prioritárias de reconstrução são: a construção de instalações de educação, saúde e saneamento, o aumento das capacidades de administração, o desenvolvimento de setores agrícolas e o de reconstrução das ligações rodoviárias, energéticas e de telecomunicações. Dois terços da população vivem com menos de dois dólares por dia. A taxa de mortalidade infantil é de 160.23 por 1000 nascimentos.[carece de fontes?]\\n',\n",
       "   '\\n',\n",
       "   '\\n',\n",
       "   '== Infraestrutura ==\\n',\n",
       "   '\\n',\n",
       "   '\\n',\n",
       "   '=== Educação ===\\n',\n",
       "   '\\n',\n",
       "   'A partir de 2006 mais de quatro milhões de estudantes de ambos os sexos estavam matriculados em escolas por todo o país. No entanto, ainda existem obstáculos significativos à educação no Afeganistão, decorrentes da falta de financiamento, edifícios escolares inseguros e normas culturais. A falta de professoras é uma questão que diz respeito a alguns pais afegãos, especialmente em áreas mais conservadoras. Alguns pais ainda não permitem que as suas filhas sejam ensinadas por homens.[carece de fontes?]Alfabetização de toda a população está estimada (em 1999) em 36%, a taxa de alfabetização do sexo masculino é de 51% e do feminino 21%. Até agora, existem 9.500 escolas no país.[carece de fontes?]Outro aspecto da educação que está mudando rapidamente no Afeganistão é a cara do ensino superior. Após a queda do regime talibã, a Universidade de Cabul foi reaberta para estudantes de ambos os sexos. Em 2006, a Universidade Americana do Afeganistão também abriu suas portas, com o objectivo de proporcionar um mundo de classe, Inglês como língua, a coaprendizagem ambiente educacional no Afeganistão. A universidade aceita alunos provenientes do Afeganistão e os países vizinhos. Trabalhos de construção vão começar em breve no novo sítio selecionado para a Universidade de Balkh em Mazari Sharif. O novo edifício para a universidade, incluindo o edifício para o Departamento de Engenharia, seria construído em 600 acres (2,4 km ²) de terras, ao custo de 250 milhões de dólares americanos.[carece de fontes?]\\n',\n",
       "   '\\n',\n",
       "   '\\n',\n",
       "   '== Cultura ==\\n',\n",
       "   '\\n',\n",
       "   '\\n',\n",
       "   '== Ver também ==\\n',\n",
       "   'Lista de Estados soberanos\\n',\n",
       "   'Lista de Estados soberanos e territórios dependentes da Ásia\\n',\n",
       "   'Missões diplomáticas do Afeganistão\\n',\n",
       "   'Forças Armadas do Afeganistão\\n',\n",
       "   'Invasões do Afeganistão\\n',\n",
       "   '\\n',\n",
       "   '\\n',\n",
       "   '== Referências ==\\n',\n",
       "   '\\n',\n",
       "   '\\n',\n",
       "   '== Ligações externas ==\\n',\n",
       "   'Library of Congress.\"A Country Study: Afghanistan\".']],\n",
       " 'tokenized': [],\n",
       " 'words': []}"
      ]
     },
     "execution_count": 20,
     "metadata": {},
     "output_type": "execute_result"
    }
   ],
   "source": [
    "corpora['Afeganistão']"
   ]
  },
  {
   "cell_type": "code",
   "execution_count": 27,
   "metadata": {},
   "outputs": [
    {
     "data": {
      "text/plain": [
       "{'raw': [['O Afeganistão (em persa e pastó:افغانستان, Afġānistān), oficialmente República Islâmica do Afeganistão é um Estado soberano sem litoral, localizado no centro da Ásia, estando na encruzilhada entre o Sul da Ásia, a Ásia Central e a Ásia Ocidental. Povoado por cerca de 34 milhões de habitantes, tem uma área de 647 500 km², sendo o 40.º país mais populoso do mundo e o 40.º maior do mundo em área. Faz fronteira com o Paquistão ao sul e ao leste, com o Irã ao oeste, com o Turcomenistão, Uzbequistão e Tajiquistão ao norte e com China no nordeste. O território do Afeganistão foi um ponto essencial para a rota da seda e para a migração humana. Arqueólogos encontraram evidências de presença humana remontantes ao Paleolítico Médio (c.\\u200950 000 a.C.). A civilização urbana pode ter começado entre 3 000 e 2 000 a.C.O país fica em uma localização geoestratégica importante que liga o Oriente Médio com a Ásia Central e o subcontinente indiano, tendo sido a casa de vários povos através dos tempos. A terra tem testemunhado muitas campanhas militares desde a Antiguidade, as mais notáveis feitas por Alexandre o Grande, Chandragupta Máuria, Gêngis Cã, pela União Soviética e, mais recentemente, pelos Estados Unidos e pela OTAN. Também foi local de origem de várias dinastias locais como os Greco-bactrianos, Cuchanas, Safáridas, Gaznévidas, Gúridas, Timúridas, Mogóis e muitos outros que criaram seus próprios impérios.A história política moderna do Afeganistão começa em 1709 com a ascensão dos Pachtuns (ou Pastós), quando a dinastia Hotaki foi criada em Candaar seguida por Ahmad Shah Durrani subindo ao poder em 1747. A capital do Afeganistão foi transferida em 1776 de Candaar para Cabul e parte do Império Afegão foi cedida aos impérios vizinhos em 1893. No final do século XIX, o Afeganistão tornou-se um Estado tampão no grande jogo entre os impérios britânico e russo. Essa circunstância histórica, combinada com o terreno montanhoso do país, impediu o domínio de potências imperialistas sobre o país, mas também resultou em pouco desenvolvimento econômico. Depois da Terceira Guerra Anglo-Afegã e a assinatura do Tratado de Rawalpindi em 1919, o país recuperou o controle de sua política externa com os britânicos.[carece de fontes?]Após a revolução marxista de 1978 e a invasão soviética em 1979, teve início uma guerra entre as forças governamentais apoiadas por tropas soviéticas e os rebeldes mujahidin, apoiados pelos Estados Unidos, Paquistão, Arábia Saudita e outros países muçulmanos. Nesse conflito, mais de um milhão de afegãos perderam a vida, muitos deles vítimas de minas terrestres. Após a vitória dos rebeldes, em 1992, teve início uma guerra civil, entre diversos grupos rebeldes, que foi vencida pelos talibãs. Depois dos atentados terroristas de 11 de setembro de 2001, teve início um novo conflito, decorrente da intervenção de forças norte-americanas no país. Em dezembro de 2001 o Conselho de Segurança das Nações Unidas autorizou a criação da Força Internacional de Assistência para Segurança para ajudar a manter a segurança no Afeganistão e ajudar a administração do presidente Hamid Karzai.As décadas de guerra fizeram do Afeganistão o país mais perigoso do mundo, incluindo o título de maior produtor de refugiados e requerentes de asilo. Enquanto a comunidade internacional está reconstruindo o Afeganistão dilacerado pela guerra, grupos terroristas como a rede Haqqani e Hezbi Islami estão ativamente envolvidos na insurgência talibã por todo o país, que inclui centenas de assassinatos e ataques suicidas. De acordo com a Organização das Nações Unidas, os insurgentes foram responsáveis por 75% das mortes de civis em 2010 e 80% em 2011.\\n',\n",
       "   '== Etimologia ==\\n',\n",
       "   'O nome Afeganistão (em persa: افغانستان, [avɣɒnestɒn]) significa \"Terra dos Afegãos\", que se origina a partir do etnônimo \"Afegão\". Historicamente, o nome \"Afegão\" designa as pessoas pachtuns, o maior grupo étnico do Afeganistão. Este nome é mencionado na forma de Abgan no século III pelo Império Sassânida e como Avagana (afghana) no século VI pelo astrônomo indiano Varahimira. Um povo chamado de Afegãos é mencionado várias vezes no século X no livro de geografia Hudud al-\\'alam, principalmente quando faz-se referência a uma vila: \"Saul, uma agradável vila nas montanhas. Onde vivem os Afegãos.\"Al-Biruni faz referência no século XI a várias tribos nas montanhas da fronteira ocidental do Rio Indo, conhecidas como Montanhas Sulaiman. ibne Batuta, um famoso estudioso marroquino que visitou a região em 1333, escreve: \"Nós viajamos para Cabul, antigamente uma grande cidade, o lugar agora é habitado por uma tribo de persas chamados afegãos. Eles vivem nas montanhas e desfiladeiros e possuem considerável força, e são muitas vezes salteadores. Sua principal montanha é chamada de Kuh Sulaiman.\"\\n',\n",
       "   'Um importante estudioso persa do século XVI explica extensamente sobre os afegãos. Por exemplo, ele escreve:\\n',\n",
       "   'É amplamente aceito que os termos \"Pachtum\" e Afegão são sinônimos. Nos escritos do século XVII o poeta Pachto Khushal Khan Khattak é mencionado:\\n',\n",
       "   'A última parte do nome, -istão é um sufixo persa para \"lugar\", proeminente em muitas línguas da região. O nome \"Afeganistão\" é descrito no século XVI pelo imperador mogol Babur em suas memórias e também pelo estudioso persa Firishta e os descendentes de Babur, referindo-se a tradicional étnica afegã (pachtum) territórios entre as montanhas de Indocuche e o Rio Indo. No início do século XIX, Políticos afegãos decidiram por adotar o nome Afeganistão para todo o Império Afegão após sua tradução para o inglês  já havia aparecido em diversos tratados com o Império Qajar e a Índia Britânica. Em 1857, na análise de John William Kaye The Afghan Warm Friedrich Engels descreve o \"Afeganistão\" como:\\n',\n",
       "   'O Reino do Afeganistão foi, por vezes referido como Reino de Cabul, como mencionado pelo estadista e historiador britânico Mountstuart Elphinstone. O Afeganistão foi oficialmente reconhecido como um estado soberano pela comunidade internacional após a assinatura do Tratado de Rawalpindi em 1919.\\n',\n",
       "   '== História ==\\n',\n",
       "   'Desde a Antiguidade, a guerra é constante na região onde hoje fica o Afeganistão, local já ocupado no século VI a.C. pela civilização bactriana, formada por um povo que incorporava elementos das culturas hindu, grega e persa. Depois disso, o território foi atacado por sucessivos invasores.[carece de fontes?]O Afeganistão foi invadido e ocupado pela União Soviética em 1979. Mas, apesar da destruição maciça provocada na sustentação logística, lutas subsequentes entre as várias facções dos Mujahidin permitiram que os fundamentalistas do Talibã se apropriassem da maior parte do país. Em 1997, as forças talibãs mudaram o nome do país de Estado Islâmico do Afeganistão para Emirado Islâmico do Afeganistão.[carece de fontes?]Nos últimos dois anos o país sofre com a seca. Estas circunstâncias conduziram três a quatro milhões de afegãos a sofrerem de inanição.[carece de fontes?]Em resposta aos ataques terroristas de 11 de setembro de 2001 em Nova Iorque e no Pentágono, cuja autoria foi reivindicada por Osama bin Laden, líder da Al Qaeda, reconhecido como herói pelos Talibãs, no dia 7 de outubro de 2001, os Estados Unidos e forças aliadas lançaram uma campanha militar, como parte de sua política antiterrorismo, caçando e prendendo suspeitos de atividades terroristas no Afeganistão e mandando-os para a base de Guantánamo, em Cuba.[carece de fontes?]\\n',\n",
       "   '== Geografia ==\\n',\n",
       "   'Um país em um enclave montanhoso, com planícies a norte e sudoeste, o Afeganistão é descrito como sendo localizado no sul da Ásia ou na Ásia Central. Faz parte do Grande Oriente Médio no mundo islâmico, e fica entre as latitudes 29 N e 39 N e longitudes 60 E e 75 E. O ponto mais alto do país é Noshaq com 7.492 metros acima do nível do mar.\\n',\n",
       "   'Apesar de ter numerosos rios e reservatórios, grande parte do país está seco. A bacia endorreica de Sistan é uma das regiões mais secas do mundo. Além da chuva habitual que cai no Afeganistão, o país recebe neve durante o inverno em Indocuche e nas Montanhas Pamir, e o derretimento dessa neve na primavera entra nos rios, lagos e riachos. No entanto dois terços da água do país flui para os países vizinhos do Irã, Paquistão e Turcomenistão. O estado necessita de mais de 2 bilhões de dólares para reabilitar os sistemas de irrigação, de modo que a água seja gerida corretamente.Ao nordeste da cordilheira de Indocuche e em torno da Província de Badakhshan existe uma área geologicamente ativa em que ocorrem fortes sismos quase todos os anos. Eles podem ser mortais e destrutivos, por vezes causando deslizamento de terra e no inverno avalanches. Os últimos fortes terremotos ocorreram  em 1998, em Badakhshan perto do Tajiquistão, matando 6000 pessoas. Isto foi seguido pelos terremotos de 2002 em Indocuche, no qual mais de 150 pessoas morreram em vários países da região, e mais de 1000 ficaram feridos. O terremoto de 2010 deixou 11 afegãos mortos, mais de 70 feridos, e 2000 casas destruídas.[carece de fontes?]Os principais recursos naturais do país são: carvão mineral, cobre, minério de ferro, lítio, urânio, terra-rara, cromita, ouro, zinco, talco, barita, enxofre, chumbo, mármore, pedras preciosas e semi-preciosas, gás natural, petróleo, entre outras coisas. Em 2010 funcionários do Estados Unidos e Afeganistão estimaram que os depósitos minerais inexplorados localizados em 2007 pelo Serviço Geológico dos Estados Unidos valem entre US$900 bilhões e US$3 trilhões.Tem 652 230 km², sendo então o 41° maior país do mundo, pouco maior que a França e menor que Myanmar. Faz fronteira com o Paquistão no sul e no leste, o Irã a oeste, Turcomenistão, Uzbequistão e Tajiquistão no norte, e a República Popular da China no extremo oriente.[carece de fontes?]\\n',\n",
       "   '== Demografia ==\\n',\n",
       "   'Com a capital em Cabul e uma área de 647 500 km²; e 32 milhões de habitantes (46 hab/km²), o Afeganistão é um dos países mais pobres e inóspitos do mundo. A instabilidade política e os conflitos internos arruinaram a sua já débil economia e infraestruturas a tal ponto que um terço da população afegã abandonou o país.[carece de fontes?]Segundo uma estimativa de 2006, a população cresce 2,67% ao ano. O índice de natalidade é de 46,6 a cada 1000 habitantes, enquanto o índice de mortalidade é 20,34 a cada 1000 habitantes. A taxa de mortalidade infantil é de 160,23 mortes a cada 1000 nascimentos. A expectativa de vida é de 43.34 anos.[carece de fontes?]Em 2001, o país tinha diferentes grupos étnicos. Os pachtuns, que tradicionalmente dominaram o país, eram 52 por cento da população; os hazaras eram 19 por cento; os tajiques, que habitavam a porção mais ao norte, eram 21 por cento; os uzbeques, que também habitavam no norte, eram 5 por cento.\\n',\n",
       "   '=== Religião ===\\n',\n",
       "   'Mais de 99% da população afegã é muçulmana. Cerca de 80 a 85% destes são seguidores do ramo sunita, e entre 15 a 20% são seguidores do ramo xiita, ramo do islamismo predominante entre os hazaras. Há, ainda, outros 3% de muçulmanos não confessionais. Até a década de 1890, a região em torno de Nuristão era conhecida como Cafiristão (terra dos cafires ou cafir  (incrédulos)), por causa de seus habitantes não muçulmanos, o nuristanis, um povo etnicamente distinto cujas práticas religiosas incluíam o animismo, politeísmo e xamanismo. Há pequenas minorias de cristãos, budistas, parsis, sikhs e hindus.O Afeganistão é um dos vários países islâmicos que prevê a pena de morte por apostasia ou blasfémia.\\n',\n",
       "   '=== Criminalidade ===\\n',\n",
       "   'O crime está presente em várias formas. As formas de criminalidade incluem o narcotráfico, o branqueamento de capitais, fraude, corrupção, etc.[carece de fontes?]O Afeganistão é o maior produtor mundial de ópio. De 80 a 90% da heroína consumida na Europa provêm de ópio produzido no Afeganistão. O tráfico de ópio tornou-se um importante negócio ilegal no Afeganistão desde a queda do regime talibã, em 2001. De acordo com um inquérito realizado em 2007 pelo Escritório das Nações Unidas contra a Droga e o Crime (UNODC), 93% dos opiáceos no mercado mundial tiveram origem no Afeganistão.[carece de fontes?]Outras formas de criminalidade incluem roubo, bem como sequestros e assaltos.[carece de fontes?]\\n',\n",
       "   '== Política ==\\n',\n",
       "   'Em 27 de setembro de 1996 as forças talibãs, constituídas de ex-estudantes, derrubaram o presidente, capturaram a capital, Cabul, e passaram a controlar grande parte do país. Em novembro desse ano outras facções negociavam um governo nacional de coalizão.[carece de fontes?]O primeiro presidente do Afeganistão pós-talibã, Hamid Karzai, foi escolhido pelo governo dos Estados Unidos para dirigir um governo interino, após a queda dos Taliban.[carece de fontes?]\\n',\n",
       "   'Foram realizadas eleições a 9 de Outubro de 2004, com mais de 10 milhões de afegãos registrados para votar, mas a maioria dos 17 candidatos da oposição não reconheceu o resultado das eleições, alegando fraude; uma comissão independente encontrou evidências de fraude, mas considerou que isto não teria afectado os resultados. Karzai obteve 55,4% dos votos e foi empossado como presidente a 7 de Dezembro. Estas foram as primeiras eleições desde 1969, quando houve eleições para o parlamento.[carece de fontes?]O governo de Karzai incluía membros da Aliança do Norte, um grupo político formado por elementos de diferentes regiões e grupos étnicos nomeados pela Loya jirga - conselho ligado às antigas tradições afegãs, inicialmente constituído por membros da etnia Pashtun, majoritária, e foi formado por diferentes líderes regionais e tribais, autoridades políticas, militares e religiosas, funcionários do governo, etc.[carece de fontes?]Em 2014, após um conturbado processo, Ashraf Ghani foi eleito e empossado presidente do país.\\n',\n",
       "   '=== Direitos Humanos ===\\n',\n",
       "   'A Amnistia Internacional tem documentado tortura e maus-tratos em numerosas instalações de detenção no Afeganistão. Jornalistas foram presos, espancados ou mortos. A pena de morte é muitas vezes aplicada. Muitas crianças sofrem casamentos forçados e a violência doméstica é generalizada.Há também abuso infantil e abuso sexual de crianças através da prática dos  Bacha Bazi.Até à data, os Hazara no Afeganistão são discriminados e perseguidos.De acordo com a ONG  Global Rights, cerca de  90% das mulheres afegãs sofren abusos físicos e sexuais abuso psicológico e casamentos forçados, habitualmente ás mãos da própria família.Em 2012, o Afeganistão registou 240 casos de crimes de \"honra\", muito embora se acredite que o número real de casos é muito maior. Destes crimes reportados, 21% foram cometidos pelos maridos das vítimas, 7% pelos seus irmãos, 4% pelos pais e os restantes por outros  familiares. A Comissaõ Independente dos Direitos Humanos do Afeganistão (AIHRC) chegou também á conclusão de que 15% dos crimes de \"honra\" e violações  foram cometidos por policiais afegãos. A AIHRC também afirmou que as instituições judiciárias culpam as vítimas de violação  pelo crime e as condenam como castigo.Apesar dos testes de virgindade terem sido proibidos em 2016, continuam a ser efectuados, e caso o resultado não seja o que se espera, as mulheres afegãs podem ser presas ou executadas.\\n',\n",
       "   '=== Símbolos nacionais ===\\n',\n",
       "   'A bandeira nacional foi adaptada pelo governo de transição em 2002. A bandeira é um rectângulo com proporções de 1:2, dividida em três barras verticais de igual largura e de cores preta à tralha, vermelha ao centro e verde ao batente. No centro da barra vermelha, o símbolo tradicional do Afeganistão, com uma mesquita no centro.[carece de fontes?]O brasão de armas tem aparecido de alguma forma sobre a Bandeira do Afeganistão desde o início da nação. A mais notável ausência foi durante a década de 1980 quando um regime comunista dominou o país, e nos finais dos anos 1990, durante o Estado do Talibã.[carece de fontes?]A mais recente alteração do brasão de armas foi a inserção da inscrição das shahada em árabe no topo do mesmo. Abaixo, está uma imagem de uma mesquita com um mehrab que se confronta com um local de oração em Meca. Anexa à mesquita estão duas bandeiras, tomadas de posição das bandeiras do Afeganistão. Abaixo da mesquita encontra-se uma inscrição que indica o nome da nação. Em torno da mesquita está uma grinalda vegetal.[carece de fontes?]\"Sorud-e Melli\" (em persa: سرودی ملی, Hino nacional) é o hino nacional, adoptado em 2006. De acordo com o artigo 20 da constituição do Afeganistão: \"O hino nacional deverá ser em pachto e terá a menção \"Alá é o maior\", assim como os nomes das etnias do Afeganistão.\"\\n',\n",
       "   '== Subdivisões ==\\n',\n",
       "   'O Afeganistão subdivide-se em 34 províncias:\\n',\n",
       "   '== Economia ==\\n',\n",
       "   'O Afeganistão é um país extremamente pobre, muito dependente da agricultura (principalmente da papoula -, matéria-prima do ópio) e da criação de gado. A economia sofreu fortemente com a recente agitação política e militar, e uma severa seca veio se juntar às dificuldades da nação entre 1998 e 2001. A maior parte da população continua a ter alimentação, vestuário, alojamento e cuidados de saúde insuficientes, e estes problemas são agravados pelas operações militares e pela incerteza política. A inflação continua a ser um problema sério.[carece de fontes?]Depois do ataque da coligação liderada pelos Estados Unidos que levou à derrota dos Talibã em Novembro de 2001 e à formação da Autoridade Afegã Interina (AAI) resultante do acordo de Bona de Dezembro de 2001, os esforços internacionais para reconstruir o Afeganistão foram o tema da Conferência de Doadores de Tóquio para a Reconstrução do Afeganistão em Janeiro de 2002, onde foram atribuídos 4,5 bilhões de dólares a um fundo a ser administrado pelo Banco Mundial. As áreas prioritárias de reconstrução são: a construção de instalações de educação, saúde e saneamento, o aumento das capacidades de administração, o desenvolvimento de setores agrícolas e o de reconstrução das ligações rodoviárias, energéticas e de telecomunicações. Dois terços da população vivem com menos de dois dólares por dia. A taxa de mortalidade infantil é de 160.23 por 1000 nascimentos.[carece de fontes?]\\n',\n",
       "   '== Infraestrutura ==\\n',\n",
       "   '=== Educação ===\\n',\n",
       "   'A partir de 2006 mais de quatro milhões de estudantes de ambos os sexos estavam matriculados em escolas por todo o país. No entanto, ainda existem obstáculos significativos à educação no Afeganistão, decorrentes da falta de financiamento, edifícios escolares inseguros e normas culturais. A falta de professoras é uma questão que diz respeito a alguns pais afegãos, especialmente em áreas mais conservadoras. Alguns pais ainda não permitem que as suas filhas sejam ensinadas por homens.[carece de fontes?]Alfabetização de toda a população está estimada (em 1999) em 36%, a taxa de alfabetização do sexo masculino é de 51% e do feminino 21%. Até agora, existem 9.500 escolas no país.[carece de fontes?]Outro aspecto da educação que está mudando rapidamente no Afeganistão é a cara do ensino superior. Após a queda do regime talibã, a Universidade de Cabul foi reaberta para estudantes de ambos os sexos. Em 2006, a Universidade Americana do Afeganistão também abriu suas portas, com o objectivo de proporcionar um mundo de classe, Inglês como língua, a coaprendizagem ambiente educacional no Afeganistão. A universidade aceita alunos provenientes do Afeganistão e os países vizinhos. Trabalhos de construção vão começar em breve no novo sítio selecionado para a Universidade de Balkh em Mazari Sharif. O novo edifício para a universidade, incluindo o edifício para o Departamento de Engenharia, seria construído em 600 acres (2,4 km ²) de terras, ao custo de 250 milhões de dólares americanos.[carece de fontes?]\\n',\n",
       "   '== Cultura ==\\n',\n",
       "   '== Ver também ==\\n',\n",
       "   'Lista de Estados soberanos\\n',\n",
       "   'Lista de Estados soberanos e territórios dependentes da Ásia\\n',\n",
       "   'Missões diplomáticas do Afeganistão\\n',\n",
       "   'Forças Armadas do Afeganistão\\n',\n",
       "   'Invasões do Afeganistão\\n',\n",
       "   '== Referências ==\\n',\n",
       "   '== Ligações externas ==\\n',\n",
       "   'Library of Congress.\"A Country Study: Afghanistan\".']],\n",
       " 'tokenized': [],\n",
       " 'words': []}"
      ]
     },
     "execution_count": 27,
     "metadata": {},
     "output_type": "execute_result"
    }
   ],
   "source": [
    "corpora['Afeganistão']"
   ]
  },
  {
   "cell_type": "markdown",
   "metadata": {},
   "source": [
    "- Preprocessar os textos"
   ]
  },
  {
   "cell_type": "code",
   "execution_count": 28,
   "metadata": {},
   "outputs": [],
   "source": [
    "from nlp import lexical"
   ]
  },
  {
   "cell_type": "code",
   "execution_count": 29,
   "metadata": {},
   "outputs": [],
   "source": [
    "normalizer = lexical.Preprocessing()"
   ]
  },
  {
   "cell_type": "code",
   "execution_count": 30,
   "metadata": {},
   "outputs": [],
   "source": [
    "def normalizar(line):\n",
    "    sentence = normalizer.tokenize_sentences(line)\n",
    "    line = normalizer.remove_accents(line)\n",
    "    line = normalizer.remove_punctuation(line)\n",
    "    line = normalizer.lowercase(line)\n",
    "    #line = [normalizer.tokenize_words(line) for line in sentence]\n",
    "    return line\n",
    "    #line = normalizer.remove_stopwords(line)"
   ]
  },
  {
   "cell_type": "code",
   "execution_count": 31,
   "metadata": {
    "scrolled": true
   },
   "outputs": [
    {
     "name": "stdout",
     "output_type": "stream",
     "text": [
      "<class 'str'>\n",
      "<class 'str'>\n",
      "<class 'str'>\n",
      "<class 'str'>\n",
      "<class 'str'>\n",
      "<class 'str'>\n",
      "<class 'str'>\n",
      "<class 'str'>\n",
      "<class 'str'>\n",
      "<class 'str'>\n",
      "<class 'str'>\n",
      "<class 'str'>\n",
      "<class 'str'>\n",
      "<class 'str'>\n",
      "<class 'str'>\n",
      "<class 'str'>\n",
      "<class 'str'>\n",
      "<class 'str'>\n",
      "<class 'str'>\n",
      "<class 'str'>\n",
      "<class 'str'>\n",
      "<class 'str'>\n",
      "<class 'str'>\n",
      "<class 'str'>\n",
      "<class 'str'>\n",
      "<class 'str'>\n",
      "<class 'str'>\n",
      "<class 'str'>\n",
      "<class 'str'>\n",
      "<class 'str'>\n",
      "<class 'str'>\n",
      "<class 'str'>\n",
      "<class 'str'>\n",
      "<class 'str'>\n",
      "<class 'str'>\n",
      "<class 'str'>\n",
      "<class 'str'>\n",
      "<class 'str'>\n",
      "<class 'str'>\n",
      "<class 'str'>\n",
      "<class 'str'>\n",
      "<class 'str'>\n"
     ]
    }
   ],
   "source": [
    "import re\n",
    "for corpus, infos in corpora.items():\n",
    "    sentences = []\n",
    "    corpora[corpus]['words'] = []\n",
    "    words = []\n",
    "    for text in infos['raw']:\n",
    "        for line in text:\n",
    "            texto = line.strip()\n",
    "            #print(texto, \"fim\")\n",
    "            tmp_sentences = []\n",
    "            if texto != '/n' and texto != '':\n",
    "                tmp_sentences = normalizar(texto)\n",
    "            print(type(tmp_sentences))\n",
    "            sentences.append(tmp_sentences)\n",
    "            for tokens in sentences:\n",
    "                for doc in tokens:\n",
    "                    words.extend([w for w in doc])\n",
    "    corpora[corpus]['tokenized'] = sentences\n",
    "    corpora[corpus]['words'].extend(words)"
   ]
  },
  {
   "cell_type": "code",
   "execution_count": 33,
   "metadata": {},
   "outputs": [
    {
     "name": "stdout",
     "output_type": "stream",
     "text": [
      "O Afeganistao em persa e pastofGnstn Afganistan oficialmente Republica Islamica do Afeganistao e um Estado soberano sem litoral localizado no centro da Asia estando na encruzilhada entre o Sul da Asia a Asia Central e a Asia Ocidental Povoado por cerca de 34 milhoes de habitantes tem uma area de 647 500 km2 sendo o 40o pais mais populoso do mundo e o 40o maior do mundo em area Faz fronteira com o Paquistao ao sul e ao leste com o Ira ao oeste com o Turcomenistao Uzbequistao e Tajiquistao ao norte e com China no nordeste O territorio do Afeganistao foi um ponto essencial para a rota da seda e para a migracao humana Arqueologos encontraram evidencias de presenca humana remontantes ao Paleolitico Medio c 50 000 aC A civilizacao urbana pode ter comecado entre 3 000 e 2 000 aCO pais fica em uma localizacao geoestrategica importante que liga o Oriente Medio com a Asia Central e o subcontinente indiano tendo sido a casa de varios povos atraves dos tempos A terra tem testemunhado muitas campanhas militares desde a Antiguidade as mais notaveis feitas por Alexandre o Grande Chandragupta Mauria Gengis Ca pela Uniao Sovietica e mais recentemente pelos Estados Unidos e pela OTAN Tambem foi local de origem de varias dinastias locais como os Grecobactrianos Cuchanas Safaridas Gaznevidas Guridas Timuridas Mogois e muitos outros que criaram seus proprios imperiosA historia politica moderna do Afeganistao comeca em 1709 com a ascensao dos Pachtuns ou Pastos quando a dinastia Hotaki foi criada em Candaar seguida por Ahmad Shah Durrani subindo ao poder em 1747 A capital do Afeganistao foi transferida em 1776 de Candaar para Cabul e parte do Imperio Afegao foi cedida aos imperios vizinhos em 1893 No final do seculo XIX o Afeganistao tornouse um Estado tampao no grande jogo entre os imperios britanico e russo Essa circunstancia historica combinada com o terreno montanhoso do pais impediu o dominio de potencias imperialistas sobre o pais mas tambem resultou em pouco desenvolvimento economico Depois da Terceira Guerra AngloAfega e a assinatura do Tratado de Rawalpindi em 1919 o pais recuperou o controle de sua politica externa com os britanicoscarece de fontesApos a revolucao marxista de 1978 e a invasao sovietica em 1979 teve inicio uma guerra entre as forcas governamentais apoiadas por tropas sovieticas e os rebeldes mujahidin apoiados pelos Estados Unidos Paquistao Arabia Saudita e outros paises muculmanos Nesse conflito mais de um milhao de afegaos perderam a vida muitos deles vitimas de minas terrestres Apos a vitoria dos rebeldes em 1992 teve inicio uma guerra civil entre diversos grupos rebeldes que foi vencida pelos talibas Depois dos atentados terroristas de 11 de setembro de 2001 teve inicio um novo conflito decorrente da intervencao de forcas norteamericanas no pais Em dezembro de 2001 o Conselho de Seguranca das Nacoes Unidas autorizou a criacao da Forca Internacional de Assistencia para Seguranca para ajudar a manter a seguranca no Afeganistao e ajudar a administracao do presidente Hamid KarzaiAs decadas de guerra fizeram do Afeganistao o pais mais perigoso do mundo incluindo o titulo de maior produtor de refugiados e requerentes de asilo Enquanto a comunidade internacional esta reconstruindo o Afeganistao dilacerado pela guerra grupos terroristas como a rede Haqqani e Hezbi Islami estao ativamente envolvidos na insurgencia taliba por todo o pais que inclui centenas de assassinatos e ataques suicidas De acordo com a Organizacao das Nacoes Unidas os insurgentes foram responsaveis por 75 das mortes de civis em 2010 e 80 em 2011\n",
      " Etimologia \n",
      "O nome Afeganistao em persa fGnstn avganestan significa Terra dos Afegaos que se origina a partir do etnonimo Afegao Historicamente o nome Afegao designa as pessoas pachtuns o maior grupo etnico do Afeganistao Este nome e mencionado na forma de Abgan no seculo III pelo Imperio Sassanida e como Avagana afghana no seculo VI pelo astronomo indiano Varahimira Um povo chamado de Afegaos e mencionado varias vezes no seculo X no livro de geografia Hudud alalam principalmente quando fazse referencia a uma vila Saul uma agradavel vila nas montanhas Onde vivem os AfegaosAlBiruni faz referencia no seculo XI a varias tribos nas montanhas da fronteira ocidental do Rio Indo conhecidas como Montanhas Sulaiman ibne Batuta um famoso estudioso marroquino que visitou a regiao em 1333 escreve Nos viajamos para Cabul antigamente uma grande cidade o lugar agora e habitado por uma tribo de persas chamados afegaos Eles vivem nas montanhas e desfiladeiros e possuem consideravel forca e sao muitas vezes salteadores Sua principal montanha e chamada de Kuh Sulaiman\n",
      "Um importante estudioso persa do seculo XVI explica extensamente sobre os afegaos Por exemplo ele escreve\n",
      "E amplamente aceito que os termos Pachtum e Afegao sao sinonimos Nos escritos do seculo XVII o poeta Pachto Khushal Khan Khattak e mencionado\n",
      "A ultima parte do nome istao e um sufixo persa para lugar proeminente em muitas linguas da regiao O nome Afeganistao e descrito no seculo XVI pelo imperador mogol Babur em suas memorias e tambem pelo estudioso persa Firishta e os descendentes de Babur referindose a tradicional etnica afega pachtum territorios entre as montanhas de Indocuche e o Rio Indo No inicio do seculo XIX Politicos afegaos decidiram por adotar o nome Afeganistao para todo o Imperio Afegao apos sua traducao para o ingles  ja havia aparecido em diversos tratados com o Imperio Qajar e a India Britanica Em 1857 na analise de John William Kaye The Afghan Warm Friedrich Engels descreve o Afeganistao como\n",
      "O Reino do Afeganistao foi por vezes referido como Reino de Cabul como mencionado pelo estadista e historiador britanico Mountstuart Elphinstone O Afeganistao foi oficialmente reconhecido como um estado soberano pela comunidade internacional apos a assinatura do Tratado de Rawalpindi em 1919\n",
      " Historia \n",
      "Desde a Antiguidade a guerra e constante na regiao onde hoje fica o Afeganistao local ja ocupado no seculo VI aC pela civilizacao bactriana formada por um povo que incorporava elementos das culturas hindu grega e persa Depois disso o territorio foi atacado por sucessivos invasorescarece de fontesO Afeganistao foi invadido e ocupado pela Uniao Sovietica em 1979 Mas apesar da destruicao macica provocada na sustentacao logistica lutas subsequentes entre as varias faccoes dos Mujahidin permitiram que os fundamentalistas do Taliba se apropriassem da maior parte do pais Em 1997 as forcas talibas mudaram o nome do pais de Estado Islamico do Afeganistao para Emirado Islamico do Afeganistaocarece de fontesNos ultimos dois anos o pais sofre com a seca Estas circunstancias conduziram tres a quatro milhoes de afegaos a sofrerem de inanicaocarece de fontesEm resposta aos ataques terroristas de 11 de setembro de 2001 em Nova Iorque e no Pentagono cuja autoria foi reivindicada por Osama bin Laden lider da Al Qaeda reconhecido como heroi pelos Talibas no dia 7 de outubro de 2001 os Estados Unidos e forcas aliadas lancaram uma campanha militar como parte de sua politica antiterrorismo cacando e prendendo suspeitos de atividades terroristas no Afeganistao e mandandoos para a base de Guantanamo em Cubacarece de fontes\n",
      " Geografia \n",
      "Um pais em um enclave montanhoso com planicies a norte e sudoeste o Afeganistao e descrito como sendo localizado no sul da Asia ou na Asia Central Faz parte do Grande Oriente Medio no mundo islamico e fica entre as latitudes 29 N e 39 N e longitudes 60 E e 75 E O ponto mais alto do pais e Noshaq com 7492 metros acima do nivel do mar\n",
      "Apesar de ter numerosos rios e reservatorios grande parte do pais esta seco A bacia endorreica de Sistan e uma das regioes mais secas do mundo Alem da chuva habitual que cai no Afeganistao o pais recebe neve durante o inverno em Indocuche e nas Montanhas Pamir e o derretimento dessa neve na primavera entra nos rios lagos e riachos No entanto dois tercos da agua do pais flui para os paises vizinhos do Ira Paquistao e Turcomenistao O estado necessita de mais de 2 bilhoes de dolares para reabilitar os sistemas de irrigacao de modo que a agua seja gerida corretamenteAo nordeste da cordilheira de Indocuche e em torno da Provincia de Badakhshan existe uma area geologicamente ativa em que ocorrem fortes sismos quase todos os anos Eles podem ser mortais e destrutivos por vezes causando deslizamento de terra e no inverno avalanches Os ultimos fortes terremotos ocorreram  em 1998 em Badakhshan perto do Tajiquistao matando 6000 pessoas Isto foi seguido pelos terremotos de 2002 em Indocuche no qual mais de 150 pessoas morreram em varios paises da regiao e mais de 1000 ficaram feridos O terremoto de 2010 deixou 11 afegaos mortos mais de 70 feridos e 2000 casas destruidascarece de fontesOs principais recursos naturais do pais sao carvao mineral cobre minerio de ferro litio uranio terrarara cromita ouro zinco talco barita enxofre chumbo marmore pedras preciosas e semipreciosas gas natural petroleo entre outras coisas Em 2010 funcionarios do Estados Unidos e Afeganistao estimaram que os depositos minerais inexplorados localizados em 2007 pelo Servico Geologico dos Estados Unidos valem entre US900 bilhoes e US3 trilhoesTem 652 230 km2 sendo entao o 41deg maior pais do mundo pouco maior que a Franca e menor que Myanmar Faz fronteira com o Paquistao no sul e no leste o Ira a oeste Turcomenistao Uzbequistao e Tajiquistao no norte e a Republica Popular da China no extremo orientecarece de fontes\n",
      " Demografia \n",
      "Com a capital em Cabul e uma area de 647 500 km2 e 32 milhoes de habitantes 46 habkm2 o Afeganistao e um dos paises mais pobres e inospitos do mundo A instabilidade politica e os conflitos internos arruinaram a sua ja debil economia e infraestruturas a tal ponto que um terco da populacao afega abandonou o paiscarece de fontesSegundo uma estimativa de 2006 a populacao cresce 267 ao ano O indice de natalidade e de 466 a cada 1000 habitantes enquanto o indice de mortalidade e 2034 a cada 1000 habitantes A taxa de mortalidade infantil e de 16023 mortes a cada 1000 nascimentos A expectativa de vida e de 4334 anoscarece de fontesEm 2001 o pais tinha diferentes grupos etnicos Os pachtuns que tradicionalmente dominaram o pais eram 52 por cento da populacao os hazaras eram 19 por cento os tajiques que habitavam a porcao mais ao norte eram 21 por cento os uzbeques que tambem habitavam no norte eram 5 por cento\n",
      " Religiao \n",
      "Mais de 99 da populacao afega e muculmana Cerca de 80 a 85 destes sao seguidores do ramo sunita e entre 15 a 20 sao seguidores do ramo xiita ramo do islamismo predominante entre os hazaras Ha ainda outros 3 de muculmanos nao confessionais Ate a decada de 1890 a regiao em torno de Nuristao era conhecida como Cafiristao terra dos cafires ou cafir  incredulos por causa de seus habitantes nao muculmanos o nuristanis um povo etnicamente distinto cujas praticas religiosas incluiam o animismo politeismo e xamanismo Ha pequenas minorias de cristaos budistas parsis sikhs e hindusO Afeganistao e um dos varios paises islamicos que preve a pena de morte por apostasia ou blasfemia\n",
      " Criminalidade \n",
      "O crime esta presente em varias formas As formas de criminalidade incluem o narcotrafico o branqueamento de capitais fraude corrupcao etccarece de fontesO Afeganistao e o maior produtor mundial de opio De 80 a 90 da heroina consumida na Europa provem de opio produzido no Afeganistao O trafico de opio tornouse um importante negocio ilegal no Afeganistao desde a queda do regime taliba em 2001 De acordo com um inquerito realizado em 2007 pelo Escritorio das Nacoes Unidas contra a Droga e o Crime UNODC 93 dos opiaceos no mercado mundial tiveram origem no Afeganistaocarece de fontesOutras formas de criminalidade incluem roubo bem como sequestros e assaltoscarece de fontes\n",
      " Politica \n",
      "Em 27 de setembro de 1996 as forcas talibas constituidas de exestudantes derrubaram o presidente capturaram a capital Cabul e passaram a controlar grande parte do pais Em novembro desse ano outras faccoes negociavam um governo nacional de coalizaocarece de fontesO primeiro presidente do Afeganistao postaliba Hamid Karzai foi escolhido pelo governo dos Estados Unidos para dirigir um governo interino apos a queda dos Talibancarece de fontes\n",
      "Foram realizadas eleicoes a 9 de Outubro de 2004 com mais de 10 milhoes de afegaos registrados para votar mas a maioria dos 17 candidatos da oposicao nao reconheceu o resultado das eleicoes alegando fraude uma comissao independente encontrou evidencias de fraude mas considerou que isto nao teria afectado os resultados Karzai obteve 554 dos votos e foi empossado como presidente a 7 de Dezembro Estas foram as primeiras eleicoes desde 1969 quando houve eleicoes para o parlamentocarece de fontesO governo de Karzai incluia membros da Alianca do Norte um grupo politico formado por elementos de diferentes regioes e grupos etnicos nomeados pela Loya jirga  conselho ligado as antigas tradicoes afegas inicialmente constituido por membros da etnia Pashtun majoritaria e foi formado por diferentes lideres regionais e tribais autoridades politicas militares e religiosas funcionarios do governo etccarece de fontesEm 2014 apos um conturbado processo Ashraf Ghani foi eleito e empossado presidente do pais\n",
      " Direitos Humanos \n",
      "A Amnistia Internacional tem documentado tortura e maustratos em numerosas instalacoes de detencao no Afeganistao Jornalistas foram presos espancados ou mortos A pena de morte e muitas vezes aplicada Muitas criancas sofrem casamentos forcados e a violencia domestica e generalizadaHa tambem abuso infantil e abuso sexual de criancas atraves da pratica dos  Bacha BaziAte a data os Hazara no Afeganistao sao discriminados e perseguidosDe acordo com a ONG  Global Rights cerca de  90 das mulheres afegas sofren abusos fisicos e sexuais abuso psicologico e casamentos forcados habitualmente as maos da propria familiaEm 2012 o Afeganistao registou 240 casos de crimes de honra muito embora se acredite que o numero real de casos e muito maior Destes crimes reportados 21 foram cometidos pelos maridos das vitimas 7 pelos seus irmaos 4 pelos pais e os restantes por outros  familiares A Comissao Independente dos Direitos Humanos do Afeganistao AIHRC chegou tambem a conclusao de que 15 dos crimes de honra e violacoes  foram cometidos por policiais afegaos A AIHRC tambem afirmou que as instituicoes judiciarias culpam as vitimas de violacao  pelo crime e as condenam como castigoApesar dos testes de virgindade terem sido proibidos em 2016 continuam a ser efectuados e caso o resultado nao seja o que se espera as mulheres afegas podem ser presas ou executadas\n",
      " Simbolos nacionais \n",
      "A bandeira nacional foi adaptada pelo governo de transicao em 2002 A bandeira e um rectangulo com proporcoes de 12 dividida em tres barras verticais de igual largura e de cores preta a tralha vermelha ao centro e verde ao batente No centro da barra vermelha o simbolo tradicional do Afeganistao com uma mesquita no centrocarece de fontesO brasao de armas tem aparecido de alguma forma sobre a Bandeira do Afeganistao desde o inicio da nacao A mais notavel ausencia foi durante a decada de 1980 quando um regime comunista dominou o pais e nos finais dos anos 1990 durante o Estado do Talibacarece de fontesA mais recente alteracao do brasao de armas foi a insercao da inscricao das shahada em arabe no topo do mesmo Abaixo esta uma imagem de uma mesquita com um mehrab que se confronta com um local de oracao em Meca Anexa a mesquita estao duas bandeiras tomadas de posicao das bandeiras do Afeganistao Abaixo da mesquita encontrase uma inscricao que indica o nome da nacao Em torno da mesquita esta uma grinalda vegetalcarece de fontesSorude Melli em persa srwdy mly Hino nacional e o hino nacional adoptado em 2006 De acordo com o artigo 20 da constituicao do Afeganistao O hino nacional devera ser em pachto e tera a mencao Ala e o maior assim como os nomes das etnias do Afeganistao\n",
      " Subdivisoes \n",
      "O Afeganistao subdividese em 34 provincias\n",
      " Economia \n",
      "O Afeganistao e um pais extremamente pobre muito dependente da agricultura principalmente da papoula  materiaprima do opio e da criacao de gado A economia sofreu fortemente com a recente agitacao politica e militar e uma severa seca veio se juntar as dificuldades da nacao entre 1998 e 2001 A maior parte da populacao continua a ter alimentacao vestuario alojamento e cuidados de saude insuficientes e estes problemas sao agravados pelas operacoes militares e pela incerteza politica A inflacao continua a ser um problema seriocarece de fontesDepois do ataque da coligacao liderada pelos Estados Unidos que levou a derrota dos Taliba em Novembro de 2001 e a formacao da Autoridade Afega Interina AAI resultante do acordo de Bona de Dezembro de 2001 os esforcos internacionais para reconstruir o Afeganistao foram o tema da Conferencia de Doadores de Toquio para a Reconstrucao do Afeganistao em Janeiro de 2002 onde foram atribuidos 45 bilhoes de dolares a um fundo a ser administrado pelo Banco Mundial As areas prioritarias de reconstrucao sao a construcao de instalacoes de educacao saude e saneamento o aumento das capacidades de administracao o desenvolvimento de setores agricolas e o de reconstrucao das ligacoes rodoviarias energeticas e de telecomunicacoes Dois tercos da populacao vivem com menos de dois dolares por dia A taxa de mortalidade infantil e de 16023 por 1000 nascimentoscarece de fontes\n",
      " Infraestrutura \n",
      " Educacao \n",
      "A partir de 2006 mais de quatro milhoes de estudantes de ambos os sexos estavam matriculados em escolas por todo o pais No entanto ainda existem obstaculos significativos a educacao no Afeganistao decorrentes da falta de financiamento edificios escolares inseguros e normas culturais A falta de professoras e uma questao que diz respeito a alguns pais afegaos especialmente em areas mais conservadoras Alguns pais ainda nao permitem que as suas filhas sejam ensinadas por homenscarece de fontesAlfabetizacao de toda a populacao esta estimada em 1999 em 36 a taxa de alfabetizacao do sexo masculino e de 51 e do feminino 21 Ate agora existem 9500 escolas no paiscarece de fontesOutro aspecto da educacao que esta mudando rapidamente no Afeganistao e a cara do ensino superior Apos a queda do regime taliba a Universidade de Cabul foi reaberta para estudantes de ambos os sexos Em 2006 a Universidade Americana do Afeganistao tambem abriu suas portas com o objectivo de proporcionar um mundo de classe Ingles como lingua a coaprendizagem ambiente educacional no Afeganistao A universidade aceita alunos provenientes do Afeganistao e os paises vizinhos Trabalhos de construcao vao comecar em breve no novo sitio selecionado para a Universidade de Balkh em Mazari Sharif O novo edificio para a universidade incluindo o edificio para o Departamento de Engenharia seria construido em 600 acres 24 km 2 de terras ao custo de 250 milhoes de dolares americanoscarece de fontes\n",
      " Cultura \n",
      " Ver tambem \n",
      "Lista de Estados soberanos\n",
      "Lista de Estados soberanos e territorios dependentes da Asia\n",
      "Missoes diplomaticas do Afeganistao\n",
      "Forcas Armadas do Afeganistao\n",
      "Invasoes do Afeganistao\n",
      " Referencias \n",
      " Ligacoes externas \n",
      "Library of CongressA Country Study Afghanistan\n"
     ]
    }
   ],
   "source": [
    "for sentence in corpora['Afeganistão']['tokenized']:\n",
    "    print(sentence)"
   ]
  },
  {
   "cell_type": "code",
   "execution_count": null,
   "metadata": {},
   "outputs": [],
   "source": []
  }
 ],
 "metadata": {
  "kernelspec": {
   "display_name": "Python 3",
   "language": "python",
   "name": "python3"
  },
  "language_info": {
   "codemirror_mode": {
    "name": "ipython",
    "version": 3
   },
   "file_extension": ".py",
   "mimetype": "text/x-python",
   "name": "python",
   "nbconvert_exporter": "python",
   "pygments_lexer": "ipython3",
   "version": "3.5.2"
  }
 },
 "nbformat": 4,
 "nbformat_minor": 2
}
