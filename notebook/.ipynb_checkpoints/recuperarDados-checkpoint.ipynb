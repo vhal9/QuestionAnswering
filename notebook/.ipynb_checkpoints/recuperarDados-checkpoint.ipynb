{
 "cells": [
  {
   "cell_type": "code",
   "execution_count": 1,
   "metadata": {},
   "outputs": [],
   "source": [
    "import pandas as pd"
   ]
  },
  {
   "cell_type": "code",
   "execution_count": 2,
   "metadata": {},
   "outputs": [
    {
     "name": "stderr",
     "output_type": "stream",
     "text": [
      "/home/victorhugo/Documentos/Faculdade/IC/ICENV/lib/python3.5/site-packages/ipykernel_launcher.py:1: ParserWarning: Falling back to the 'python' engine because the 'c' engine does not support skipfooter; you can avoid this warning by specifying engine='python'.\n",
      "  \"\"\"Entry point for launching an IPython kernel.\n"
     ]
    }
   ],
   "source": [
    "database = pd.read_csv('../data/questions.csv', usecols=['Entidades Buscadas'], skipfooter=24)"
   ]
  },
  {
   "cell_type": "code",
   "execution_count": 3,
   "metadata": {},
   "outputs": [],
   "source": [
    "entidades = []\n",
    "for row in database:\n",
    "    entidades.extend(database[row])"
   ]
  },
  {
   "cell_type": "markdown",
   "metadata": {},
   "source": [
    "# Buscando dados"
   ]
  },
  {
   "cell_type": "code",
   "execution_count": 4,
   "metadata": {},
   "outputs": [],
   "source": [
    "from datasearch import wikidata"
   ]
  },
  {
   "cell_type": "code",
   "execution_count": 5,
   "metadata": {},
   "outputs": [],
   "source": [
    "api = wikidata.searching.Searching()"
   ]
  },
  {
   "cell_type": "markdown",
   "metadata": {},
   "source": [
    "# Pesquisando sobre as entidades"
   ]
  },
  {
   "cell_type": "code",
   "execution_count": 6,
   "metadata": {},
   "outputs": [],
   "source": [
    "data = {}\n",
    "for entidade in entidades:\n",
    "    data[entidade] = api.entitie(entidade).json()['search']"
   ]
  },
  {
   "cell_type": "code",
   "execution_count": 7,
   "metadata": {},
   "outputs": [
    {
     "data": {
      "text/plain": [
       "'http://www.wikidata.org/entity/Q8331'"
      ]
     },
     "execution_count": 7,
     "metadata": {},
     "output_type": "execute_result"
    }
   ],
   "source": [
    "data['Raposa'][0]['concepturi']"
   ]
  },
  {
   "cell_type": "markdown",
   "metadata": {},
   "source": [
    "## Funçao Get Entities"
   ]
  },
  {
   "cell_type": "code",
   "execution_count": 8,
   "metadata": {},
   "outputs": [
    {
     "name": "stdout",
     "output_type": "stream",
     "text": [
      "http://www.wikidata.org/entity/Q501121 Q501121 Q501121\n",
      "http://www.wikidata.org/entity/Q889 Q889 Q889\n",
      "http://www.wikidata.org/entity/Q11468 Q11468 Q11468\n",
      "http://www.wikidata.org/entity/Q8331 Q8331 Q8331\n",
      "http://www.wikidata.org/entity/Q192783 Q192783 Q192783\n",
      "http://www.wikidata.org/entity/Q1001 Q1001 Q1001\n",
      "http://www.wikidata.org/entity/Q2685 Q2685 Q2685\n",
      "http://www.wikidata.org/entity/Q19900 Q19900 Q19900\n",
      "http://www.wikidata.org/entity/Q142794 Q142794 Q142794\n",
      "http://www.wikidata.org/entity/Q10387826 Q10387826 Q10387826\n",
      "http://www.wikidata.org/entity/Q143912 Q143912 Q143912\n",
      "http://www.wikidata.org/entity/Q2604982 Q2604982 Q2604982\n"
     ]
    }
   ],
   "source": [
    "'''para consultar a entidade necessita do link e do Qid'''\n",
    "dataEntities = {}\n",
    "for entitie in data:\n",
    "    site = data[entitie][0]['concepturi']\n",
    "    id = data[entitie][0]['id']\n",
    "    title = data[entitie][0]['title']\n",
    "    print(site, id, title)\n",
    "    dataEntities[entitie] = api.getEntitie(id, site, title).json()['entities']"
   ]
  },
  {
   "cell_type": "code",
   "execution_count": 9,
   "metadata": {},
   "outputs": [],
   "source": [
    "for entitie in dataEntities['Mahatma Gandhi']:\n",
    "    key = entitie"
   ]
  },
  {
   "cell_type": "code",
   "execution_count": 10,
   "metadata": {},
   "outputs": [
    {
     "data": {
      "text/plain": [
       "9627"
      ]
     },
     "execution_count": 10,
     "metadata": {},
     "output_type": "execute_result"
    }
   ],
   "source": [
    "dataEntities['Raposa']['Q8331']['pageid']"
   ]
  },
  {
   "cell_type": "code",
   "execution_count": 11,
   "metadata": {},
   "outputs": [
    {
     "data": {
      "text/plain": [
       "{'af': {'language': 'af', 'value': 'Indiese politieke en godsdienstige leier'},\n",
       " 'am': {'language': 'am', 'value': 'የህንድ የፓለቲካ እና የሃይማኖት መሪ'},\n",
       " 'ang': {'language': 'ang', 'value': 'Indian political and religious leader'},\n",
       " 'ar': {'language': 'ar', 'value': 'الزعيم السياسي والديني الهندي'},\n",
       " 'arz': {'language': 'arz', 'value': 'الزعيم السياسي والديني الهندي'},\n",
       " 'ast': {'language': 'ast', 'value': 'líder políticu y relixosu de la India'},\n",
       " 'bar': {'language': 'bar',\n",
       "  'value': 'Indischa politischa und religiösa Führa'},\n",
       " 'be': {'language': 'be', 'value': 'Індыйскі палітычны і рэлігійны лідэр'},\n",
       " 'bg': {'language': 'bg', 'value': 'Индийски политически и религиозен лидер'},\n",
       " 'bho': {'language': 'bho', 'value': 'भारतीय नेता'},\n",
       " 'bn': {'language': 'bn',\n",
       "  'value': 'ব্রিটিশ শাসন আমলে ভারতীয় জাতীয়তাবাদী আন্দোলনের প্রধান নেতা'},\n",
       " 'bs': {'language': 'bs', 'value': 'Indijski politički i verski lider'},\n",
       " 'ca': {'language': 'ca', 'value': 'líder polític i religiós indi'},\n",
       " 'co': {'language': 'co', 'value': 'capu puliticu puliticu indianu'},\n",
       " 'cs': {'language': 'cs', 'value': 'indický politik'},\n",
       " 'cy': {'language': 'cy',\n",
       "  'value': 'arweinydd gwleidyddol a chrefyddol Indiaidd'},\n",
       " 'da': {'language': 'da', 'value': 'Indisk politisk og religiøs leder'},\n",
       " 'de': {'language': 'de',\n",
       "  'value': 'Indischer politischer und religiöser Führer und Rechtsanwalt'},\n",
       " 'de-at': {'language': 'de-at',\n",
       "  'value': 'Indischer politischer und religiöser Führer'},\n",
       " 'de-ch': {'language': 'de-ch',\n",
       "  'value': 'Indischer politischer und religiöser Führer'},\n",
       " 'el': {'language': 'el', 'value': 'Ινδός πολιτικός και θρησκευτικός ηγέτης'},\n",
       " 'en': {'language': 'en',\n",
       "  'value': 'pre-eminent leader of Indian nationalism during the British Raj'},\n",
       " 'en-ca': {'language': 'en-ca',\n",
       "  'value': 'Indian political and religious leader'},\n",
       " 'en-gb': {'language': 'en-gb',\n",
       "  'value': 'Indian political and religious leader'},\n",
       " 'eo': {'language': 'eo', 'value': 'barata filozofo, politikisto (1869-1948)'},\n",
       " 'es': {'language': 'es',\n",
       "  'value': 'líder político y filósofo indio que abogaba por la Paz'},\n",
       " 'et': {'language': 'et', 'value': 'India poliitiline ja religioosne liider'},\n",
       " 'eu': {'language': 'eu',\n",
       "  'value': 'Indiaren independentziako ekintzaile eta buruzagia'},\n",
       " 'fa': {'language': 'fa', 'value': 'رهبر سیاسی و مذهبی هند'},\n",
       " 'fi': {'language': 'fi', 'value': 'Intian itsenäisyysliikkeen johtaja'},\n",
       " 'fr': {'language': 'fr', 'value': 'leader politique et religieux indien'},\n",
       " 'ga': {'language': 'ga',\n",
       "  'value': 'ceannaire polaitiúil agus reiligiúnach Indiach'},\n",
       " 'gl': {'language': 'gl', 'value': 'avogado, pensador e político indio'},\n",
       " 'gsw': {'language': 'gsw',\n",
       "  'value': 'Indischer politischer und religiöser Führer'},\n",
       " 'gu': {'language': 'gu', 'value': 'જગપ્રસિદ્ધ ભારતીય રાષ્ટ્રવાદી નેતા'},\n",
       " 'he': {'language': 'he', 'value': 'מנהיג פוליטי ורוחני הודי'},\n",
       " 'hi': {'language': 'hi',\n",
       "  'value': 'भारतीय स्वतंत्रता आंदोलन के एक प्रमुख राजनैतिक एवं आध्यात्मिक नेता'},\n",
       " 'hif': {'language': 'hif', 'value': 'भारतीय राजनीतिक और धार्मिक नेता'},\n",
       " 'hr': {'language': 'hr', 'value': 'Indijski politički i vjerski vođa'},\n",
       " 'ht': {'language': 'ht', 'value': 'Ameriken lidè politik ak relijye'},\n",
       " 'hu': {'language': 'hu', 'value': 'indiai politikai, spirituális vezető'},\n",
       " 'hy': {'language': 'hy', 'value': 'Հնդկական քաղաքական եւ կրոնական առաջնորդը'},\n",
       " 'id': {'language': 'id',\n",
       "  'value': 'seoang politikus India | Aktivis dan pejuang HAM-Perdamaian asal India'},\n",
       " 'ilo': {'language': 'ilo',\n",
       "  'value': 'preeminente a daulo ti Indiano a nationalismo idi las-ud ti Britaniko a panagturay ti India'},\n",
       " 'it': {'language': 'it', 'value': 'politico, filosofo e avvocato indiano'},\n",
       " 'ja': {'language': 'ja', 'value': 'インドの政治指導者'},\n",
       " 'jv': {'language': 'jv', 'value': 'pimpinan politik lan agama India'},\n",
       " 'ka': {'language': 'ka', 'value': 'ინდური პოლიტიკური და რელიგიური ლიდერი'},\n",
       " 'kk': {'language': 'kk', 'value': 'Үнді саяси және діни көшбасшы'},\n",
       " 'kn': {'language': 'kn',\n",
       "  'value': 'ಭಾರತೀಯ ಸ್ವಾತಂತ್ರ್ಯ ಹೋರಾಟದ ಶ್ರೇಷ್ಠ ನಾಯಕ ಹಾಗೂ ಧೀಮಂತ ನಾಯಕ ಸ್ವರಾಜ್ಯ'},\n",
       " 'ko': {'language': 'ko', 'value': '인도의 독립운동가 겸 법률가, 정치인'},\n",
       " 'ku': {'language': 'ku', 'value': 'Rêberê siyasî û olî ya Hindistanê'},\n",
       " 'ky': {'language': 'ky', 'value': 'Индиялык саясий жана диний лидери'},\n",
       " 'la': {'language': 'la', 'value': 'politica et religionis Dux Indian'},\n",
       " 'lb': {'language': 'lb', 'value': 'Indeschen politeschen a reliéise Leader'},\n",
       " 'lo': {'language': 'lo', 'value': 'ຜູ້ນໍາດ້ານການເມືອງແລະສາສະຫນາຂອງອິນເດຍ'},\n",
       " 'lt': {'language': 'lt', 'value': 'Indijos politinis ir religinis lyderis'},\n",
       " 'lv': {'language': 'lv', 'value': 'Indijas politiskā un reliģiskā vadītāja'},\n",
       " 'lzh': {'language': 'lzh', 'value': '印度政治和宗教領袖'},\n",
       " 'mk': {'language': 'mk', 'value': 'индиски општественик'},\n",
       " 'ml': {'language': 'ml',\n",
       "  'value': 'ഇന്ത്യയുടെ \"രാഷ്ട്രപിതാവ്\".ഇന്ത്യൻ സ്വാതന്ത്ര്യസമര പ്രസ്ഥാനത്തിന്റെ നേതാവും വഴികാട്ടിയും.'},\n",
       " 'mn': {'language': 'mn', 'value': 'энэтхэгийн улс төр, шашны удирдагч'},\n",
       " 'mr': {'language': 'mr', 'value': 'भारतीय स्वातंत्र्यलढयातील अग्रणी नेते'},\n",
       " 'nb': {'language': 'nb', 'value': 'indisk frigjøringsleder og statsmann'},\n",
       " 'ne': {'language': 'ne',\n",
       "  'value': 'भारतमा बेलायती शासनको बिरूद्धको स्वतन्त्रता सङ्ग्रामका अग्रणी भारतीय राष्ट्रवादी नेता'},\n",
       " 'nl': {'language': 'nl', 'value': 'Indiaas politicus (1869-1948)'},\n",
       " 'or': {'language': 'or', 'value': 'ଭାରତୀୟ ସ୍ୱାଧୀନତା ସଂଗ୍ରାମୀ'},\n",
       " 'pa': {'language': 'pa',\n",
       "  'value': 'ਬ੍ਰਿਟਿਸ਼-ਰਾਜ ਦੌਰਾਨ ਭਾਰਤੀ ਰਾਸ਼ਟਰਵਾਦ ਦੇ ਪ੍ਰਸਿੱਧ ਨੇਤਾ'},\n",
       " 'pl': {'language': 'pl',\n",
       "  'value': 'Indyjski przywódca polityczny i religijny'},\n",
       " 'pt': {'language': 'pt', 'value': 'líder político e religioso indiano'},\n",
       " 'pt-br': {'language': 'pt-br', 'value': 'líder político e religioso indiano'},\n",
       " 'qu': {'language': 'qu', 'value': 'taripay amachaq wan pulitiku'},\n",
       " 'ro': {'language': 'ro', 'value': 'lider politic și religios indian'},\n",
       " 'ru': {'language': 'ru',\n",
       "  'value': 'один из руководителей и идеологов движения за независимость Индии от Великобритании'},\n",
       " 'sco': {'language': 'sco',\n",
       "  'value': 'ceannard poilitigeach agus cràbhach nan Innseachan'},\n",
       " 'si': {'language': 'si', 'value': 'ඉන්දීය නිදහස් සටනේ පෙරගමන් කරුවෙක්'},\n",
       " 'sk': {'language': 'sk', 'value': 'indický mysliteľ a politik'},\n",
       " 'sl': {'language': 'sl', 'value': 'Indijski politični in verski vodja'},\n",
       " 'so': {'language': 'so',\n",
       "  'value': 'hogaamiye siyaasadeed iyo diineed ee India'},\n",
       " 'sq': {'language': 'sq', 'value': 'udhëheqësi politik dhe fetar indian'},\n",
       " 'sr': {'language': 'sr', 'value': 'Индијски политички и верски лидер'},\n",
       " 'sv': {'language': 'sv', 'value': 'Indisk politiker och andlig ledare'},\n",
       " 'ta': {'language': 'ta', 'value': 'விடுதலைப் போராட்ட வீரர்'},\n",
       " 'te': {'language': 'te', 'value': 'భారతదేశ జాతిపిత, స్వాతంత్ర్య సమర యోధులు.'},\n",
       " 'th': {'language': 'th', 'value': 'ผู้นำทางการเมืองและศาสนาอินเดีย'},\n",
       " 'tr': {'language': 'tr', 'value': 'Hintli politik ve dini lider'},\n",
       " 'uk': {'language': 'uk',\n",
       "  'value': 'один з керівників та ідеологів руху за незалежність Індії від Великої Британії'},\n",
       " 'ur': {'language': 'ur',\n",
       "  'value': 'ہندوستانی تحریک آزادی کے رہنما، سیاست دان، فعالیت پسند، وکیل، مصنف'},\n",
       " 'uz': {'language': 'uz', 'value': 'Hindistonning siyosiy va diniy rahbari'},\n",
       " 'vi': {'language': 'vi', 'value': 'nhà lãnh đạo chính trị và tôn giáo Ấn Độ'},\n",
       " 'zh': {'language': 'zh', 'value': '印度政治和宗教領袖'},\n",
       " 'zh-cn': {'language': 'zh-cn', 'value': '印度政治和宗教領袖'},\n",
       " 'zh-hans': {'language': 'zh-hans', 'value': '印度民族主义运动和国大党领袖'},\n",
       " 'zh-hant': {'language': 'zh-hant', 'value': '印度政治和宗教領袖'},\n",
       " 'zh-tw': {'language': 'zh-tw',\n",
       "  'value': '他是印度民族主義運動和國大黨領袖，帶領印度邁向獨立，脫離英國殖民地統治。他的非暴力哲學思想影響了全世界的民族主義者和那些爭取和平變革的國際運動。'}}"
      ]
     },
     "execution_count": 11,
     "metadata": {},
     "output_type": "execute_result"
    }
   ],
   "source": [
    "dataEntities['Mahatma Gandhi']['Q1001']['descriptions']"
   ]
  },
  {
   "cell_type": "code",
   "execution_count": 12,
   "metadata": {},
   "outputs": [
    {
     "data": {
      "text/plain": [
       "'O Arco do Triunfo é um monumento localizado na cidade de Paris.'"
      ]
     },
     "execution_count": 12,
     "metadata": {},
     "output_type": "execute_result"
    }
   ],
   "source": [
    "dataEntities['Arco do Triunfo']['Q143912']['descriptions']['pt-br']['value']"
   ]
  },
  {
   "cell_type": "code",
   "execution_count": 13,
   "metadata": {},
   "outputs": [
    {
     "data": {
      "text/plain": [
       "'universidade pública federal em Lavras, Minas Gerais'"
      ]
     },
     "execution_count": 13,
     "metadata": {},
     "output_type": "execute_result"
    }
   ],
   "source": [
    "dataEntities['UFLA']['Q10387826']['descriptions']['pt']['value']"
   ]
  },
  {
   "cell_type": "markdown",
   "metadata": {},
   "source": [
    "# Inserir dados no banco de dados\n",
    "### Informações:\n",
    "- id\n",
    "- name\n",
    "- desc\n",
    "- pageid\n",
    "- url"
   ]
  },
  {
   "cell_type": "code",
   "execution_count": 14,
   "metadata": {},
   "outputs": [
    {
     "name": "stdout",
     "output_type": "stream",
     "text": [
      "Nárnia\n",
      "['Q501121']\n",
      "{'name': 'Nárnia', 'id': 'Q501121', 'desc': 'fantasy world created by C.S. Lewis, setting of The Chronicles of Narnia', 'url': 'http://www.wikidata.org/entity/Q501121', 'pageid': '471359'}\n",
      "Afeganistão\n",
      "['Q889']\n",
      "{'name': 'Afeganistão', 'id': 'Q889', 'desc': 'país no Sul da Ásia', 'url': 'http://www.wikidata.org/entity/Q889', 'pageid': '1211'}\n",
      "Nanotecnologia\n",
      "['Q11468']\n",
      "{'name': 'nanotecnologia', 'id': 'Q11468', 'desc': 'field of applied science whose theme is the control of matter on atomic and (supra)molecular scale', 'url': 'http://www.wikidata.org/entity/Q11468', 'pageid': '12985'}\n",
      "Raposa\n",
      "['Q8331']\n",
      "{'name': 'Raposa', 'id': 'Q8331', 'desc': 'small to medium-sized omnivorous mammal belonging to the family Canidae', 'url': 'http://www.wikidata.org/entity/Q8331', 'pageid': '9627'}\n",
      "Donut\n",
      "['Q192783']\n",
      "{'name': 'rosquinha', 'id': 'Q192783', 'desc': 'pequeno bolo em forma de rosca', 'url': 'http://www.wikidata.org/entity/Q192783', 'pageid': '190917'}\n",
      "Mahatma Gandhi\n",
      "['Q1001']\n",
      "{'name': 'Mahatma Gandhi', 'id': 'Q1001', 'desc': 'líder político e religioso indiano', 'url': 'http://www.wikidata.org/entity/Q1001', 'pageid': '1330'}\n",
      "Arnold Schwarzenegger\n",
      "['Q2685']\n",
      "{'name': 'Arnold Schwarzenegger', 'id': 'Q2685', 'desc': 'ator', 'url': 'http://www.wikidata.org/entity/Q2685', 'pageid': '3657'}\n",
      "Oracle\n",
      "['Q19900']\n",
      "{'name': 'Oracle Corporation', 'id': 'Q19900', 'desc': 'American multinational computer technology corporation', 'url': 'http://www.wikidata.org/entity/Q19900', 'pageid': '23162'}\n",
      "Neymar\n",
      "['Q142794']\n",
      "{'name': 'Neymar', 'id': 'Q142794', 'desc': 'futebolista brasileiro', 'url': 'http://www.wikidata.org/entity/Q142794', 'pageid': '144444'}\n",
      "UFLA\n",
      "['Q10387826']\n",
      "{'name': 'Universidade Federal de Lavras', 'id': 'Q10387826', 'desc': 'universidade pública federal em Lavras, Minas Gerais', 'url': 'http://www.wikidata.org/entity/Q10387826', 'pageid': '11692250'}\n",
      "Arco do Triunfo\n",
      "['Q143912']\n",
      "{'name': 'arco do triunfo', 'id': 'Q143912', 'desc': 'O Arco do Triunfo é um monumento localizado na cidade de Paris.', 'url': 'http://www.wikidata.org/entity/Q143912', 'pageid': '145548'}\n",
      "LexCorp\n",
      "['Q2604982']\n",
      "{'name': 'LexCorp', 'id': 'Q2604982', 'desc': 'fictional company appearing in DC Comics', 'url': 'http://www.wikidata.org/entity/Q2604982', 'pageid': '2512932'}\n"
     ]
    }
   ],
   "source": [
    "entities = []\n",
    "for entitie in dataEntities:\n",
    "    information = {'id':'', 'name':'', 'desc':'', 'pageid':'', 'url':''}\n",
    "    '''get id'''\n",
    "    id = [id  for id in dataEntities[entitie]]\n",
    "    information['id'] = id[0]\n",
    "    '''get name'''\n",
    "    try:\n",
    "        information['name'] = dataEntities[entitie][id[0]]['labels']['pt-br']['value']\n",
    "        pass\n",
    "    except Exception as e:\n",
    "        try:\n",
    "            information['name'] = dataEntities[entitie][id[0]]['labels']['pt']['value']\n",
    "        except Exception as e:\n",
    "            try:\n",
    "                information['name'] = dataEntities[entitie][id[0]]['labels']['en']['value']\n",
    "                pass\n",
    "            except Exception as e:\n",
    "                information['name'] = 'desconhecido'\n",
    "    print(entitie)\n",
    "    print(id)\n",
    "    '''get pageid'''\n",
    "    information['pageid'] = str(dataEntities[entitie][id[0]]['pageid'])\n",
    "    '''get url'''\n",
    "    information['url'] = data[entitie][0]['concepturi']\n",
    "    '''get desc'''\n",
    "    try:\n",
    "        information['desc'] = dataEntities[entitie][id[0]]['descriptions']['pt-br']['value']\n",
    "        pass\n",
    "    except Exception as e:\n",
    "        try:\n",
    "            information['desc'] = dataEntities[entitie][id[0]]['descriptions']['pt']['value']\n",
    "            pass\n",
    "        except Exception as e:\n",
    "            information['desc'] = dataEntities[entitie][id[0]]['descriptions']['en']['value']\n",
    "    print(information)\n",
    "    #information['name'] = dataEntities[entitie][id]\n",
    "    #information['desc'] = \n",
    "    #information['pageid'] =\n",
    "    #information['url'] =\n",
    "    entities.append(information)"
   ]
  },
  {
   "cell_type": "markdown",
   "metadata": {},
   "source": [
    "### Inserir os dados das entidades no banco de dados"
   ]
  },
  {
   "cell_type": "code",
   "execution_count": 15,
   "metadata": {},
   "outputs": [],
   "source": [
    "from database import database"
   ]
  },
  {
   "cell_type": "code",
   "execution_count": 16,
   "metadata": {},
   "outputs": [],
   "source": [
    "db = database.Database()"
   ]
  },
  {
   "cell_type": "code",
   "execution_count": 17,
   "metadata": {
    "scrolled": true
   },
   "outputs": [
    {
     "name": "stdout",
     "output_type": "stream",
     "text": [
      "{'name': 'Nárnia', 'id': 'Q501121', 'desc': 'fantasy world created by C.S. Lewis, setting of The Chronicles of Narnia', 'url': 'http://www.wikidata.org/entity/Q501121', 'pageid': '471359'}\n",
      "{'name': 'Afeganistão', 'id': 'Q889', 'desc': 'país no Sul da Ásia', 'url': 'http://www.wikidata.org/entity/Q889', 'pageid': '1211'}\n",
      "{'name': 'nanotecnologia', 'id': 'Q11468', 'desc': 'field of applied science whose theme is the control of matter on atomic and (supra)molecular scale', 'url': 'http://www.wikidata.org/entity/Q11468', 'pageid': '12985'}\n",
      "{'name': 'Raposa', 'id': 'Q8331', 'desc': 'small to medium-sized omnivorous mammal belonging to the family Canidae', 'url': 'http://www.wikidata.org/entity/Q8331', 'pageid': '9627'}\n",
      "{'name': 'rosquinha', 'id': 'Q192783', 'desc': 'pequeno bolo em forma de rosca', 'url': 'http://www.wikidata.org/entity/Q192783', 'pageid': '190917'}\n",
      "{'name': 'Mahatma Gandhi', 'id': 'Q1001', 'desc': 'líder político e religioso indiano', 'url': 'http://www.wikidata.org/entity/Q1001', 'pageid': '1330'}\n",
      "{'name': 'Arnold Schwarzenegger', 'id': 'Q2685', 'desc': 'ator', 'url': 'http://www.wikidata.org/entity/Q2685', 'pageid': '3657'}\n",
      "{'name': 'Oracle Corporation', 'id': 'Q19900', 'desc': 'American multinational computer technology corporation', 'url': 'http://www.wikidata.org/entity/Q19900', 'pageid': '23162'}\n",
      "{'name': 'Neymar', 'id': 'Q142794', 'desc': 'futebolista brasileiro', 'url': 'http://www.wikidata.org/entity/Q142794', 'pageid': '144444'}\n",
      "{'name': 'Universidade Federal de Lavras', 'id': 'Q10387826', 'desc': 'universidade pública federal em Lavras, Minas Gerais', 'url': 'http://www.wikidata.org/entity/Q10387826', 'pageid': '11692250'}\n",
      "{'name': 'arco do triunfo', 'id': 'Q143912', 'desc': 'O Arco do Triunfo é um monumento localizado na cidade de Paris.', 'url': 'http://www.wikidata.org/entity/Q143912', 'pageid': '145548'}\n",
      "{'name': 'LexCorp', 'id': 'Q2604982', 'desc': 'fictional company appearing in DC Comics', 'url': 'http://www.wikidata.org/entity/Q2604982', 'pageid': '2512932'}\n"
     ]
    }
   ],
   "source": [
    "for entitie in entities:\n",
    "    print(entitie)\n",
    "    db.insertEntitie(entitie)"
   ]
  },
  {
   "cell_type": "markdown",
   "metadata": {},
   "source": [
    "## Extrair propriedades"
   ]
  },
  {
   "cell_type": "code",
   "execution_count": 18,
   "metadata": {},
   "outputs": [],
   "source": [
    "relacoes = []\n",
    "for relacao in dataEntities['Mahatma Gandhi']['Q1001']['claims']:\n",
    "    relacoes.append(relacao)"
   ]
  },
  {
   "cell_type": "code",
   "execution_count": 19,
   "metadata": {},
   "outputs": [
    {
     "data": {
      "text/plain": [
       "['P607',\n",
       " 'P950',\n",
       " 'P734',\n",
       " 'P1207',\n",
       " 'P3630',\n",
       " 'P1006',\n",
       " 'P1340',\n",
       " 'P103',\n",
       " 'P3154',\n",
       " 'P109',\n",
       " 'P7208',\n",
       " 'P535',\n",
       " 'P2799',\n",
       " 'P989',\n",
       " 'P1284',\n",
       " 'P5421',\n",
       " 'P3544',\n",
       " 'P349',\n",
       " 'P22',\n",
       " 'P1225',\n",
       " 'P3222',\n",
       " 'P4343',\n",
       " 'P2959',\n",
       " 'P2373',\n",
       " 'P735',\n",
       " 'P25',\n",
       " 'P1375',\n",
       " 'P2966',\n",
       " 'P2163',\n",
       " 'P213',\n",
       " 'P802',\n",
       " 'P3417',\n",
       " 'P2031',\n",
       " 'P1728',\n",
       " 'P1273',\n",
       " 'P69',\n",
       " 'P1816',\n",
       " 'P18',\n",
       " 'P5361',\n",
       " 'P1477',\n",
       " 'P2561',\n",
       " 'P6351',\n",
       " 'P906',\n",
       " 'P551',\n",
       " 'P1343',\n",
       " 'P1066',\n",
       " 'P6656',\n",
       " 'P1711',\n",
       " 'P569',\n",
       " 'P5375',\n",
       " 'P3847',\n",
       " 'P646',\n",
       " 'P27',\n",
       " 'P1842',\n",
       " 'P3192',\n",
       " 'P409',\n",
       " 'P5731',\n",
       " 'P1005',\n",
       " 'P3065',\n",
       " 'P4431',\n",
       " 'P1899',\n",
       " 'P4200',\n",
       " 'P6886',\n",
       " 'P691',\n",
       " 'P3965',\n",
       " 'P26',\n",
       " 'P3235',\n",
       " 'P1670',\n",
       " 'P1368',\n",
       " 'P140',\n",
       " 'P6984',\n",
       " 'P2639',\n",
       " 'P1741',\n",
       " 'P1309',\n",
       " 'P7311',\n",
       " 'P949',\n",
       " 'P4862',\n",
       " 'P345',\n",
       " 'P2188',\n",
       " 'P1412',\n",
       " 'P1938',\n",
       " 'P4629',\n",
       " 'P910',\n",
       " 'P166',\n",
       " 'P214',\n",
       " 'P3987',\n",
       " 'P4293',\n",
       " 'P509',\n",
       " 'P1187',\n",
       " 'P3762',\n",
       " 'P102',\n",
       " 'P1430',\n",
       " 'P40',\n",
       " 'P1415',\n",
       " 'P3360',\n",
       " 'P4342',\n",
       " 'P244',\n",
       " 'P5002',\n",
       " 'P2949',\n",
       " 'P5019',\n",
       " 'P1953',\n",
       " 'P863',\n",
       " 'P800',\n",
       " 'P1149',\n",
       " 'P1245',\n",
       " 'P570',\n",
       " 'P6573',\n",
       " 'P1580',\n",
       " 'P227',\n",
       " 'P1315',\n",
       " 'P1015',\n",
       " 'P269',\n",
       " 'P3430',\n",
       " 'P3788',\n",
       " 'P172',\n",
       " 'P3846',\n",
       " 'P1296',\n",
       " 'P2850',\n",
       " 'P1263',\n",
       " 'P4619',\n",
       " 'P31',\n",
       " 'P737',\n",
       " 'P157',\n",
       " 'P20',\n",
       " 'P2048',\n",
       " 'P373',\n",
       " 'P1411',\n",
       " 'P2963',\n",
       " 'P135',\n",
       " 'P119',\n",
       " 'P1417',\n",
       " 'P4180',\n",
       " 'P1196',\n",
       " 'P1559',\n",
       " 'P21',\n",
       " 'P511',\n",
       " 'P935',\n",
       " 'P1441',\n",
       " 'P866',\n",
       " 'P5587',\n",
       " 'P1472',\n",
       " 'P3029',\n",
       " 'P1280',\n",
       " 'P101',\n",
       " 'P3280',\n",
       " 'P7029',\n",
       " 'P3909',\n",
       " 'P648',\n",
       " 'P6394',\n",
       " 'P5034',\n",
       " 'P271',\n",
       " 'P1017',\n",
       " 'P5905',\n",
       " 'P6844',\n",
       " 'P434',\n",
       " 'P3348',\n",
       " 'P3219',\n",
       " 'P5008',\n",
       " 'P19',\n",
       " 'P1576',\n",
       " 'P2605',\n",
       " 'P2632',\n",
       " 'P2924',\n",
       " 'P3232',\n",
       " 'P2600',\n",
       " 'P3221',\n",
       " 'P463',\n",
       " 'P268',\n",
       " 'P106']"
      ]
     },
     "execution_count": 19,
     "metadata": {},
     "output_type": "execute_result"
    }
   ],
   "source": [
    "relacoes"
   ]
  },
  {
   "cell_type": "code",
   "execution_count": null,
   "metadata": {},
   "outputs": [],
   "source": []
  }
 ],
 "metadata": {
  "kernelspec": {
   "display_name": "Python 3",
   "language": "python",
   "name": "python3"
  },
  "language_info": {
   "codemirror_mode": {
    "name": "ipython",
    "version": 3
   },
   "file_extension": ".py",
   "mimetype": "text/x-python",
   "name": "python",
   "nbconvert_exporter": "python",
   "pygments_lexer": "ipython3",
   "version": "3.5.2"
  }
 },
 "nbformat": 4,
 "nbformat_minor": 2
}
