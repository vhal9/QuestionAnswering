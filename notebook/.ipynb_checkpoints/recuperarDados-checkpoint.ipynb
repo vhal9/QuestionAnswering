{
 "cells": [
  {
   "cell_type": "code",
   "execution_count": 1,
   "metadata": {},
   "outputs": [],
   "source": [
    "import pandas as pd"
   ]
  },
  {
   "cell_type": "code",
   "execution_count": 2,
   "metadata": {},
   "outputs": [
    {
     "name": "stderr",
     "output_type": "stream",
     "text": [
      "/home/victorhugo/Documentos/Faculdade/IC/ICENV/lib/python3.5/site-packages/ipykernel_launcher.py:1: ParserWarning: Falling back to the 'python' engine because the 'c' engine does not support skipfooter; you can avoid this warning by specifying engine='python'.\n",
      "  \"\"\"Entry point for launching an IPython kernel.\n"
     ]
    }
   ],
   "source": [
    "database = pd.read_csv('../data/questions.csv', usecols=['Entidades Buscadas'], skipfooter=24)"
   ]
  },
  {
   "cell_type": "code",
   "execution_count": 3,
   "metadata": {},
   "outputs": [],
   "source": [
    "entidades = []\n",
    "for row in database:\n",
    "    entidades.extend(database[row])"
   ]
  },
  {
   "cell_type": "markdown",
   "metadata": {},
   "source": [
    "# Buscando dados"
   ]
  },
  {
   "cell_type": "code",
   "execution_count": 4,
   "metadata": {},
   "outputs": [],
   "source": [
    "from datasearch import wikidata"
   ]
  },
  {
   "cell_type": "code",
   "execution_count": 5,
   "metadata": {},
   "outputs": [],
   "source": [
    "api = wikidata.searching.Searching()"
   ]
  },
  {
   "cell_type": "markdown",
   "metadata": {},
   "source": [
    "# Pesquisando sobre as entidades"
   ]
  },
  {
   "cell_type": "code",
   "execution_count": 6,
   "metadata": {},
   "outputs": [],
   "source": [
    "data = {}\n",
    "for entidade in entidades:\n",
    "    data[entidade] = api.entitie(entidade).json()['search']"
   ]
  },
  {
   "cell_type": "code",
   "execution_count": 7,
   "metadata": {},
   "outputs": [
    {
     "data": {
      "text/plain": [
       "'http://www.wikidata.org/entity/Q8331'"
      ]
     },
     "execution_count": 7,
     "metadata": {},
     "output_type": "execute_result"
    }
   ],
   "source": [
    "data['Raposa'][0]['concepturi']"
   ]
  },
  {
   "cell_type": "markdown",
   "metadata": {},
   "source": [
    "## Funçao Get Entities"
   ]
  },
  {
   "cell_type": "code",
   "execution_count": 8,
   "metadata": {},
   "outputs": [],
   "source": [
    "dataEntities = {}\n",
    "for entitie in data:\n",
    "    site = data[entitie][0]['concepturi']\n",
    "    id = data[entitie][0]['id']\n",
    "    title = data[entitie][0]['title']\n",
    "    dataEntities[entitie] = api.getEntitie(id, site, title).json()['entities']"
   ]
  },
  {
   "cell_type": "code",
   "execution_count": 9,
   "metadata": {},
   "outputs": [],
   "source": [
    "for entitie in dataEntities['Mahatma Gandhi']:\n",
    "    key = entitie"
   ]
  },
  {
   "cell_type": "code",
   "execution_count": 10,
   "metadata": {},
   "outputs": [
    {
     "data": {
      "text/plain": [
       "9627"
      ]
     },
     "execution_count": 10,
     "metadata": {},
     "output_type": "execute_result"
    }
   ],
   "source": [
    "dataEntities['Raposa']['Q8331']['pageid']"
   ]
  },
  {
   "cell_type": "code",
   "execution_count": 11,
   "metadata": {},
   "outputs": [
    {
     "name": "stdout",
     "output_type": "stream",
     "text": [
      "lv\n",
      "ko\n",
      "uz\n",
      "cs\n",
      "pt\n",
      "ar\n",
      "ht\n",
      "vi\n",
      "el\n",
      "de\n",
      "gu\n",
      "arz\n",
      "nl\n",
      "es\n",
      "ur\n",
      "en\n",
      "sv\n",
      "af\n",
      "en-ca\n",
      "zh-cn\n",
      "bho\n",
      "zh-hans\n",
      "mk\n",
      "co\n",
      "sk\n",
      "hu\n",
      "kn\n",
      "lzh\n",
      "lt\n",
      "de-ch\n",
      "sl\n",
      "hr\n",
      "hy\n",
      "eo\n",
      "ka\n",
      "ta\n",
      "ku\n",
      "be\n",
      "ro\n",
      "lo\n",
      "hi\n",
      "sr\n",
      "de-at\n",
      "ca\n",
      "gsw\n",
      "la\n",
      "te\n",
      "ilo\n",
      "zh\n",
      "lb\n",
      "pa\n",
      "hif\n",
      "cy\n",
      "mn\n",
      "gl\n",
      "fr\n",
      "mr\n",
      "ang\n",
      "eu\n",
      "zh-hant\n",
      "or\n",
      "th\n",
      "ja\n",
      "am\n",
      "en-gb\n",
      "bg\n",
      "ml\n",
      "qu\n",
      "fi\n",
      "jv\n",
      "fa\n",
      "it\n",
      "kk\n",
      "ky\n",
      "bar\n",
      "he\n",
      "bn\n",
      "so\n",
      "da\n",
      "zh-tw\n",
      "ga\n",
      "bs\n",
      "ru\n",
      "nb\n",
      "ast\n",
      "sco\n",
      "uk\n",
      "tr\n",
      "pl\n",
      "sq\n",
      "ne\n",
      "et\n",
      "id\n",
      "pt-br\n",
      "si\n"
     ]
    }
   ],
   "source": [
    "for id in dataEntities['Mahatma Gandhi']['Q1001']['descriptions']:\n",
    "    print(id)"
   ]
  },
  {
   "cell_type": "code",
   "execution_count": 12,
   "metadata": {},
   "outputs": [
    {
     "data": {
      "text/plain": [
       "'O Arco do Triunfo é um monumento localizado na cidade de Paris.'"
      ]
     },
     "execution_count": 12,
     "metadata": {},
     "output_type": "execute_result"
    }
   ],
   "source": [
    "dataEntities['Arco do Triunfo']['Q143912']['descriptions']['pt-br']['value']"
   ]
  },
  {
   "cell_type": "code",
   "execution_count": 13,
   "metadata": {},
   "outputs": [
    {
     "data": {
      "text/plain": [
       "'universidade pública federal em Lavras, Minas Gerais'"
      ]
     },
     "execution_count": 13,
     "metadata": {},
     "output_type": "execute_result"
    }
   ],
   "source": [
    "dataEntities['UFLA']['Q10387826']['descriptions']['pt']['value']"
   ]
  },
  {
   "cell_type": "markdown",
   "metadata": {},
   "source": [
    "# Inserir dados no banco de dados\n",
    "### Informações:\n",
    "- id\n",
    "- name\n",
    "- desc\n",
    "- pageid\n",
    "- url"
   ]
  },
  {
   "cell_type": "code",
   "execution_count": 14,
   "metadata": {},
   "outputs": [
    {
     "name": "stdout",
     "output_type": "stream",
     "text": [
      "Neymar\n",
      "['Q142794']\n",
      "{'pageid': '144444', 'id': 'Q142794', 'desc': 'futebolista brasileiro', 'name': 'Neymar', 'url': 'http://www.wikidata.org/entity/Q142794'}\n",
      "Nanotecnologia\n",
      "['Q11468']\n",
      "{'pageid': '12985', 'id': 'Q11468', 'desc': 'field of applied science whose theme is the control of matter on atomic and (supra)molecular scale', 'name': 'nanotecnologia', 'url': 'http://www.wikidata.org/entity/Q11468'}\n",
      "Arco do Triunfo\n",
      "['Q143912']\n",
      "{'pageid': '145548', 'id': 'Q143912', 'desc': 'O Arco do Triunfo é um monumento localizado na cidade de Paris.', 'name': 'arco do triunfo', 'url': 'http://www.wikidata.org/entity/Q143912'}\n",
      "Mahatma Gandhi\n",
      "['Q1001']\n",
      "{'pageid': '1330', 'id': 'Q1001', 'desc': 'líder político e religioso indiano', 'name': 'Mahatma Gandhi', 'url': 'http://www.wikidata.org/entity/Q1001'}\n",
      "Afeganistão\n",
      "['Q889']\n",
      "{'pageid': '1211', 'id': 'Q889', 'desc': 'país no Sul da Ásia', 'name': 'Afeganistão', 'url': 'http://www.wikidata.org/entity/Q889'}\n",
      "Raposa\n",
      "['Q8331']\n",
      "{'pageid': '9627', 'id': 'Q8331', 'desc': 'small to medium-sized omnivorous mammal belonging to the family Canidae', 'name': 'Raposa', 'url': 'http://www.wikidata.org/entity/Q8331'}\n",
      "LexCorp\n",
      "['Q2604982']\n",
      "{'pageid': '2512932', 'id': 'Q2604982', 'desc': 'fictional company appearing in DC Comics', 'name': 'LexCorp', 'url': 'http://www.wikidata.org/entity/Q2604982'}\n",
      "Arnold Schwarzenegger\n",
      "['Q2685']\n",
      "{'pageid': '3657', 'id': 'Q2685', 'desc': 'ator', 'name': 'Arnold Schwarzenegger', 'url': 'http://www.wikidata.org/entity/Q2685'}\n",
      "Donut\n",
      "['Q192783']\n",
      "{'pageid': '190917', 'id': 'Q192783', 'desc': 'pequeno bolo em forma de rosca', 'name': 'rosquinha', 'url': 'http://www.wikidata.org/entity/Q192783'}\n",
      "Nárnia\n",
      "['Q501121']\n",
      "{'pageid': '471359', 'id': 'Q501121', 'desc': 'fantasy world created by C.S. Lewis, setting of The Chronicles of Narnia', 'name': 'Nárnia', 'url': 'http://www.wikidata.org/entity/Q501121'}\n",
      "UFLA\n",
      "['Q10387826']\n",
      "{'pageid': '11692250', 'id': 'Q10387826', 'desc': 'universidade pública federal em Lavras, Minas Gerais', 'name': 'Universidade Federal de Lavras', 'url': 'http://www.wikidata.org/entity/Q10387826'}\n",
      "Oracle\n",
      "['Q19900']\n",
      "{'pageid': '23162', 'id': 'Q19900', 'desc': 'American multinational computer technology corporation', 'name': 'Oracle Corporation', 'url': 'http://www.wikidata.org/entity/Q19900'}\n"
     ]
    }
   ],
   "source": [
    "entities = []\n",
    "for entitie in dataEntities:\n",
    "    information = {'id':'', 'name':'', 'desc':'', 'pageid':'', 'url':''}\n",
    "    '''get id'''\n",
    "    id = [id  for id in dataEntities[entitie]]\n",
    "    information['id'] = id[0]\n",
    "    '''get name'''\n",
    "    try:\n",
    "        information['name'] = dataEntities[entitie][id[0]]['labels']['pt-br']['value']\n",
    "        pass\n",
    "    except Exception as e:\n",
    "        try:\n",
    "            information['name'] = dataEntities[entitie][id[0]]['labels']['pt']['value']\n",
    "        except Exception as e:\n",
    "            try:\n",
    "                information['name'] = dataEntities[entitie][id[0]]['labels']['en']['value']\n",
    "                pass\n",
    "            except Exception as e:\n",
    "                information['name'] = 'desconhecido'\n",
    "    print(entitie)\n",
    "    print(id)\n",
    "    '''get pageid'''\n",
    "    information['pageid'] = str(dataEntities[entitie][id[0]]['pageid'])\n",
    "    '''get url'''\n",
    "    information['url'] = data[entitie][0]['concepturi']\n",
    "    '''get desc'''\n",
    "    try:\n",
    "        information['desc'] = dataEntities[entitie][id[0]]['descriptions']['pt-br']['value']\n",
    "        pass\n",
    "    except Exception as e:\n",
    "        try:\n",
    "            information['desc'] = dataEntities[entitie][id[0]]['descriptions']['pt']['value']\n",
    "            pass\n",
    "        except Exception as e:\n",
    "            information['desc'] = dataEntities[entitie][id[0]]['descriptions']['en']['value']\n",
    "    print(information)\n",
    "    #information['name'] = dataEntities[entitie][id]\n",
    "    #information['desc'] = \n",
    "    #information['pageid'] =\n",
    "    #information['url'] =\n",
    "    entities.append(information)"
   ]
  },
  {
   "cell_type": "markdown",
   "metadata": {},
   "source": [
    "### Inserir os dados das entidades no banco de dados"
   ]
  },
  {
   "cell_type": "code",
   "execution_count": 21,
   "metadata": {},
   "outputs": [],
   "source": [
    "from database import database"
   ]
  },
  {
   "cell_type": "code",
   "execution_count": 22,
   "metadata": {},
   "outputs": [],
   "source": [
    "db = database.Database()"
   ]
  },
  {
   "cell_type": "code",
   "execution_count": 23,
   "metadata": {
    "scrolled": true
   },
   "outputs": [
    {
     "name": "stdout",
     "output_type": "stream",
     "text": [
      "{'pageid': '144444', 'id': 'Q142794', 'desc': 'futebolista brasileiro', 'name': 'Neymar', 'url': 'http://www.wikidata.org/entity/Q142794'}\n",
      "INSERT INTO entitie VALUES('Q142794','Neymar','futebolista brasileiro','144444','http://www.wikidata.org/entity/Q142794')\n",
      "{'pageid': '12985', 'id': 'Q11468', 'desc': 'field of applied science whose theme is the control of matter on atomic and (supra)molecular scale', 'name': 'nanotecnologia', 'url': 'http://www.wikidata.org/entity/Q11468'}\n",
      "INSERT INTO entitie VALUES('Q11468','nanotecnologia','field of applied science whose theme is the control of matter on atomic and (supra)molecular scale','12985','http://www.wikidata.org/entity/Q11468')\n",
      "{'pageid': '145548', 'id': 'Q143912', 'desc': 'O Arco do Triunfo é um monumento localizado na cidade de Paris.', 'name': 'arco do triunfo', 'url': 'http://www.wikidata.org/entity/Q143912'}\n",
      "INSERT INTO entitie VALUES('Q143912','arco do triunfo','O Arco do Triunfo é um monumento localizado na cidade de Paris.','145548','http://www.wikidata.org/entity/Q143912')\n",
      "{'pageid': '1330', 'id': 'Q1001', 'desc': 'líder político e religioso indiano', 'name': 'Mahatma Gandhi', 'url': 'http://www.wikidata.org/entity/Q1001'}\n",
      "INSERT INTO entitie VALUES('Q1001','Mahatma Gandhi','líder político e religioso indiano','1330','http://www.wikidata.org/entity/Q1001')\n",
      "{'pageid': '1211', 'id': 'Q889', 'desc': 'país no Sul da Ásia', 'name': 'Afeganistão', 'url': 'http://www.wikidata.org/entity/Q889'}\n",
      "INSERT INTO entitie VALUES('Q889','Afeganistão','país no Sul da Ásia','1211','http://www.wikidata.org/entity/Q889')\n",
      "{'pageid': '9627', 'id': 'Q8331', 'desc': 'small to medium-sized omnivorous mammal belonging to the family Canidae', 'name': 'Raposa', 'url': 'http://www.wikidata.org/entity/Q8331'}\n",
      "INSERT INTO entitie VALUES('Q8331','Raposa','small to medium-sized omnivorous mammal belonging to the family Canidae','9627','http://www.wikidata.org/entity/Q8331')\n",
      "{'pageid': '2512932', 'id': 'Q2604982', 'desc': 'fictional company appearing in DC Comics', 'name': 'LexCorp', 'url': 'http://www.wikidata.org/entity/Q2604982'}\n",
      "INSERT INTO entitie VALUES('Q2604982','LexCorp','fictional company appearing in DC Comics','2512932','http://www.wikidata.org/entity/Q2604982')\n",
      "{'pageid': '3657', 'id': 'Q2685', 'desc': 'ator', 'name': 'Arnold Schwarzenegger', 'url': 'http://www.wikidata.org/entity/Q2685'}\n",
      "INSERT INTO entitie VALUES('Q2685','Arnold Schwarzenegger','ator','3657','http://www.wikidata.org/entity/Q2685')\n",
      "{'pageid': '190917', 'id': 'Q192783', 'desc': 'pequeno bolo em forma de rosca', 'name': 'rosquinha', 'url': 'http://www.wikidata.org/entity/Q192783'}\n",
      "INSERT INTO entitie VALUES('Q192783','rosquinha','pequeno bolo em forma de rosca','190917','http://www.wikidata.org/entity/Q192783')\n",
      "{'pageid': '471359', 'id': 'Q501121', 'desc': 'fantasy world created by C.S. Lewis, setting of The Chronicles of Narnia', 'name': 'Nárnia', 'url': 'http://www.wikidata.org/entity/Q501121'}\n",
      "INSERT INTO entitie VALUES('Q501121','Nárnia','fantasy world created by C.S. Lewis, setting of The Chronicles of Narnia','471359','http://www.wikidata.org/entity/Q501121')\n",
      "{'pageid': '11692250', 'id': 'Q10387826', 'desc': 'universidade pública federal em Lavras, Minas Gerais', 'name': 'Universidade Federal de Lavras', 'url': 'http://www.wikidata.org/entity/Q10387826'}\n",
      "INSERT INTO entitie VALUES('Q10387826','Universidade Federal de Lavras','universidade pública federal em Lavras, Minas Gerais','11692250','http://www.wikidata.org/entity/Q10387826')\n",
      "{'pageid': '23162', 'id': 'Q19900', 'desc': 'American multinational computer technology corporation', 'name': 'Oracle Corporation', 'url': 'http://www.wikidata.org/entity/Q19900'}\n",
      "INSERT INTO entitie VALUES('Q19900','Oracle Corporation','American multinational computer technology corporation','23162','http://www.wikidata.org/entity/Q19900')\n"
     ]
    }
   ],
   "source": [
    "for entitie in entities:\n",
    "    print(entitie)\n",
    "    db.insertEntitie(entitie)"
   ]
  },
  {
   "cell_type": "markdown",
   "metadata": {},
   "source": [
    "## Extrair propriedades"
   ]
  },
  {
   "cell_type": "code",
   "execution_count": 18,
   "metadata": {},
   "outputs": [],
   "source": [
    "relacoes = []\n",
    "for relacao in dataEntities['Mahatma Gandhi']['Q1001']['claims']:\n",
    "    relacoes.append(relacao)"
   ]
  },
  {
   "cell_type": "code",
   "execution_count": 19,
   "metadata": {},
   "outputs": [
    {
     "data": {
      "text/plain": [
       "['P345',\n",
       " 'P102',\n",
       " 'P1417',\n",
       " 'P1576',\n",
       " 'P3762',\n",
       " 'P6394',\n",
       " 'P409',\n",
       " 'P1309',\n",
       " 'P2600',\n",
       " 'P69',\n",
       " 'P1280',\n",
       " 'P1066',\n",
       " 'P1263',\n",
       " 'P103',\n",
       " 'P2048',\n",
       " 'P6573',\n",
       " 'P157',\n",
       " 'P434',\n",
       " 'P135',\n",
       " 'P1225',\n",
       " 'P1273',\n",
       " 'P6844',\n",
       " 'P1472',\n",
       " 'P1368',\n",
       " 'P1196',\n",
       " 'P6351',\n",
       " 'P40',\n",
       " 'P5019',\n",
       " 'P463',\n",
       " 'P2966',\n",
       " 'P3235',\n",
       " 'P5905',\n",
       " 'P1017',\n",
       " 'P1580',\n",
       " 'P214',\n",
       " 'P863',\n",
       " 'P1005',\n",
       " 'P3232',\n",
       " 'P5008',\n",
       " 'P31',\n",
       " 'P1187',\n",
       " 'P3430',\n",
       " 'P989',\n",
       " 'P4180',\n",
       " 'P21',\n",
       " 'P1415',\n",
       " 'P4629',\n",
       " 'P3221',\n",
       " 'P4342',\n",
       " 'P2605',\n",
       " 'P2799',\n",
       " 'P268',\n",
       " 'P6886',\n",
       " 'P1411',\n",
       " 'P227',\n",
       " 'P269',\n",
       " 'P735',\n",
       " 'P1953',\n",
       " 'P3909',\n",
       " 'P5421',\n",
       " 'P607',\n",
       " 'P3360',\n",
       " 'P691',\n",
       " 'P1006',\n",
       " 'P1207',\n",
       " 'P2924',\n",
       " 'P2639',\n",
       " 'P1412',\n",
       " 'P2031',\n",
       " 'P511',\n",
       " 'P101',\n",
       " 'P3222',\n",
       " 'P1559',\n",
       " 'P349',\n",
       " 'P535',\n",
       " 'P1375',\n",
       " 'P6656',\n",
       " 'P1899',\n",
       " 'P5034',\n",
       " 'P2963',\n",
       " 'P1441',\n",
       " 'P5002',\n",
       " 'P734',\n",
       " 'P737',\n",
       " 'P1340',\n",
       " 'P2373',\n",
       " 'P2188',\n",
       " 'P1842',\n",
       " 'P1728',\n",
       " 'P166',\n",
       " 'P1816',\n",
       " 'P1938',\n",
       " 'P3065',\n",
       " 'P800',\n",
       " 'P3847',\n",
       " 'P1296',\n",
       " 'P7311',\n",
       " 'P866',\n",
       " 'P4619',\n",
       " 'P570',\n",
       " 'P2561',\n",
       " 'P373',\n",
       " 'P3154',\n",
       " 'P1015',\n",
       " 'P27',\n",
       " 'P7208',\n",
       " 'P25',\n",
       " 'P935',\n",
       " 'P3846',\n",
       " 'P244',\n",
       " 'P5731',\n",
       " 'P19',\n",
       " 'P1430',\n",
       " 'P569',\n",
       " 'P3987',\n",
       " 'P4862',\n",
       " 'P140',\n",
       " 'P1245',\n",
       " 'P26',\n",
       " 'P1343',\n",
       " 'P213',\n",
       " 'P3029',\n",
       " 'P3280',\n",
       " 'P22',\n",
       " 'P3219',\n",
       " 'P551',\n",
       " 'P5361',\n",
       " 'P1711',\n",
       " 'P1741',\n",
       " 'P3417',\n",
       " 'P7029',\n",
       " 'P271',\n",
       " 'P1670',\n",
       " 'P906',\n",
       " 'P119',\n",
       " 'P3348',\n",
       " 'P4343',\n",
       " 'P3192',\n",
       " 'P3788',\n",
       " 'P2959',\n",
       " 'P109',\n",
       " 'P646',\n",
       " 'P3544',\n",
       " 'P6984',\n",
       " 'P2632',\n",
       " 'P4293',\n",
       " 'P3630',\n",
       " 'P648',\n",
       " 'P172',\n",
       " 'P910',\n",
       " 'P2163',\n",
       " 'P2949',\n",
       " 'P1284',\n",
       " 'P4431',\n",
       " 'P4200',\n",
       " 'P950',\n",
       " 'P3965',\n",
       " 'P509',\n",
       " 'P1149',\n",
       " 'P1477',\n",
       " 'P20',\n",
       " 'P18',\n",
       " 'P949',\n",
       " 'P2850',\n",
       " 'P5587',\n",
       " 'P5375',\n",
       " 'P802',\n",
       " 'P106',\n",
       " 'P1315']"
      ]
     },
     "execution_count": 19,
     "metadata": {},
     "output_type": "execute_result"
    }
   ],
   "source": [
    "relacoes"
   ]
  }
 ],
 "metadata": {
  "kernelspec": {
   "display_name": "Python 3",
   "language": "python",
   "name": "python3"
  },
  "language_info": {
   "codemirror_mode": {
    "name": "ipython",
    "version": 3
   },
   "file_extension": ".py",
   "mimetype": "text/x-python",
   "name": "python",
   "nbconvert_exporter": "python",
   "pygments_lexer": "ipython3",
   "version": "3.5.2"
  }
 },
 "nbformat": 4,
 "nbformat_minor": 2
}
