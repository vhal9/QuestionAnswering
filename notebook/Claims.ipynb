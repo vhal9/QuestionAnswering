{
 "cells": [
  {
   "cell_type": "markdown",
   "metadata": {},
   "source": [
    "# Person Claims"
   ]
  },
  {
   "cell_type": "code",
   "execution_count": 1,
   "metadata": {},
   "outputs": [],
   "source": [
    "arquivo = open('../relacoes.txt')"
   ]
  },
  {
   "cell_type": "code",
   "execution_count": 2,
   "metadata": {},
   "outputs": [],
   "source": [
    "relacoes = {}\n",
    "for line in arquivo:\n",
    "    texto = []\n",
    "    texto.append(line.split())\n",
    "    relacoes[texto[0][1]] = texto[0][0]"
   ]
  },
  {
   "cell_type": "code",
   "execution_count": 3,
   "metadata": {},
   "outputs": [
    {
     "data": {
      "text/plain": [
       "{'P101': 'campoDeTrabalho',\n",
       " 'P102': 'membroDoPartidoPolitico',\n",
       " 'P103': 'idiomaNativo',\n",
       " 'P1038': 'parente',\n",
       " 'P106': 'ocupacao',\n",
       " 'P1066': 'alunoDe',\n",
       " 'P108': 'empregador',\n",
       " 'P109': 'assinatura',\n",
       " 'P119': 'localDoEnterro',\n",
       " 'P1196': 'modoDeMorte',\n",
       " 'P1290': 'padrinho',\n",
       " 'P1352': 'classificacao',\n",
       " 'P140': 'religiao',\n",
       " 'P1442': 'imagemDaSepultura',\n",
       " 'P1477': 'nomeDeNascimento',\n",
       " 'P1532': 'paisParaOEsporte',\n",
       " 'P1559': 'nomeNoIdiomaNativo',\n",
       " 'P157': 'mortoPor',\n",
       " 'P166': 'premioRecebido',\n",
       " 'P172': 'grupoEtnico',\n",
       " 'P184': 'orientadorDeDoutorado',\n",
       " 'P185': 'doutorando',\n",
       " 'P19': 'localDeNascimento',\n",
       " 'P1971': 'numeroDeFilhos',\n",
       " 'P20': 'localDaMorte',\n",
       " 'P21': 'sexoGenero',\n",
       " 'P22': 'pai',\n",
       " 'P2323': 'IdentificacaoDeAtletaDoComiteOlimpicoSueco',\n",
       " 'P2332': 'IdDoDicionarioDeHistoriadoresDeArte',\n",
       " 'P237': 'brasaoDeArmas',\n",
       " 'P25': 'mae',\n",
       " 'P26': 'conjuge',\n",
       " 'P263': 'residenciaOficial',\n",
       " 'P27': 'paisDeCidadania',\n",
       " 'P3150': 'aniversario',\n",
       " 'P3373': 'irmao',\n",
       " 'P3448': 'padrasto',\n",
       " 'P39': 'cargoOcupado',\n",
       " 'P40': 'crianca',\n",
       " 'P413': 'PosicaoJogadaEmEquipeOuEspecialidade',\n",
       " 'P451': 'parceiro',\n",
       " 'P463': 'membroDe',\n",
       " 'P509': 'causaDeMorte',\n",
       " 'P54': 'membroDaEquipeEsportiva',\n",
       " 'P551': 'residencia',\n",
       " 'P555': 'registroDeDuplas',\n",
       " 'P564': 'registroIndividual',\n",
       " 'P569': 'dataDeNascimento',\n",
       " 'P570': 'dataDoFalecimento',\n",
       " 'P66': 'larAncestral',\n",
       " 'P69': 'educadoEm',\n",
       " 'P800': 'trabalhoNotavel',\n",
       " 'P802': 'estudante',\n",
       " 'P91': 'orientacaoSexual',\n",
       " 'P94': 'imagemDoBrasaoDeArmas'}"
      ]
     },
     "execution_count": 3,
     "metadata": {},
     "output_type": "execute_result"
    }
   ],
   "source": [
    "relacoes"
   ]
  },
  {
   "cell_type": "code",
   "execution_count": 4,
   "metadata": {},
   "outputs": [],
   "source": [
    "from database import database"
   ]
  },
  {
   "cell_type": "code",
   "execution_count": 5,
   "metadata": {},
   "outputs": [],
   "source": [
    "db = database.Database()"
   ]
  },
  {
   "cell_type": "code",
   "execution_count": 6,
   "metadata": {},
   "outputs": [
    {
     "name": "stdout",
     "output_type": "stream",
     "text": [
      "['P1196', 'modoDeMorte']\n",
      "INSERT INTO relation VALUES('P1196','modoDeMorte')\n",
      "['P172', 'grupoEtnico']\n",
      "INSERT INTO relation VALUES('P172','grupoEtnico')\n",
      "['P39', 'cargoOcupado']\n",
      "INSERT INTO relation VALUES('P39','cargoOcupado')\n",
      "['P1038', 'parente']\n",
      "INSERT INTO relation VALUES('P1038','parente')\n",
      "['P3448', 'padrasto']\n",
      "INSERT INTO relation VALUES('P3448','padrasto')\n",
      "['P26', 'conjuge']\n",
      "INSERT INTO relation VALUES('P26','conjuge')\n",
      "['P102', 'membroDoPartidoPolitico']\n",
      "INSERT INTO relation VALUES('P102','membroDoPartidoPolitico')\n",
      "['P66', 'larAncestral']\n",
      "INSERT INTO relation VALUES('P66','larAncestral')\n",
      "['P413', 'PosicaoJogadaEmEquipeOuEspecialidade']\n",
      "INSERT INTO relation VALUES('P413','PosicaoJogadaEmEquipeOuEspecialidade')\n",
      "['P802', 'estudante']\n",
      "INSERT INTO relation VALUES('P802','estudante')\n",
      "['P103', 'idiomaNativo']\n",
      "INSERT INTO relation VALUES('P103','idiomaNativo')\n",
      "['P108', 'empregador']\n",
      "INSERT INTO relation VALUES('P108','empregador')\n",
      "['P20', 'localDaMorte']\n",
      "INSERT INTO relation VALUES('P20','localDaMorte')\n",
      "['P94', 'imagemDoBrasaoDeArmas']\n",
      "INSERT INTO relation VALUES('P94','imagemDoBrasaoDeArmas')\n",
      "['P69', 'educadoEm']\n",
      "INSERT INTO relation VALUES('P69','educadoEm')\n",
      "['P22', 'pai']\n",
      "INSERT INTO relation VALUES('P22','pai')\n",
      "['P3373', 'irmao']\n",
      "INSERT INTO relation VALUES('P3373','irmao')\n",
      "['P1532', 'paisParaOEsporte']\n",
      "INSERT INTO relation VALUES('P1532','paisParaOEsporte')\n",
      "['P185', 'doutorando']\n",
      "INSERT INTO relation VALUES('P185','doutorando')\n",
      "['P157', 'mortoPor']\n",
      "INSERT INTO relation VALUES('P157','mortoPor')\n",
      "['P555', 'registroDeDuplas']\n",
      "INSERT INTO relation VALUES('P555','registroDeDuplas')\n",
      "['P570', 'dataDoFalecimento']\n",
      "INSERT INTO relation VALUES('P570','dataDoFalecimento')\n",
      "['P2323', 'IdentificacaoDeAtletaDoComiteOlimpicoSueco']\n",
      "INSERT INTO relation VALUES('P2323','IdentificacaoDeAtletaDoComiteOlimpicoSueco')\n",
      "['P1066', 'alunoDe']\n",
      "INSERT INTO relation VALUES('P1066','alunoDe')\n",
      "['P27', 'paisDeCidadania']\n",
      "INSERT INTO relation VALUES('P27','paisDeCidadania')\n",
      "['P800', 'trabalhoNotavel']\n",
      "INSERT INTO relation VALUES('P800','trabalhoNotavel')\n",
      "['P19', 'localDeNascimento']\n",
      "INSERT INTO relation VALUES('P19','localDeNascimento')\n",
      "['P263', 'residenciaOficial']\n",
      "INSERT INTO relation VALUES('P263','residenciaOficial')\n",
      "['P1477', 'nomeDeNascimento']\n",
      "INSERT INTO relation VALUES('P1477','nomeDeNascimento')\n",
      "['P237', 'brasaoDeArmas']\n",
      "INSERT INTO relation VALUES('P237','brasaoDeArmas')\n",
      "['P91', 'orientacaoSexual']\n",
      "INSERT INTO relation VALUES('P91','orientacaoSexual')\n",
      "['P1971', 'numeroDeFilhos']\n",
      "INSERT INTO relation VALUES('P1971','numeroDeFilhos')\n",
      "['P21', 'sexoGenero']\n",
      "INSERT INTO relation VALUES('P21','sexoGenero')\n",
      "['P119', 'localDoEnterro']\n",
      "INSERT INTO relation VALUES('P119','localDoEnterro')\n",
      "['P106', 'ocupacao']\n",
      "INSERT INTO relation VALUES('P106','ocupacao')\n",
      "['P451', 'parceiro']\n",
      "INSERT INTO relation VALUES('P451','parceiro')\n",
      "['P109', 'assinatura']\n",
      "INSERT INTO relation VALUES('P109','assinatura')\n",
      "['P25', 'mae']\n",
      "INSERT INTO relation VALUES('P25','mae')\n",
      "['P551', 'residencia']\n",
      "INSERT INTO relation VALUES('P551','residencia')\n",
      "['P2332', 'IdDoDicionarioDeHistoriadoresDeArte']\n",
      "INSERT INTO relation VALUES('P2332','IdDoDicionarioDeHistoriadoresDeArte')\n",
      "['P1442', 'imagemDaSepultura']\n",
      "INSERT INTO relation VALUES('P1442','imagemDaSepultura')\n",
      "['P40', 'crianca']\n",
      "INSERT INTO relation VALUES('P40','crianca')\n",
      "['P509', 'causaDeMorte']\n",
      "INSERT INTO relation VALUES('P509','causaDeMorte')\n",
      "['P166', 'premioRecebido']\n",
      "INSERT INTO relation VALUES('P166','premioRecebido')\n",
      "['P54', 'membroDaEquipeEsportiva']\n",
      "INSERT INTO relation VALUES('P54','membroDaEquipeEsportiva')\n",
      "['P569', 'dataDeNascimento']\n",
      "INSERT INTO relation VALUES('P569','dataDeNascimento')\n",
      "['P564', 'registroIndividual']\n",
      "INSERT INTO relation VALUES('P564','registroIndividual')\n",
      "['P1290', 'padrinho']\n",
      "INSERT INTO relation VALUES('P1290','padrinho')\n",
      "['P140', 'religiao']\n",
      "INSERT INTO relation VALUES('P140','religiao')\n",
      "['P1559', 'nomeNoIdiomaNativo']\n",
      "INSERT INTO relation VALUES('P1559','nomeNoIdiomaNativo')\n",
      "['P101', 'campoDeTrabalho']\n",
      "INSERT INTO relation VALUES('P101','campoDeTrabalho')\n",
      "['P1352', 'classificacao']\n",
      "INSERT INTO relation VALUES('P1352','classificacao')\n",
      "['P184', 'orientadorDeDoutorado']\n",
      "INSERT INTO relation VALUES('P184','orientadorDeDoutorado')\n",
      "['P3150', 'aniversario']\n",
      "INSERT INTO relation VALUES('P3150','aniversario')\n",
      "['P463', 'membroDe']\n",
      "INSERT INTO relation VALUES('P463','membroDe')\n"
     ]
    }
   ],
   "source": [
    "for key in relacoes:\n",
    "    relation = [key,relacoes[key]]\n",
    "    print(relation)\n",
    "    db.insertRelation(relation)"
   ]
  },
  {
   "cell_type": "code",
   "execution_count": null,
   "metadata": {},
   "outputs": [],
   "source": []
  }
 ],
 "metadata": {
  "kernelspec": {
   "display_name": "Python 3",
   "language": "python",
   "name": "python3"
  },
  "language_info": {
   "codemirror_mode": {
    "name": "ipython",
    "version": 3
   },
   "file_extension": ".py",
   "mimetype": "text/x-python",
   "name": "python",
   "nbconvert_exporter": "python",
   "pygments_lexer": "ipython3",
   "version": "3.5.2"
  }
 },
 "nbformat": 4,
 "nbformat_minor": 2
}
