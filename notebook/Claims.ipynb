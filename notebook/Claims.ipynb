{
 "cells": [
  {
   "cell_type": "markdown",
   "metadata": {},
   "source": [
    "# Person Claims"
   ]
  },
  {
   "cell_type": "code",
   "execution_count": 31,
   "metadata": {},
   "outputs": [],
   "source": [
    "arquivo = open('../relacoes.txt') "
   ]
  },
  {
   "cell_type": "code",
   "execution_count": 32,
   "metadata": {},
   "outputs": [],
   "source": [
    "relacoes = {'id':[], 'relacao':[]}\n",
    "for line in arquivo:\n",
    "    texto = []\n",
    "    texto.append(line.split())\n",
    "    relacoes['id'].append(texto[0][1])\n",
    "    relacoes['relacao'].append(texto[0][0])"
   ]
  },
  {
   "cell_type": "code",
   "execution_count": 33,
   "metadata": {},
   "outputs": [
    {
     "data": {
      "text/plain": [
       "{'id': ['(P21)',\n",
       "  '(P569)',\n",
       "  '(P3150)',\n",
       "  '(P19)',\n",
       "  '(P1477)',\n",
       "  '(P570)',\n",
       "  '(P20)',\n",
       "  '(P509)',\n",
       "  '(P1196)',\n",
       "  '(P157)',\n",
       "  '(P119)',\n",
       "  '(P1442)',\n",
       "  '(P1559)',\n",
       "  '(P66)',\n",
       "  '(P463)',\n",
       "  '(P172)',\n",
       "  '(P103)',\n",
       "  '(P27)',\n",
       "  '(P69)',\n",
       "  '(P106)',\n",
       "  '(P101)',\n",
       "  '(P800)',\n",
       "  '(P108)',\n",
       "  '(P166)',\n",
       "  '(P39)',\n",
       "  '(P102)',\n",
       "  '(P551)',\n",
       "  '(P263)',\n",
       "  '(P140)',\n",
       "  '(P91)',\n",
       "  '(P94)',\n",
       "  '(P237)',\n",
       "  '(P109)',\n",
       "  '(P184)',\n",
       "  '(P185)',\n",
       "  '(P1066)',\n",
       "  '(P802)',\n",
       "  '(P22)',\n",
       "  '(P25)',\n",
       "  '(P3373)',\n",
       "  '(P26)',\n",
       "  '(P451)',\n",
       "  '(P40)',\n",
       "  '(P3448)',\n",
       "  '(P1038)',\n",
       "  '(P1290)',\n",
       "  '(P1971)',\n",
       "  '(P54)',\n",
       "  '(P413)',\n",
       "  '(P555)',\n",
       "  '(P564)',\n",
       "  '(P1352)',\n",
       "  '(P1532)',\n",
       "  '(P2323)',\n",
       "  '(P2332)'],\n",
       " 'relacao': ['sexoGenero',\n",
       "  'dataDeNascimento',\n",
       "  'aniversario',\n",
       "  'localDeNascimento',\n",
       "  'nomeDeNascimento',\n",
       "  'dataDoFalecimento',\n",
       "  'localDaMorte',\n",
       "  'causaDeMorte',\n",
       "  'modoDeMorte',\n",
       "  'mortoPor',\n",
       "  'localDoEnterro',\n",
       "  'imagemDaSepultura',\n",
       "  'nomeNoIdiomaNativo',\n",
       "  'larAncestral',\n",
       "  'membroDe',\n",
       "  'grupoEtnico',\n",
       "  'idiomaNativo',\n",
       "  'paisDeCidadania',\n",
       "  'educadoEm',\n",
       "  'ocupacao',\n",
       "  'campoDeTrabalho',\n",
       "  'trabalhoNotavel',\n",
       "  'empregador',\n",
       "  'premioRecebido',\n",
       "  'cargoOcupado',\n",
       "  'membroDoPartidoPolitico',\n",
       "  'residencia',\n",
       "  'residenciaOficial',\n",
       "  'religiao',\n",
       "  'orientacaoSexual',\n",
       "  'imagemDoBrasaoDeArmas',\n",
       "  'brasaoDeArmas',\n",
       "  'assinatura',\n",
       "  'orientadorDeDoutorado',\n",
       "  'doutoranda',\n",
       "  'alunoDe',\n",
       "  'estudante',\n",
       "  'pai',\n",
       "  'mee',\n",
       "  'irmao',\n",
       "  'conjuge',\n",
       "  'parceiro',\n",
       "  'crianca',\n",
       "  'padrasto',\n",
       "  'relativo',\n",
       "  'padrinho',\n",
       "  'numeroDeFilhos',\n",
       "  'membroDaEquipeEsportiva',\n",
       "  'PosicaoJogadaEmEquipeOuEspecialidade',\n",
       "  'registroDeDuplas',\n",
       "  'registroIndividual',\n",
       "  'classificacao',\n",
       "  'paisParaOEsporte',\n",
       "  'IdentificacaoDeAtletaDoComiteOlimpicoSueco',\n",
       "  'IdDoDicionarioDeHistoriadoresDeArte']}"
      ]
     },
     "execution_count": 33,
     "metadata": {},
     "output_type": "execute_result"
    }
   ],
   "source": [
    "relacoes"
   ]
  },
  {
   "cell_type": "code",
   "execution_count": 34,
   "metadata": {},
   "outputs": [],
   "source": [
    "import pandas as pd"
   ]
  },
  {
   "cell_type": "code",
   "execution_count": 37,
   "metadata": {},
   "outputs": [],
   "source": [
    "dataframe = pd.DataFrame(data=relacoes)"
   ]
  },
  {
   "cell_type": "code",
   "execution_count": 38,
   "metadata": {},
   "outputs": [],
   "source": [
    "dataframe.to_csv('../data/relacoes.csv')"
   ]
  },
  {
   "cell_type": "code",
   "execution_count": null,
   "metadata": {},
   "outputs": [],
   "source": []
  }
 ],
 "metadata": {
  "kernelspec": {
   "display_name": "Python 3",
   "language": "python",
   "name": "python3"
  },
  "language_info": {
   "codemirror_mode": {
    "name": "ipython",
    "version": 3
   },
   "file_extension": ".py",
   "mimetype": "text/x-python",
   "name": "python",
   "nbconvert_exporter": "python",
   "pygments_lexer": "ipython3",
   "version": "3.5.2"
  }
 },
 "nbformat": 4,
 "nbformat_minor": 2
}
