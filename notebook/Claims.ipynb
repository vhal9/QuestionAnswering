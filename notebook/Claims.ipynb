{
 "cells": [
  {
   "cell_type": "markdown",
   "metadata": {},
   "source": [
    "# Person Claims"
   ]
  },
  {
   "cell_type": "code",
   "execution_count": 1,
   "metadata": {},
   "outputs": [],
   "source": [
    "arquivo = open('../relacoes.txt')"
   ]
  },
  {
   "cell_type": "code",
   "execution_count": 2,
   "metadata": {},
   "outputs": [],
   "source": [
    "property = {}\n",
    "for line in arquivo:\n",
    "    texto = []\n",
    "    texto.append(line.split())\n",
    "    property[texto[0][1]] = texto[0][0]"
   ]
  },
  {
   "cell_type": "code",
   "execution_count": 3,
   "metadata": {},
   "outputs": [
    {
     "data": {
      "text/plain": [
       "{'P101': 'campoDeTrabalho',\n",
       " 'P102': 'membroDoPartidoPolitico',\n",
       " 'P103': 'idiomaNativo',\n",
       " 'P1038': 'parente',\n",
       " 'P106': 'ocupacao',\n",
       " 'P1066': 'alunoDe',\n",
       " 'P108': 'empregador',\n",
       " 'P109': 'assinatura',\n",
       " 'P119': 'localDoEnterro',\n",
       " 'P1196': 'modoDeMorte',\n",
       " 'P1290': 'padrinho',\n",
       " 'P1352': 'classificacao',\n",
       " 'P140': 'religiao',\n",
       " 'P1442': 'imagemDaSepultura',\n",
       " 'P1477': 'nomeDeNascimento',\n",
       " 'P1532': 'paisParaOEsporte',\n",
       " 'P1559': 'nomeNoIdiomaNativo',\n",
       " 'P157': 'mortoPor',\n",
       " 'P166': 'premioRecebido',\n",
       " 'P172': 'grupoEtnico',\n",
       " 'P184': 'orientadorDeDoutorado',\n",
       " 'P185': 'doutorando',\n",
       " 'P19': 'localDeNascimento',\n",
       " 'P1971': 'numeroDeFilhos',\n",
       " 'P20': 'localDaMorte',\n",
       " 'P21': 'sexoGenero',\n",
       " 'P22': 'pai',\n",
       " 'P2323': 'IdentificacaoDeAtletaDoComiteOlimpicoSueco',\n",
       " 'P2332': 'IdDoDicionarioDeHistoriadoresDeArte',\n",
       " 'P237': 'brasaoDeArmas',\n",
       " 'P25': 'mae',\n",
       " 'P26': 'conjuge',\n",
       " 'P263': 'residenciaOficial',\n",
       " 'P27': 'paisDeCidadania',\n",
       " 'P3150': 'aniversario',\n",
       " 'P3373': 'irmao',\n",
       " 'P3448': 'padrasto',\n",
       " 'P39': 'cargoOcupado',\n",
       " 'P40': 'crianca',\n",
       " 'P413': 'PosicaoJogadaEmEquipeOuEspecialidade',\n",
       " 'P451': 'parceiro',\n",
       " 'P463': 'membroDe',\n",
       " 'P509': 'causaDeMorte',\n",
       " 'P54': 'membroDaEquipeEsportiva',\n",
       " 'P551': 'residencia',\n",
       " 'P555': 'registroDeDuplas',\n",
       " 'P564': 'registroIndividual',\n",
       " 'P569': 'dataDeNascimento',\n",
       " 'P570': 'dataDoFalecimento',\n",
       " 'P66': 'larAncestral',\n",
       " 'P69': 'educadoEm',\n",
       " 'P800': 'trabalhoNotavel',\n",
       " 'P802': 'estudante',\n",
       " 'P91': 'orientacaoSexual',\n",
       " 'P94': 'imagemDoBrasaoDeArmas'}"
      ]
     },
     "execution_count": 3,
     "metadata": {},
     "output_type": "execute_result"
    }
   ],
   "source": [
    "property"
   ]
  },
  {
   "cell_type": "code",
   "execution_count": 4,
   "metadata": {},
   "outputs": [],
   "source": [
    "from database import database"
   ]
  },
  {
   "cell_type": "code",
   "execution_count": 5,
   "metadata": {},
   "outputs": [],
   "source": [
    "db = database.Database()"
   ]
  },
  {
   "cell_type": "code",
   "execution_count": 6,
   "metadata": {},
   "outputs": [
    {
     "name": "stdout",
     "output_type": "stream",
     "text": [
      "['P570', 'dataDoFalecimento']\n",
      "INSERT INTO property VALUES('P570','dataDoFalecimento')\n",
      "['P54', 'membroDaEquipeEsportiva']\n",
      "INSERT INTO property VALUES('P54','membroDaEquipeEsportiva')\n",
      "['P101', 'campoDeTrabalho']\n",
      "INSERT INTO property VALUES('P101','campoDeTrabalho')\n",
      "['P172', 'grupoEtnico']\n",
      "INSERT INTO property VALUES('P172','grupoEtnico')\n",
      "['P102', 'membroDoPartidoPolitico']\n",
      "INSERT INTO property VALUES('P102','membroDoPartidoPolitico')\n",
      "['P413', 'PosicaoJogadaEmEquipeOuEspecialidade']\n",
      "INSERT INTO property VALUES('P413','PosicaoJogadaEmEquipeOuEspecialidade')\n",
      "['P1442', 'imagemDaSepultura']\n",
      "INSERT INTO property VALUES('P1442','imagemDaSepultura')\n",
      "['P2332', 'IdDoDicionarioDeHistoriadoresDeArte']\n",
      "INSERT INTO property VALUES('P2332','IdDoDicionarioDeHistoriadoresDeArte')\n",
      "['P1559', 'nomeNoIdiomaNativo']\n",
      "INSERT INTO property VALUES('P1559','nomeNoIdiomaNativo')\n",
      "['P91', 'orientacaoSexual']\n",
      "INSERT INTO property VALUES('P91','orientacaoSexual')\n",
      "['P40', 'crianca']\n",
      "INSERT INTO property VALUES('P40','crianca')\n",
      "['P25', 'mae']\n",
      "INSERT INTO property VALUES('P25','mae')\n",
      "['P1532', 'paisParaOEsporte']\n",
      "INSERT INTO property VALUES('P1532','paisParaOEsporte')\n",
      "['P1066', 'alunoDe']\n",
      "INSERT INTO property VALUES('P1066','alunoDe')\n",
      "['P106', 'ocupacao']\n",
      "INSERT INTO property VALUES('P106','ocupacao')\n",
      "['P451', 'parceiro']\n",
      "INSERT INTO property VALUES('P451','parceiro')\n",
      "['P3150', 'aniversario']\n",
      "INSERT INTO property VALUES('P3150','aniversario')\n",
      "['P237', 'brasaoDeArmas']\n",
      "INSERT INTO property VALUES('P237','brasaoDeArmas')\n",
      "['P166', 'premioRecebido']\n",
      "INSERT INTO property VALUES('P166','premioRecebido')\n",
      "['P564', 'registroIndividual']\n",
      "INSERT INTO property VALUES('P564','registroIndividual')\n",
      "['P140', 'religiao']\n",
      "INSERT INTO property VALUES('P140','religiao')\n",
      "['P555', 'registroDeDuplas']\n",
      "INSERT INTO property VALUES('P555','registroDeDuplas')\n",
      "['P109', 'assinatura']\n",
      "INSERT INTO property VALUES('P109','assinatura')\n",
      "['P3448', 'padrasto']\n",
      "INSERT INTO property VALUES('P3448','padrasto')\n",
      "['P103', 'idiomaNativo']\n",
      "INSERT INTO property VALUES('P103','idiomaNativo')\n",
      "['P94', 'imagemDoBrasaoDeArmas']\n",
      "INSERT INTO property VALUES('P94','imagemDoBrasaoDeArmas')\n",
      "['P20', 'localDaMorte']\n",
      "INSERT INTO property VALUES('P20','localDaMorte')\n",
      "['P263', 'residenciaOficial']\n",
      "INSERT INTO property VALUES('P263','residenciaOficial')\n",
      "['P157', 'mortoPor']\n",
      "INSERT INTO property VALUES('P157','mortoPor')\n",
      "['P509', 'causaDeMorte']\n",
      "INSERT INTO property VALUES('P509','causaDeMorte')\n",
      "['P26', 'conjuge']\n",
      "INSERT INTO property VALUES('P26','conjuge')\n",
      "['P39', 'cargoOcupado']\n",
      "INSERT INTO property VALUES('P39','cargoOcupado')\n",
      "['P108', 'empregador']\n",
      "INSERT INTO property VALUES('P108','empregador')\n",
      "['P69', 'educadoEm']\n",
      "INSERT INTO property VALUES('P69','educadoEm')\n",
      "['P19', 'localDeNascimento']\n",
      "INSERT INTO property VALUES('P19','localDeNascimento')\n",
      "['P22', 'pai']\n",
      "INSERT INTO property VALUES('P22','pai')\n",
      "['P1290', 'padrinho']\n",
      "INSERT INTO property VALUES('P1290','padrinho')\n",
      "['P119', 'localDoEnterro']\n",
      "INSERT INTO property VALUES('P119','localDoEnterro')\n",
      "['P800', 'trabalhoNotavel']\n",
      "INSERT INTO property VALUES('P800','trabalhoNotavel')\n",
      "['P551', 'residencia']\n",
      "INSERT INTO property VALUES('P551','residencia')\n",
      "['P27', 'paisDeCidadania']\n",
      "INSERT INTO property VALUES('P27','paisDeCidadania')\n",
      "['P802', 'estudante']\n",
      "INSERT INTO property VALUES('P802','estudante')\n",
      "['P184', 'orientadorDeDoutorado']\n",
      "INSERT INTO property VALUES('P184','orientadorDeDoutorado')\n",
      "['P66', 'larAncestral']\n",
      "INSERT INTO property VALUES('P66','larAncestral')\n",
      "['P569', 'dataDeNascimento']\n",
      "INSERT INTO property VALUES('P569','dataDeNascimento')\n",
      "['P185', 'doutorando']\n",
      "INSERT INTO property VALUES('P185','doutorando')\n",
      "['P1971', 'numeroDeFilhos']\n",
      "INSERT INTO property VALUES('P1971','numeroDeFilhos')\n",
      "['P2323', 'IdentificacaoDeAtletaDoComiteOlimpicoSueco']\n",
      "INSERT INTO property VALUES('P2323','IdentificacaoDeAtletaDoComiteOlimpicoSueco')\n",
      "['P1352', 'classificacao']\n",
      "INSERT INTO property VALUES('P1352','classificacao')\n",
      "['P1038', 'parente']\n",
      "INSERT INTO property VALUES('P1038','parente')\n",
      "['P1477', 'nomeDeNascimento']\n",
      "INSERT INTO property VALUES('P1477','nomeDeNascimento')\n",
      "['P3373', 'irmao']\n",
      "INSERT INTO property VALUES('P3373','irmao')\n",
      "['P1196', 'modoDeMorte']\n",
      "INSERT INTO property VALUES('P1196','modoDeMorte')\n",
      "['P463', 'membroDe']\n",
      "INSERT INTO property VALUES('P463','membroDe')\n",
      "['P21', 'sexoGenero']\n",
      "INSERT INTO property VALUES('P21','sexoGenero')\n"
     ]
    }
   ],
   "source": [
    "for key in property:\n",
    "    relation = [key,property[key]]\n",
    "    print(relation)\n",
    "    db.insertProperty(relation)"
   ]
  },
  {
   "cell_type": "code",
   "execution_count": 7,
   "metadata": {},
   "outputs": [],
   "source": [
    "db.finalizarConnection()"
   ]
  },
  {
   "cell_type": "markdown",
   "metadata": {},
   "source": [
    "## Get property\n",
    "- https://www.wikidata.org/w/api.php?action=help&modules=wbgetclaims"
   ]
  },
  {
   "cell_type": "code",
   "execution_count": null,
   "metadata": {},
   "outputs": [],
   "source": []
  }
 ],
 "metadata": {
  "kernelspec": {
   "display_name": "Python 3",
   "language": "python",
   "name": "python3"
  },
  "language_info": {
   "codemirror_mode": {
    "name": "ipython",
    "version": 3
   },
   "file_extension": ".py",
   "mimetype": "text/x-python",
   "name": "python",
   "nbconvert_exporter": "python",
   "pygments_lexer": "ipython3",
   "version": "3.5.2"
  }
 },
 "nbformat": 4,
 "nbformat_minor": 2
}
