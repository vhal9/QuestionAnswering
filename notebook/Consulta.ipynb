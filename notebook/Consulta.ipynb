{
 "cells": [
  {
   "cell_type": "code",
   "execution_count": 18,
   "metadata": {},
   "outputs": [],
   "source": [
    "from database import database"
   ]
  },
  {
   "cell_type": "code",
   "execution_count": 19,
   "metadata": {},
   "outputs": [],
   "source": [
    "db = database.Database()"
   ]
  },
  {
   "cell_type": "code",
   "execution_count": 20,
   "metadata": {},
   "outputs": [],
   "source": [
    "data = db.consultarEntitie()"
   ]
  },
  {
   "cell_type": "code",
   "execution_count": 21,
   "metadata": {},
   "outputs": [
    {
     "name": "stdout",
     "output_type": "stream",
     "text": [
      "('Q501121', 'Nárnia', 'fantasy world created by C.S. Lewis, setting of The Chronicles of Narnia', '471359', 'http://www.wikidata.org/entity/Q501121')\n",
      "('Q889', 'Afeganistão', 'país no Sul da Ásia', '1211', 'http://www.wikidata.org/entity/Q889')\n",
      "('Q11468', 'nanotecnologia', 'field of applied science whose theme is the control of matter on atomic and (supra)molecular scale', '12985', 'http://www.wikidata.org/entity/Q11468')\n",
      "('Q8331', 'Raposa', 'small to medium-sized omnivorous mammal belonging to the family Canidae', '9627', 'http://www.wikidata.org/entity/Q8331')\n",
      "('Q192783', 'rosquinha', 'pequeno bolo em forma de rosca', '190917', 'http://www.wikidata.org/entity/Q192783')\n",
      "('Q1001', 'Mahatma Gandhi', 'líder político e religioso indiano', '1330', 'http://www.wikidata.org/entity/Q1001')\n",
      "('Q2685', 'Arnold Schwarzenegger', 'ator', '3657', 'http://www.wikidata.org/entity/Q2685')\n",
      "('Q19900', 'Oracle Corporation', 'American multinational computer technology corporation', '23162', 'http://www.wikidata.org/entity/Q19900')\n",
      "('Q142794', 'Neymar', 'futebolista brasileiro', '144444', 'http://www.wikidata.org/entity/Q142794')\n",
      "('Q10387826', 'Universidade Federal de Lavras', 'universidade pública federal em Lavras, Minas Gerais', '11692250', 'http://www.wikidata.org/entity/Q10387826')\n",
      "('Q143912', 'arco do triunfo', 'O Arco do Triunfo é um monumento localizado na cidade de Paris.', '145548', 'http://www.wikidata.org/entity/Q143912')\n",
      "('Q2604982', 'LexCorp', 'fictional company appearing in DC Comics', '2512932', 'http://www.wikidata.org/entity/Q2604982')\n"
     ]
    }
   ],
   "source": [
    "for elemento in data:\n",
    "    print(elemento)"
   ]
  },
  {
   "cell_type": "code",
   "execution_count": 22,
   "metadata": {},
   "outputs": [],
   "source": [
    "data = db.consultarProperty()"
   ]
  },
  {
   "cell_type": "code",
   "execution_count": 23,
   "metadata": {},
   "outputs": [
    {
     "name": "stdout",
     "output_type": "stream",
     "text": [
      "('P570', 'dataDoFalecimento')\n",
      "('P54', 'membroDaEquipeEsportiva')\n",
      "('P101', 'campoDeTrabalho')\n",
      "('P172', 'grupoEtnico')\n",
      "('P102', 'membroDoPartidoPolitico')\n",
      "('P413', 'PosicaoJogadaEmEquipeOuEspecialidade')\n",
      "('P1442', 'imagemDaSepultura')\n",
      "('P2332', 'IdDoDicionarioDeHistoriadoresDeArte')\n",
      "('P1559', 'nomeNoIdiomaNativo')\n",
      "('P91', 'orientacaoSexual')\n",
      "('P40', 'crianca')\n",
      "('P25', 'mae')\n",
      "('P1532', 'paisParaOEsporte')\n",
      "('P1066', 'alunoDe')\n",
      "('P106', 'ocupacao')\n",
      "('P451', 'parceiro')\n",
      "('P3150', 'aniversario')\n",
      "('P237', 'brasaoDeArmas')\n",
      "('P166', 'premioRecebido')\n",
      "('P564', 'registroIndividual')\n",
      "('P140', 'religiao')\n",
      "('P555', 'registroDeDuplas')\n",
      "('P109', 'assinatura')\n",
      "('P3448', 'padrasto')\n",
      "('P103', 'idiomaNativo')\n",
      "('P94', 'imagemDoBrasaoDeArmas')\n",
      "('P20', 'localDaMorte')\n",
      "('P263', 'residenciaOficial')\n",
      "('P157', 'mortoPor')\n",
      "('P509', 'causaDeMorte')\n",
      "('P26', 'conjuge')\n",
      "('P39', 'cargoOcupado')\n",
      "('P108', 'empregador')\n",
      "('P69', 'educadoEm')\n",
      "('P19', 'localDeNascimento')\n",
      "('P22', 'pai')\n",
      "('P1290', 'padrinho')\n",
      "('P119', 'localDoEnterro')\n",
      "('P800', 'trabalhoNotavel')\n",
      "('P551', 'residencia')\n",
      "('P27', 'paisDeCidadania')\n",
      "('P802', 'estudante')\n",
      "('P184', 'orientadorDeDoutorado')\n",
      "('P66', 'larAncestral')\n",
      "('P569', 'dataDeNascimento')\n",
      "('P185', 'doutorando')\n",
      "('P1971', 'numeroDeFilhos')\n",
      "('P2323', 'IdentificacaoDeAtletaDoComiteOlimpicoSueco')\n",
      "('P1352', 'classificacao')\n",
      "('P1038', 'parente')\n",
      "('P1477', 'nomeDeNascimento')\n",
      "('P3373', 'irmao')\n",
      "('P1196', 'modoDeMorte')\n",
      "('P463', 'membroDe')\n",
      "('P21', 'sexoGenero')\n"
     ]
    }
   ],
   "source": [
    "for elemento in data:\n",
    "    print(elemento)"
   ]
  },
  {
   "cell_type": "code",
   "execution_count": 24,
   "metadata": {},
   "outputs": [],
   "source": [
    "db.finalizarConnection()"
   ]
  }
 ],
 "metadata": {
  "kernelspec": {
   "display_name": "Python 3",
   "language": "python",
   "name": "python3"
  },
  "language_info": {
   "codemirror_mode": {
    "name": "ipython",
    "version": 3
   },
   "file_extension": ".py",
   "mimetype": "text/x-python",
   "name": "python",
   "nbconvert_exporter": "python",
   "pygments_lexer": "ipython3",
   "version": "3.5.2"
  }
 },
 "nbformat": 4,
 "nbformat_minor": 2
}
