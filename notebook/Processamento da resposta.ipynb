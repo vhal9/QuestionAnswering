{
 "cells": [
  {
   "cell_type": "code",
   "execution_count": 1,
   "metadata": {},
   "outputs": [],
   "source": [
    "import QuestionProcessing\n",
    "import RotinaBD"
   ]
  },
  {
   "cell_type": "code",
   "execution_count": 23,
   "metadata": {},
   "outputs": [],
   "source": [
    "pergunta = 'Quem é Neymar?'"
   ]
  },
  {
   "cell_type": "code",
   "execution_count": 24,
   "metadata": {},
   "outputs": [],
   "source": [
    "processamentoPergunta = QuestionProcessing.QuestionProcessing()\n",
    "consulta = processamentoPergunta.processar(pergunta)"
   ]
  },
  {
   "cell_type": "code",
   "execution_count": 25,
   "metadata": {},
   "outputs": [
    {
     "name": "stdout",
     "output_type": "stream",
     "text": [
      "verificando se há correspondencia da entidade na Base de Dados...\n",
      "pergunta do tipo quem é\n",
      "['futebolista brasileiro']\n"
     ]
    }
   ],
   "source": [
    "buscarRespostas = RotinaBD.RotinaBD()\n",
    "respostas = buscarRespostas.buscar(consulta)"
   ]
  },
  {
   "cell_type": "code",
   "execution_count": 26,
   "metadata": {},
   "outputs": [
    {
     "data": {
      "text/plain": [
       "{'entidade': ['Neymar'],\n",
       " 'indPergunta': ['Quem'],\n",
       " 'propriedade': ['ser'],\n",
       " 'propriedadeOrigem': ['é'],\n",
       " 'sinonimosPropriedade': [['ente',\n",
       "   'entidade',\n",
       "   'ser',\n",
       "   'criatura',\n",
       "   'organismo',\n",
       "   'ser vivo',\n",
       "   'animal',\n",
       "   'besta',\n",
       "   'bicho',\n",
       "   'lançado',\n",
       "   'existir',\n",
       "   'estar',\n",
       "   'criança',\n",
       "   'existência',\n",
       "   'Existência',\n",
       "   'forma de vida']]}"
      ]
     },
     "execution_count": 26,
     "metadata": {},
     "output_type": "execute_result"
    }
   ],
   "source": [
    "consulta"
   ]
  },
  {
   "cell_type": "code",
   "execution_count": 27,
   "metadata": {},
   "outputs": [
    {
     "data": {
      "text/plain": [
       "['futebolista brasileiro']"
      ]
     },
     "execution_count": 27,
     "metadata": {},
     "output_type": "execute_result"
    }
   ],
   "source": [
    "respostas"
   ]
  },
  {
   "cell_type": "markdown",
   "metadata": {},
   "source": [
    "#### Processar resposta"
   ]
  },
  {
   "cell_type": "code",
   "execution_count": 30,
   "metadata": {},
   "outputs": [],
   "source": [
    "def processarResposta(consulta, respostas):\n",
    "    saida = ''\n",
    "    if len(consulta['entidade']) == 1 and len(consulta['propriedadeOrigem']):\n",
    "        entidade = consulta['entidade']\n",
    "        propriedade = consulta['propriedadeOrigem']\n",
    "\n",
    "        saida = entidade[0] + ' ' + propriedade[0] + ':\\n'\n",
    "        for resposta in respostas:\n",
    "            if isinstance(resposta, list) :\n",
    "                for item in resposta:\n",
    "                    saida += item + ' '\n",
    "                saida += '\\n'\n",
    "            else:\n",
    "                saida += resposta + \"\\n\"\n",
    "    return saida"
   ]
  },
  {
   "cell_type": "code",
   "execution_count": 31,
   "metadata": {},
   "outputs": [
    {
     "name": "stdout",
     "output_type": "stream",
     "text": [
      "Neymar é:\n",
      "futebolista brasileiro\n",
      "\n"
     ]
    }
   ],
   "source": [
    "print(processarResposta(consulta, respostas))"
   ]
  },
  {
   "cell_type": "code",
   "execution_count": null,
   "metadata": {},
   "outputs": [],
   "source": []
  },
  {
   "cell_type": "code",
   "execution_count": null,
   "metadata": {},
   "outputs": [],
   "source": []
  }
 ],
 "metadata": {
  "kernelspec": {
   "display_name": "Python 3",
   "language": "python",
   "name": "python3"
  },
  "language_info": {
   "codemirror_mode": {
    "name": "ipython",
    "version": 3
   },
   "file_extension": ".py",
   "mimetype": "text/x-python",
   "name": "python",
   "nbconvert_exporter": "python",
   "pygments_lexer": "ipython3",
   "version": "3.5.2"
  }
 },
 "nbformat": 4,
 "nbformat_minor": 4
}
