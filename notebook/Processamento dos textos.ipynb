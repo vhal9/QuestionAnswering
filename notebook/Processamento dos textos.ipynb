{
 "cells": [
  {
   "cell_type": "markdown",
   "metadata": {},
   "source": [
    "## Utilizar dataframe para preprocessar cada texto"
   ]
  },
  {
   "cell_type": "markdown",
   "metadata": {},
   "source": [
    "- Abrir os arquivos"
   ]
  },
  {
   "cell_type": "code",
   "execution_count": 1,
   "metadata": {},
   "outputs": [],
   "source": [
    "import os\n",
    "corpora_path = '../data/corpora/'\n",
    "corpora_dirs = os.listdir(corpora_path)\n",
    "corpora_dirs = [d for d in corpora_dirs]"
   ]
  },
  {
   "cell_type": "code",
   "execution_count": 2,
   "metadata": {},
   "outputs": [
    {
     "data": {
      "text/plain": [
       "['Mahatma Gandhi',\n",
       " 'Neymar',\n",
       " 'LexCorp',\n",
       " 'Raposa',\n",
       " 'Donut',\n",
       " 'Arnold Schwarzenegger',\n",
       " 'Arco do Triunfo',\n",
       " 'Nanotecnologia',\n",
       " 'Oracle',\n",
       " 'Afeganistão',\n",
       " 'Nárnia',\n",
       " 'UFLA']"
      ]
     },
     "execution_count": 2,
     "metadata": {},
     "output_type": "execute_result"
    }
   ],
   "source": [
    "corpora_dirs"
   ]
  },
  {
   "cell_type": "code",
   "execution_count": 3,
   "metadata": {},
   "outputs": [],
   "source": [
    "corpora = {}\n",
    "for corpus in corpora_dirs:\n",
    "    files = [os.path.join(corpora_path + corpus, f) \\\n",
    "             for f in os.listdir(corpora_path + corpus) \\\n",
    "             if os.path.isfile(os.path.join(corpora_path + corpus, f))]\n",
    "    corpora[corpus] = {'raw': [], 'tokenized': [], 'words': []}\n",
    "    for file in files:\n",
    "        lines = []\n",
    "        with open(file, 'r') as txt_file:\n",
    "            for line in txt_file.readlines():\n",
    "                if line != '\\n' and line != '' and line != ' ': \n",
    "                    lines.append(line)\n",
    "            corpora[corpus]['raw'].append(lines)"
   ]
  },
  {
   "cell_type": "markdown",
   "metadata": {},
   "source": [
    "- Preprocessar os textos"
   ]
  },
  {
   "cell_type": "code",
   "execution_count": 4,
   "metadata": {},
   "outputs": [],
   "source": [
    "from nlp import lexical"
   ]
  },
  {
   "cell_type": "code",
   "execution_count": 5,
   "metadata": {},
   "outputs": [],
   "source": [
    "normalizer = lexical.Preprocessing()"
   ]
  },
  {
   "cell_type": "code",
   "execution_count": 6,
   "metadata": {},
   "outputs": [],
   "source": [
    "def normalizar(line):\n",
    "    lines = normalizer.tokenize_sentences(line)\n",
    "    sentences = []\n",
    "    for line in lines:\n",
    "        line = normalizer.remove_accents(line)\n",
    "        line = normalizer.remove_punctuation(line)\n",
    "        line = normalizer.lowercase(line)\n",
    "        sentences.append(line)\n",
    "    #line = [normalizer.tokenize_words(line) for line in sentence]\n",
    "    return sentences\n",
    "    #line = normalizer.remove_stopwords(line)"
   ]
  },
  {
   "cell_type": "code",
   "execution_count": 13,
   "metadata": {
    "scrolled": true
   },
   "outputs": [],
   "source": [
    "import re\n",
    "for corpus, infos in corpora.items():\n",
    "    sentences = []\n",
    "    corpora[corpus]['words'] = []\n",
    "    words = []\n",
    "    for text in infos['raw']:\n",
    "        for line in text:\n",
    "            texto = line.strip()\n",
    "            tmp_sentences = []\n",
    "            if texto != '/n' and texto != '':\n",
    "                tmp_sentences = normalizar(texto)\n",
    "            #print(type(tmp_sentences))\n",
    "            sentences.extend(tmp_sentences)\n",
    "            for tokens in sentences:\n",
    "                for doc in tokens:\n",
    "                    words.extend([w for w in doc])\n",
    "    corpora[corpus]['tokenized'] = sentences\n",
    "    corpora[corpus]['words'].extend(words)"
   ]
  },
  {
   "cell_type": "code",
   "execution_count": 15,
   "metadata": {},
   "outputs": [
    {
     "data": {
      "text/plain": [
       "['A nanotecnologia  e uma ciencia que se dedica ao estudo da manipulacao da materia numa escala atomica e molecular lidando com estruturas entre 1 e 1000 nanometros',\n",
       " 'Pode ser utilizada em diferentes areas como a medicina eletronica ciencia da computacao fisica quimica biologia e engenharia dos materiais',\n",
       " 'O principio basico da nanotecnologia e a construcao de estruturas e novos materiais a partir dos atomos',\n",
       " 'E uma area promissora mas que da apenas seus primeiros passos mostrando contudo resultados surpreendentes na producao de semicondutores Nanocompositos Biomateriais Chips entre outros',\n",
       " 'Criada no Japao a nanotecnologia busca inovar invencoes aprimorandoas e proporcionando uma melhor vida ao Homem',\n",
       " 'Um dos instrumentos utilizados para exploracao de materiais nessa escala e o Microscopio eletronico de varredura MEV e o Microscopio de varredura por Tunelamento STM que permite a observacao de atomos e moleculas ao nivel atomico',\n",
       " 'O objetivo principal nao e chegar a um controle preciso e individual dos atomos mas elaborar estruturas estaveis com eles',\n",
       " 'Existe muito debate nas implicacoes futuras da nanotecnologia pois os desafios sao semelhantes aos de desenvolvimentos de novas tecnologias incluindo questoes sobre a toxicidade e impactos ambientais dos nanomateriais e os efeitos potenciais na economia global assim como a especulacao sobre cenarios apocalipticos doomsday scenarios',\n",
       " 'Essas questoes levaram ao debate entre grupos e governos a respeito de uma regulacao sobre nanotecnologia',\n",
       " ' O nanometro nm ',\n",
       " 'Richard P Feynman foi o precursor do conceito da Nanotecnologia embora nao tenha utilizado este termo em sua palestra para a Sociedade Americana de Fisica em 29 de dezembro de 1959 onde apresentou pela primeira vez suas ideias acerca do assunto',\n",
       " 'A palavra Nanotecnologia foi utilizada pela primeira vez pelo professor Norio Taniguchi em 1974 para descrever as tecnologias que permitam a construcao de materiais a uma escala de 1 nanometro',\n",
       " 'Para se perceber o que isto significa considere uma praia de 1000 km de extensao e um grao de areia de 1 mm este grao esta para esta praia como um nanometro esta para o metro',\n",
       " 'Em alguns casos elementos da escala periodica da quimica mudam seu estado ficando ate explosivos em escala nanometrica',\n",
       " 'A nanotecnologia e a capacidade potencial de criar coisas a partir do menor elemento usando as tecnicas e ferramentas que estao a ser desenvolvidas nos dias de hoje para colocar cada atomo e cada molecula no lugar desejado',\n",
       " 'Se conseguirmos este sistema de engenharia molecular o resultado sera uma nova revolucao industrial',\n",
       " 'Alem disso teria tambem importantes consequencias economicas sociais ambientais e militares',\n",
       " ' Decada de 80 ',\n",
       " 'Fulerenos e um membro representante das estruturas de carbono conhecido como fulerenos',\n",
       " 'Os membros da familia fulereno sao um tema importante da investigacao que recaem sob a egide da nanotecnologia',\n",
       " 'Embora a nanotecnologia seja um desenvolvimento recente na pesquisa cientifica o desenvolvimento de seus conceitos centrais vem acontecendo atraves de um longo periodo de tempo',\n",
       " 'A emergencia da nanotecnologia na decada de 1980 ocorreuse devido a convergencia de avancos experimentais como a invencao do microscopio de varredura de tunelamento em 1981 e na descoberta dos fullerenos em 1985 com o esclarecimento e popularizacao de um modelo de trabalho para os objetivos da nanotecnologia iniciando com a publicacao em 1986 do livro Motores da Criacao',\n",
       " 'O microscopio de varredura de tunelamento e um instrumento para visualizacao de superficies no nivel atomico foi desenvolvido em 1981 por Gerd Binnig e Heinrich Rohrer no IBM Zurich Research Laboratory pelo qual eles receberam o premio nobel em fisica em 1986',\n",
       " 'Fulerenos foram descobertos em 1985 por Harry Kroto Richard Smalley e Robert Curl que juntos receberam o Premio Nobel em quimica em 1996Ao mesmo tempo nos anos 80 o conceito de Nanotecnologia foi popularizado por Eric Drexler por meio do livro Engines of Creation Motores da Criacao',\n",
       " 'Este livro embora contenha algumas especulacoes proximas da ficcao cientifica baseouse no trabalho serio desenvolvido por Drexler enquanto cientista',\n",
       " 'Drexler foi o primeiro cientista a doutorarse em nanotecnologia pelo MIT',\n",
       " ' Nanotecnologia drexleriana ',\n",
       " 'A Nanotecnologia drexleriana e aquilo a que agora se chama nanotecnologia molecular e que pressupoe a construcao atomo a atomo de dispositivos uteis a vida humana',\n",
       " 'O santo Graal da nanotecnologia drexleriana e o Montador Universal um dispositivo capaz de de acordo com as instrucoes de um programador construir atomo a atomo qualquer maquina concebivel pela mente humana',\n",
       " 'Drexler tem uma visao a longo prazo da nanotecnologia  que preve o aparecimento de nanodispositivos de regeneracao celular que poderao garantir a regeneracao dos tecidos e a imortalidade',\n",
       " 'Embora Eric Drexler seja considerado  por muitos como o pai da nanotecnologia a sua abordagem proxima da ficcao cientifica e vista com desconfianca por outros cientistas mais interessados nos aspectos praticos da nanotecnologia',\n",
       " 'Eric Drexler fundou o Foresight Institute e temse dedicado a divulgacao e desenvolvimento da Nanotecnologia rebatizada de molecular',\n",
       " ' Abordagens ',\n",
       " 'Entretanto a nanotecnologia desenvolveuse gracas aos contributos de varias areas de investigacao',\n",
       " 'Existem atualmente 3 abordagens distintas a nanotecnologia uma abordagem de cima para baixo que consiste na construcao de dispositivos por desgaste de materiais macroscopicos a construcao de dispositivos que se formam espontaneamente a partir de componentes moleculares a de materiais atomo a atomo',\n",
       " 'A primeira abordagem e a utilizada em microelectronica para produzir chips de computadores e mais recentemente para produzir testes clinicos em miniatura',\n",
       " 'A segunda abordagem recorre as tecnicas tradicionais de quimica e das ciencias dos materiais',\n",
       " 'A terceira abordagem e aquela que levara mais tempo a produzir resultados significativos porque requer um controle fino da materia so possiveis com o aperfeicoamento da tecnologia',\n",
       " ' Utilizacoes mais radicais ',\n",
       " 'Outras utilizacoes mais radicais da nanotecnologia seria a sua utilizacao nas ciencias computacionais como por exemplo na nanofotonica em que nanocristais seriam criados de modo a permitir uma capacidade de busca na ordem dos milhares ou dezenas de milhares de bits',\n",
       " ' Montador Molecular ou Nanomontador ',\n",
       " 'Um montador molecular ou nanomontador nanoassem e uma maquina nanotecnologica de tamanho bastante reduzido capaz de organizar atomos e moleculas de acordo com instrucoes dadas',\n",
       " 'Para fazer esta tarefa e necessario energia suprimento de materiaprima building blocks bem como a programacao a ser executada pelo montador',\n",
       " 'Um montador molecular pode atuar de forma isolada ou em conjunto com varios outros montadores moleculares',\n",
       " 'Podendo neste caso ser capaz de construir objetos macroscopicos',\n",
       " 'Para isto e necessario um sistema de comunicacao entre os montadores bem como um sistema de organizacao que permitam que eles trabalhem em conjunto',\n",
       " 'Existe a possibilidade de se construir um montador universal',\n",
       " 'Este teria a capacidade de construir qualquer objeto possivel incluindo um outro montador',\n",
       " 'Assim este poderia se replicar de forma semelhante aos seres vivos',\n",
       " 'Uma vez construido o primeiro montador ele poderia se reproduzir varias vezes ate o numero necessario para executar uma determinada tarefa como por exemplo a construcao de varias toneladas de um nanomaterial',\n",
       " 'Esta capacidade de reproducao e uma das grandes vantagens de um montador molecular e tambem e um dos seus grandes riscos',\n",
       " 'Um montador poderia se reproduzir descontroladamente e ameacar vidas humanas de forma semelhante a epidemias',\n",
       " 'Um risco poderia ser a colonizacao de toda a terra por montadores moleculares extinguindo toda a vida na terra',\n",
       " 'So restariam os proprios montadores em uma massa provavelmente cinza chamada de greygoo',\n",
       " 'Drexler argumenta que este cenario e bastante dificil uma vez que nenhum ser vivo conhecido consegue se reproduzir alem do limite imposto pela quantidade de energia e materiaprima disponiveis',\n",
       " 'Apesar disto especialistas advertem que e necessario tomar precaucoes pois os riscos para a saude humana nao sao conhecidos',\n",
       " 'A construcao de um montador molecular ainda esta longe de ocorrer',\n",
       " 'Varios problemas persistem como a dificuldade de trabalhar com atomos individuais necessarios para a construcao do montador',\n",
       " 'Alem disto e dificil modelar o comportamento de objetos complexos em escala nanometrica que obedecem as leis quanticas',\n",
       " ' Possiveis problemas ',\n",
       " 'Um dos possiveis problemas e a nanopoluicao que e gerada por nanomateriais ou durante a confeccao destes',\n",
       " 'Este tipo de poluicao formada por nanoparticula podem ser muito perigosas uma vez que flutuem facilmente pelo ar viajando por grandes distancias',\n",
       " 'Devido ao seu pequeno tamanho os nanopoluentes podem entrar nas celulas de seres humanos animais e plantas',\n",
       " 'Como a maioria destes nanopoluentes nao existe na natureza as celulas provavelmente nao terao os meios apropriados de lidar com eles causando danos ainda nao conhecidos',\n",
       " 'Estes nanopoluentes poderiam se acumular na cadeia alimentar como os metais pesados e o DDT',\n",
       " ' A importancia para o Brasil e para Portugal ',\n",
       " 'A nanotecnologia e extremamente importante para o Brasil assim como para Portugal porque tanto a industria brasileira como a portuguesa terao de competir internacionalmente com novos produtos para que a economia dos mesmos paises se recuperem e retomem o crescimento economico',\n",
       " 'Esta competicao somente sera bem sucedida com produtos e processos inovadores que se comparem aos melhores que a industria internacional oferece',\n",
       " 'Isto significa que o conteudo tecnologico dos produtos oferecidos pela industria brasileira e portuguesa terao de crescer substancialmente nos proximos anos e que a forca de trabalho principalmente brasileira tera de receber um nivel de educacao em ciencia e Tecnologia muito mais elevado do que o de hoje',\n",
       " 'Pelo referido destacase o investimento que esta a ser feito em Portugal na cidade de Braga com a construcao do Laboratorio Internacional Iberico de Nanotecnologia INL estrutura que ira dedicarse a investigacao nesta area e que tera um investimento anual de 30 milhoes de euros',\n",
       " ' Produtos em desenvolvimento ',\n",
       " 'As aplicacoes mais simples da nanotecnologia talvez sejam as mais promissoras',\n",
       " 'A criacao do material mais escuro do mundo que absorve mais de 999 de toda a luz que recebe pode permitir um novo patamar no aproveitamento da radiacao solar para geracao de energia eletrica',\n",
       " 'Outra area de desenvolvimento promissor da nanotecnologia e a geracao de eletricidade em termopar Efeito Seebeck semicondutor',\n",
       " 'Semicondutores nao sao indicados para um termopar de energia eletrica atraves do calor na escala macroscopica',\n",
       " 'Sabese contudo que juncoes semicondutoras podem gerar energia eletrica atraves da luz recebida em celulas fotovoltaicas e nesse sentido estudase converter calor diretamente em energia eletrica com semicondutores na escala da nanotecnologia',\n",
       " 'Ja se encontra em fase avancada de desenvolvimento os nanofertilizantes em que os agricultores usam a tecnologia aplicada na utilizacao de fertilizantes e outros insumos',\n",
       " ' Nanotecnologia para liberacao de farmacos ',\n",
       " 'Os farmacos de liberacao controlada ou nanofarmacos sao macromoleculas nanometricas capazes de armazenar em seu interior principios ativos ou outras moleculas capazes de desenvolver uma resposta farmacologica que funcionam como vetores capazes de efetuar o transporte pelo organismo e controlar a taxa de liberacao e ate mesmo fazer com que o farmaco seja liberado no ambiente fisiologico adequado para que a liberacao do composto especifico possa ocorrer de maneira correta',\n",
       " 'Estas macromolecula tambem podem ter sua parte exterior preparada para que sua dissolucao fator que permitira a liberacao do farmaco ocorra apenas em tecidosalvo especificos minimizando os efeitos colaterais da droga utilizada',\n",
       " 'Por fim as dimensoes nanometricas das moleculasgaiola podem levar inclusive a preparacao de medicamentos capazes de vencer a barreira hematoencefalica levando ao desenvolvimento de uma nova geracao de farmacos especificos para o tratamento de patologias que causam danos cerebrais seja causando alteracoes bioquimicas ou teciduais ',\n",
       " 'Devido a isto este tipo de tecnologia possui um potencial enorme para a liberacao de farmacos neoplasicos pois a mesma e capaz de gerar a liberacao de farmacos apenas em tecidos especificos diminuindo o dano sofrido pelos tecidos saudaveis do corpo',\n",
       " 'Um dos tipos de nanotecnologia utilizada na industria farmaceutica sao as nanoparticulas polimericas que e um termo que quando aplicado a liberacao de farmacos se refere a dois tipos de estruturas diferentes as nanoesferas e as nanocapsulasAs nanocapsulas por serem constituidas por um involucro polimerico disposto ao redor de um nucleo oleoso permitem que o farmaco esteja dissolvido neste nucleo eou adsorvido a parede polimerica',\n",
       " 'No entanto as nanoesferas por nao apresentarem oleo em sua composicao sao formadas por uma matriz polimerica em que o farmaco pode ficar retido ou adsorvido ',\n",
       " 'Nanoparticulas podem ser obtidas atraves de diversos metodos que podem ser classificados em polimerizacao interfacial de monomeros dispersos ou dispersos de polimeros preformados no entanto as nanocapsulas podem ser obtidas atraves do metodo da emulsificacao de fusao que foi destacada por Schaffazick como sendo uma das areas mais promissoras na utilizacao das nanoparticulas pois a vetorizacao de farmacos anticancerigenos e de antibioticos principalmente atraves de administracao parenteral permite uma distribuicao mais seletiva dos mesmos e assim e capaz de gerar  um aumento do indice terapeutico ',\n",
       " 'Os polimeros mais utilizados clinicamente atualmente principalmente na criacao de proteses ortopedicas e fios de sutura biodegradaveis sao os sinteticos como PLA o PLGA e a Poli ecaprolactona',\n",
       " 'Ja os biopolimeros como a quitosana e albumina tem a vantagem de terem custo bem mais baixo que os sinteticos ate podendo ser mais economicos porem nao sao muito recomendados por nao apresentam um grande indice de custo beneficio ',\n",
       " 'Esses sistemas tem sido desenvolvidos visando inumeras aplicacoes terapeuticas tendo como principal visao a sua utilizacao para administracao parenteral oral ou oftalmica',\n",
       " 'A aplicacao oftalmica visa o controle da liberacao o aumento da biodisponibilidade ocular eou a diminuicao dos efeitos colaterais devido a absorcao sistemica de certos farmacos e devido a isto tem sido fonte de grande interesse na area de pesquisa farmaceutica ',\n",
       " 'Schaffazick aponta a administracao oral no uso destas nanoparticulas para a liberacao de farmacos ja que por meio delas podese obter certos objetivos como diminuicao dos efeitos colaterais de certos farmacos destacandose os antiinflamatorios naoesteroides o que acarretaria na melhora da qualidade de vida de pacientes submetidos a estes tratamentos Alem da protecao de farmacos degradaveis no trato gastrintestinal pois desta maneira diminuise a taxa de metabolizacao dos mesmos aumentando a sua biodisponibilidade fato que permite a administracao de menores concentracoes destes farmacos e portanto diminui a ocorrencia de efeitos adversosAs nanoestruturas polimericas agem como compartimentos transportadores de substancias ativas e apresentam algumas vantagens em relacao aos sistemas microemulsivos e lipossomais fato que justifica o grande interesse no desenvolvimento desta tecnologia',\n",
       " 'Dentre estas vantagens destacamse boa estabilidade fisica quimica e biologica facil preparo e boa reprodutividade diminuicao da acao do metabolismo sobre os farmacos e a ocorrencia de efeitos adversos aumento da biodisponibilidade alem do fato de serem aplicaveis a uma ampla variedade de substancias visando melhorar suas propriedades quimicas',\n",
       " ' Referencias ',\n",
       " ' Ver tambem ']"
      ]
     },
     "execution_count": 15,
     "metadata": {},
     "output_type": "execute_result"
    }
   ],
   "source": [
    "corpora['Nanotecnologia']['tokenized']\n"
   ]
  },
  {
   "cell_type": "code",
   "execution_count": null,
   "metadata": {},
   "outputs": [],
   "source": []
  },
  {
   "cell_type": "code",
   "execution_count": null,
   "metadata": {},
   "outputs": [],
   "source": []
  }
 ],
 "metadata": {
  "kernelspec": {
   "display_name": "Python 3",
   "language": "python",
   "name": "python3"
  },
  "language_info": {
   "codemirror_mode": {
    "name": "ipython",
    "version": 3
   },
   "file_extension": ".py",
   "mimetype": "text/x-python",
   "name": "python",
   "nbconvert_exporter": "python",
   "pygments_lexer": "ipython3",
   "version": "3.5.2"
  }
 },
 "nbformat": 4,
 "nbformat_minor": 2
}
