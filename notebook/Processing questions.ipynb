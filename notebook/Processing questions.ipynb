{
 "cells": [
  {
   "cell_type": "markdown",
   "metadata": {},
   "source": [
    "# Carregar as perguntas"
   ]
  },
  {
   "cell_type": "code",
   "execution_count": 1,
   "metadata": {},
   "outputs": [],
   "source": [
    "with open('../data/questions.txt', 'r') as file:\n",
    "    lines = file.readlines()"
   ]
  },
  {
   "cell_type": "code",
   "execution_count": 2,
   "metadata": {},
   "outputs": [
    {
     "data": {
      "text/plain": [
       "['Qual a profissão de Arnold Schwarznegger?\\n',\n",
       " 'Onde Arnold Schwarznegger nasceu?\\n',\n",
       " 'Arnold Schwarznegger tem filhos?\\n',\n",
       " 'Quem é Neymar?\\n',\n",
       " 'Neymar é casado?\\n',\n",
       " 'Onde Neymar vive?\\n',\n",
       " 'Mahatma Gandhi é de que pais?\\n',\n",
       " 'Mahatma Gandhi se formou em que?\\n',\n",
       " 'Quando nasceu Mahatma Gandhi?\\n',\n",
       " 'O que é Nárnia?\\n']"
      ]
     },
     "execution_count": 2,
     "metadata": {},
     "output_type": "execute_result"
    }
   ],
   "source": [
    "lines[:10]"
   ]
  },
  {
   "cell_type": "code",
   "execution_count": 3,
   "metadata": {},
   "outputs": [],
   "source": [
    "import nltk"
   ]
  },
  {
   "cell_type": "markdown",
   "metadata": {},
   "source": [
    "# Tokenizar cada pergunta"
   ]
  },
  {
   "cell_type": "code",
   "execution_count": 4,
   "metadata": {},
   "outputs": [
    {
     "data": {
      "text/plain": [
       "['Qual a profissão de Arnold Schwarznegger?\\n',\n",
       " 'Onde Arnold Schwarznegger nasceu?\\n',\n",
       " 'Arnold Schwarznegger tem filhos?\\n',\n",
       " 'Quem é Neymar?\\n',\n",
       " 'Neymar é casado?\\n',\n",
       " 'Onde Neymar vive?\\n',\n",
       " 'Mahatma Gandhi é de que pais?\\n',\n",
       " 'Mahatma Gandhi se formou em que?\\n',\n",
       " 'Quando nasceu Mahatma Gandhi?\\n',\n",
       " 'O que é Nárnia?\\n',\n",
       " 'Qual a capital de Nárnia?\\n',\n",
       " 'Quem vive em Nárnia ?\\n',\n",
       " 'O que é o Arco do Triunfo?\\n',\n",
       " 'Onde fica localizado?\\n',\n",
       " 'O que é o Arco do Triunfo?\\n',\n",
       " 'Onde fica localizado o Afeganistão?\\n',\n",
       " 'Qual o número de habitantes do Afeganistão?\\n',\n",
       " 'Qual a língua oficial do Afeganistão?\\n',\n",
       " 'O que é a LexCorp?\\n',\n",
       " 'Quem comanda a LexCorp?\\n']"
      ]
     },
     "execution_count": 4,
     "metadata": {},
     "output_type": "execute_result"
    }
   ],
   "source": [
    "lines[:20]"
   ]
  },
  {
   "cell_type": "markdown",
   "metadata": {},
   "source": [
    "# Normalizar o texto"
   ]
  },
  {
   "cell_type": "code",
   "execution_count": 5,
   "metadata": {},
   "outputs": [],
   "source": [
    "from nlp import lexical"
   ]
  },
  {
   "cell_type": "code",
   "execution_count": 6,
   "metadata": {},
   "outputs": [],
   "source": [
    "normalizer = lexical.Preprocessing()"
   ]
  },
  {
   "cell_type": "code",
   "execution_count": 7,
   "metadata": {},
   "outputs": [],
   "source": [
    "questions = []\n",
    "for line in lines:\n",
    "    line = normalizer.remove_accents(line)\n",
    "    line = normalizer.remove_punctuation(line)\n",
    "    line = normalizer.tokenize_sentences(line)\n",
    "    line = normalizer.tokenize_words(line[0])\n",
    "    line = normalizer.lowercase(line)\n",
    "    #line = normalizer.remove_stopwords(line)\n",
    "    questions.append(line)"
   ]
  },
  {
   "cell_type": "code",
   "execution_count": 8,
   "metadata": {},
   "outputs": [
    {
     "data": {
      "text/plain": [
       "[['qual', 'a', 'profissao', 'de', 'arnold', 'schwarznegger'],\n",
       " ['onde', 'arnold', 'schwarznegger', 'nasceu'],\n",
       " ['arnold', 'schwarznegger', 'tem', 'filhos'],\n",
       " ['quem', 'e', 'neymar'],\n",
       " ['neymar', 'e', 'casado'],\n",
       " ['onde', 'neymar', 'vive'],\n",
       " ['mahatma', 'gandhi', 'e', 'de', 'que', 'pais'],\n",
       " ['mahatma', 'gandhi', 'se', 'formou', 'em', 'que'],\n",
       " ['quando', 'nasceu', 'mahatma', 'gandhi'],\n",
       " ['o', 'que', 'e', 'narnia'],\n",
       " ['qual', 'a', 'capital', 'de', 'narnia'],\n",
       " ['quem', 'vive', 'em', 'narnia'],\n",
       " ['o', 'que', 'e', 'o', 'arco', 'do', 'triunfo'],\n",
       " ['onde', 'fica', 'localizado'],\n",
       " ['o', 'que', 'e', 'o', 'arco', 'do', 'triunfo'],\n",
       " ['onde', 'fica', 'localizado', 'o', 'afeganistao'],\n",
       " ['qual', 'o', 'numero', 'de', 'habitantes', 'do', 'afeganistao'],\n",
       " ['qual', 'a', 'lingua', 'oficial', 'do', 'afeganistao'],\n",
       " ['o', 'que', 'e', 'a', 'lexcorp'],\n",
       " ['quem', 'comanda', 'a', 'lexcorp']]"
      ]
     },
     "execution_count": 8,
     "metadata": {},
     "output_type": "execute_result"
    }
   ],
   "source": [
    "questions[:20]"
   ]
  },
  {
   "cell_type": "markdown",
   "metadata": {},
   "source": [
    "# Tagger\n",
    "- using spacy"
   ]
  },
  {
   "cell_type": "code",
   "execution_count": 28,
   "metadata": {},
   "outputs": [],
   "source": [
    "from nlp import morphosyntax"
   ]
  },
  {
   "cell_type": "code",
   "execution_count": 29,
   "metadata": {},
   "outputs": [],
   "source": [
    "morpho = morphosyntax.Morpho()"
   ]
  },
  {
   "cell_type": "code",
   "execution_count": 30,
   "metadata": {},
   "outputs": [],
   "source": [
    "docs = []"
   ]
  },
  {
   "cell_type": "code",
   "execution_count": 31,
   "metadata": {},
   "outputs": [],
   "source": [
    "for question in questions:\n",
    "    doc = morpho.tag(question)\n",
    "    docs.append(doc)"
   ]
  },
  {
   "cell_type": "code",
   "execution_count": 32,
   "metadata": {},
   "outputs": [
    {
     "data": {
      "text/plain": [
       "[[('qual', 'ADV', '', 'O'),\n",
       "  ('a', 'DET', '', 'O'),\n",
       "  ('profissao', 'NOUN', '', 'O'),\n",
       "  ('de', 'ADP', '', 'O'),\n",
       "  ('arnold', 'NOUN', '', 'O'),\n",
       "  ('schwarznegger', 'VERB', '', 'O')],\n",
       " [('onde', 'ADV', '', 'O'),\n",
       "  ('arnold', 'NOUN', '', 'O'),\n",
       "  ('schwarznegger', 'VERB', '', 'O'),\n",
       "  ('nasceu', 'VERB', '', 'O')],\n",
       " [('arnold', 'NOUN', '', 'O'),\n",
       "  ('schwarznegger', 'VERB', '', 'O'),\n",
       "  ('tem', 'VERB', '', 'O'),\n",
       "  ('filhos', 'NOUN', '', 'O')],\n",
       " [('quem', 'PRON', '', 'O'),\n",
       "  ('e', 'PUNCT', '', 'O'),\n",
       "  ('neymar', 'VERB', '', 'O')],\n",
       " [('neymar', 'VERB', '', 'O'),\n",
       "  ('e', 'PUNCT', '', 'O'),\n",
       "  ('casado', 'ADJ', '', 'O')],\n",
       " [('onde', 'ADV', '', 'O'),\n",
       "  ('neymar', 'NOUN', '', 'O'),\n",
       "  ('vive', 'NOUN', '', 'O')],\n",
       " [('mahatma', 'VERB', '', 'O'),\n",
       "  ('gandhi', 'ADJ', '', 'O'),\n",
       "  ('e', 'CCONJ', '', 'O'),\n",
       "  ('de', 'ADP', '', 'O'),\n",
       "  ('que', 'SCONJ', '', 'O'),\n",
       "  ('pais', 'NOUN', '', 'O')],\n",
       " [('mahatma', 'VERB', '', 'O'),\n",
       "  ('gandhi', 'ADJ', '', 'O'),\n",
       "  ('se', 'PRON', '', 'O'),\n",
       "  ('formou', 'VERB', '', 'O'),\n",
       "  ('em', 'ADP', '', 'O'),\n",
       "  ('que', 'SCONJ', '', 'O')],\n",
       " [('quando', 'ADV', '', 'O'),\n",
       "  ('nasceu', 'VERB', '', 'O'),\n",
       "  ('mahatma', 'NOUN', '', 'O'),\n",
       "  ('gandhi', 'ADJ', '', 'O')],\n",
       " [('o', 'X', '', 'O'),\n",
       "  ('que', 'PRON', '', 'O'),\n",
       "  ('e', 'PUNCT', '', 'O'),\n",
       "  ('narnia', 'NOUN', '', 'O')],\n",
       " [('qual', 'ADV', '', 'O'),\n",
       "  ('a', 'DET', '', 'O'),\n",
       "  ('capital', 'NOUN', '', 'O'),\n",
       "  ('de', 'ADP', '', 'O'),\n",
       "  ('narnia', 'NOUN', '', 'O')],\n",
       " [('quem', 'PRON', '', 'O'),\n",
       "  ('vive', 'VERB', '', 'O'),\n",
       "  ('em', 'ADP', '', 'O'),\n",
       "  ('narnia', 'NOUN', '', 'O')],\n",
       " [('o', 'X', '', 'O'),\n",
       "  ('que', 'PRON', '', 'O'),\n",
       "  ('e', 'CCONJ', '', 'O'),\n",
       "  ('o', 'DET', '', 'O'),\n",
       "  ('arco', 'NOUN', '', 'O'),\n",
       "  ('do', 'ADP', '', 'O'),\n",
       "  ('triunfo', 'NOUN', '', 'O')],\n",
       " [('onde', 'ADV', '', 'O'),\n",
       "  ('fica', 'VERB', '', 'O'),\n",
       "  ('localizado', 'VERB', '', 'O')],\n",
       " [('o', 'X', '', 'O'),\n",
       "  ('que', 'PRON', '', 'O'),\n",
       "  ('e', 'CCONJ', '', 'O'),\n",
       "  ('o', 'DET', '', 'O'),\n",
       "  ('arco', 'NOUN', '', 'O'),\n",
       "  ('do', 'ADP', '', 'O'),\n",
       "  ('triunfo', 'NOUN', '', 'O')],\n",
       " [('onde', 'ADV', '', 'O'),\n",
       "  ('fica', 'VERB', '', 'O'),\n",
       "  ('localizado', 'VERB', '', 'O'),\n",
       "  ('o', 'DET', '', 'O'),\n",
       "  ('afeganistao', 'NOUN', '', 'O')],\n",
       " [('qual', 'VERB', '', 'O'),\n",
       "  ('o', 'DET', '', 'O'),\n",
       "  ('numero', 'NOUN', '', 'O'),\n",
       "  ('de', 'ADP', '', 'O'),\n",
       "  ('habitantes', 'NOUN', '', 'O'),\n",
       "  ('do', 'DET', '', 'O'),\n",
       "  ('afeganistao', 'SYM', '', 'O')],\n",
       " [('qual', 'SCONJ', '', 'O'),\n",
       "  ('a', 'DET', '', 'O'),\n",
       "  ('lingua', 'NOUN', '', 'O'),\n",
       "  ('oficial', 'ADJ', '', 'O'),\n",
       "  ('do', 'ADP', '', 'O'),\n",
       "  ('afeganistao', 'SYM', '', 'O')],\n",
       " [('o', 'X', '', 'O'),\n",
       "  ('que', 'PRON', '', 'O'),\n",
       "  ('e', 'CCONJ', '', 'O'),\n",
       "  ('a', 'DET', '', 'O'),\n",
       "  ('lexcorp', 'NOUN', '', 'O')],\n",
       " [('quem', 'PRON', '', 'O'),\n",
       "  ('comanda', 'VERB', '', 'O'),\n",
       "  ('a', 'DET', '', 'O'),\n",
       "  ('lexcorp', 'NOUN', '', 'O')]]"
      ]
     },
     "execution_count": 32,
     "metadata": {},
     "output_type": "execute_result"
    }
   ],
   "source": [
    "docs[:20]"
   ]
  },
  {
   "cell_type": "markdown",
   "metadata": {},
   "source": [
    "# Tipos de pergunta:\n",
    "- qual\n",
    "- onde\n",
    "- o que\n",
    "- quem\n",
    "- em qual\n",
    "- para que\n",
    "- com quem\n",
    "- quantos\n",
    "- quando\n",
    "- por que\n",
    "- como\n"
   ]
  },
  {
   "cell_type": "code",
   "execution_count": 33,
   "metadata": {},
   "outputs": [],
   "source": [
    "questionsQuais = []\n",
    "for question in docs:\n",
    "    if 'qual' in question[0]:\n",
    "        questionsQuais.append(question)"
   ]
  },
  {
   "cell_type": "code",
   "execution_count": 37,
   "metadata": {},
   "outputs": [
    {
     "name": "stdout",
     "output_type": "stream",
     "text": [
      "[('qual', 'ADV', '', 'O'), ('a', 'DET', '', 'O'), ('profissao', 'NOUN', '', 'O'), ('de', 'ADP', '', 'O'), ('arnold', 'NOUN', '', 'O'), ('schwarznegger', 'VERB', '', 'O')]\n",
      "[('qual', 'ADV', '', 'O'), ('a', 'DET', '', 'O'), ('capital', 'NOUN', '', 'O'), ('de', 'ADP', '', 'O'), ('narnia', 'NOUN', '', 'O')]\n",
      "[('qual', 'VERB', '', 'O'), ('o', 'DET', '', 'O'), ('numero', 'NOUN', '', 'O'), ('de', 'ADP', '', 'O'), ('habitantes', 'NOUN', '', 'O'), ('do', 'DET', '', 'O'), ('afeganistao', 'SYM', '', 'O')]\n",
      "[('qual', 'SCONJ', '', 'O'), ('a', 'DET', '', 'O'), ('lingua', 'NOUN', '', 'O'), ('oficial', 'ADJ', '', 'O'), ('do', 'ADP', '', 'O'), ('afeganistao', 'SYM', '', 'O')]\n",
      "[('qual', 'SCONJ', '', 'O'), ('a', 'DET', '', 'O'), ('moeda', 'NOUN', '', 'O'), ('usada', 'VERB', '', 'O'), ('no', 'ADP', '', 'O'), ('afeganistao', 'NOUN', '', 'O')]\n",
      "[('qual', 'VERB', '', 'O'), ('o', 'DET', '', 'O'), ('numero', 'NOUN', '', 'O'), ('de', 'ADP', '', 'O'), ('alunos', 'NOUN', '', 'O'), ('matriculados', 'VERB', '', 'O'), ('na', 'ADP', '', 'O'), ('ufla', 'NOUN', '', 'O')]\n",
      "[('qual', 'VERB', '', 'O'), ('o', 'DET', '', 'O'), ('habit', 'NOUN', '', 'O'), ('natural', 'ADJ', '', 'O'), ('da', 'ADP', '', 'O'), ('raposa', 'ADJ', '', 'O')]\n",
      "[('qual', 'PRON', '', 'O'), ('time', 'NOUN', '', 'O'), ('neymar', 'VERB', '', 'O'), ('joga', 'VERB', '', 'O')]\n",
      "[('qual', 'ADV', '', 'O'), ('a', 'DET', '', 'O'), ('idede', 'NOUN', '', 'O'), ('de', 'ADP', '', 'O'), ('neymar', 'VERB', '', 'O')]\n",
      "[('qual', 'VERB', '', 'O'), ('a', 'DET', '', 'O'), ('idade', 'NOUN', '', 'O'), ('de', 'ADP', '', 'O'), ('mahatma', 'NOUN', '', 'O'), ('gandhi', 'ADJ', '', 'O')]\n"
     ]
    }
   ],
   "source": [
    "for question in questionsQuais[:10]:\n",
    "    print(question)"
   ]
  },
  {
   "cell_type": "markdown",
   "metadata": {},
   "source": [
    "#Extração de padrão: desconsiderando stopwords\n",
    "- qual + substantivo + substantivo\n",
    "- qual + substantivo + verbo + substantivo\n",
    "- qual + verbo + substantivo + substantivo"
   ]
  },
  {
   "cell_type": "code",
   "execution_count": 16,
   "metadata": {},
   "outputs": [],
   "source": [
    "questionsOnde = []\n",
    "for question in docs:\n",
    "    if 'onde' in question[0]:\n",
    "        questionsOnde.append(question)"
   ]
  },
  {
   "cell_type": "code",
   "execution_count": 17,
   "metadata": {},
   "outputs": [
    {
     "name": "stdout",
     "output_type": "stream",
     "text": [
      "[('onde', 'ADV', '', 'O'), ('arnold', 'NOUN', '', 'O'), ('schwarznegger', 'VERB', '', 'O'), ('nasceu', 'VERB', '', 'O')]\n",
      "[('onde', 'ADV', '', 'O'), ('neymar', 'NOUN', '', 'O'), ('vive', 'NOUN', '', 'O')]\n",
      "[('onde', 'ADV', '', 'O'), ('fica', 'VERB', '', 'O'), ('localizado', 'VERB', '', 'O')]\n",
      "[('onde', 'ADV', '', 'O'), ('fica', 'VERB', '', 'O'), ('localizado', 'VERB', '', 'O'), ('o', 'DET', '', 'O'), ('afeganistao', 'NOUN', '', 'O')]\n",
      "[('onde', 'ADV', '', 'O'), ('fica', 'VERB', '', 'O'), ('a', 'DET', '', 'O'), ('sede', 'NOUN', '', 'O'), ('da', 'ADP', '', 'O'), ('lexcorp', 'NOUN', '', 'O')]\n",
      "[('onde', 'ADV', '', 'O'), ('fica', 'VERB', '', 'O'), ('sediada', 'VERB', '', 'O'), ('a', 'ADP', '', 'O'), ('oracle', 'NOUN', '', 'O')]\n",
      "[('onde', 'ADV', '', 'O'), ('nasceu', 'VERB', '', 'O'), ('mahatma', 'NOUN', '', 'O'), ('gandhi', 'ADJ', '', 'O')]\n",
      "[('onde', 'ADV', '', 'O'), ('fica', 'VERB', '', 'O'), ('narnia', 'ADJ', '', 'O')]\n",
      "[('onde', 'ADV', '', 'O'), ('fica', 'VERB', '', 'O'), ('o', 'DET', '', 'O'), ('arco', 'NOUN', '', 'O'), ('do', 'DET', '', 'O'), ('triunfo', 'NOUN', '', 'O')]\n",
      "[('onde', 'ADV', '', 'O'), ('fica', 'VERB', '', 'O'), ('a', 'DET', '', 'O'), ('sede', 'NOUN', '', 'O'), ('da', 'ADP', '', 'O'), ('oracle', 'NOUN', '', 'O')]\n",
      "[('onde', 'ADV', '', 'O'), ('fica', 'VERB', '', 'O'), ('narnia', 'ADJ', '', 'O')]\n",
      "[('onde', 'ADV', '', 'O'), ('esta', 'DET', '', 'O'), ('localizada', 'VERB', '', 'O'), ('a', 'DET', '', 'O'), ('lexcorp', 'NOUN', '', 'O')]\n",
      "[('onde', 'ADV', '', 'O'), ('arnold', 'NOUN', '', 'O'), ('schwarzenegger', 'VERB', '', 'O'), ('reside', 'VERB', '', 'O'), ('atualmente', 'ADV', '', 'O')]\n",
      "[('onde', 'ADV', '', 'O'), ('neymar', 'NOUN', '', 'O'), ('nasceu', 'VERB', '', 'O')]\n",
      "[('onde', 'ADV', '', 'O'), ('o', 'DET', '', 'O'), ('donut', 'NOUN', '', 'O'), ('foi', 'AUX', '', 'O'), ('criado', 'VERB', '', 'O')]\n",
      "[('onde', 'ADV', '', 'O'), ('arnold', 'NOUN', '', 'O'), ('schwarzenegger', 'VERB', '', 'O'), ('foi', 'VERB', '', 'O'), ('governador', 'ADJ', '', 'O')]\n",
      "[('onde', 'ADV', '', 'O'), ('esta', 'DET', '', 'O'), ('localizado', 'VERB', '', 'O'), ('o', 'DET', '', 'O'), ('arco', 'NOUN', '', 'O'), ('do', 'ADP', '', 'O'), ('triunfo', 'NOUN', '', 'O')]\n",
      "[('onde', 'ADV', '', 'O'), ('e', 'PUNCT', '', 'O'), ('a', 'DET', '', 'O'), ('sede', 'NOUN', '', 'O'), ('da', 'ADP', '', 'O'), ('lexcorp', 'NOUN', '', 'O')]\n",
      "[('onde', 'ADV', '', 'O'), ('mora', 'VERB', '', 'O'), ('atualmente', 'ADV', '', 'O'), ('neymar', 'VERB', '', 'O')]\n"
     ]
    }
   ],
   "source": [
    "for question in questionsOnde:\n",
    "    print(question)"
   ]
  },
  {
   "cell_type": "code",
   "execution_count": null,
   "metadata": {},
   "outputs": [],
   "source": []
  }
 ],
 "metadata": {
  "kernelspec": {
   "display_name": "Python 3",
   "language": "python",
   "name": "python3"
  },
  "language_info": {
   "codemirror_mode": {
    "name": "ipython",
    "version": 3
   },
   "file_extension": ".py",
   "mimetype": "text/x-python",
   "name": "python",
   "nbconvert_exporter": "python",
   "pygments_lexer": "ipython3",
   "version": "3.5.2"
  }
 },
 "nbformat": 4,
 "nbformat_minor": 4
}
