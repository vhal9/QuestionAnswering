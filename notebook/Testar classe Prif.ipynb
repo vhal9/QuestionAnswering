{
 "cells": [
  {
   "cell_type": "code",
   "execution_count": 6,
   "metadata": {},
   "outputs": [],
   "source": [
    "import prif"
   ]
  },
  {
   "cell_type": "code",
   "execution_count": 7,
   "metadata": {},
   "outputs": [],
   "source": [
    "processar = prif.Prif()"
   ]
  },
  {
   "cell_type": "code",
   "execution_count": 8,
   "metadata": {
    "scrolled": false
   },
   "outputs": [
    {
     "name": "stdout",
     "output_type": "stream",
     "text": [
      "consulta {'entidade': 'Neymar'}\n",
      "verificando se há correspondencia da entidade na Base de Dados...\n",
      "SELECT idProp FROM property WHERE property.desc = 'ente'\n",
      "verificando se há correspondencia da entidade na Base de Dados...\n",
      "SELECT idProp FROM property WHERE property.desc = 'entidade'\n",
      "verificando se há correspondencia da entidade na Base de Dados...\n",
      "SELECT idProp FROM property WHERE property.desc = 'ser'\n",
      "verificando se há correspondencia da entidade na Base de Dados...\n",
      "SELECT idProp FROM property WHERE property.desc = 'criatura'\n",
      "verificando se há correspondencia da entidade na Base de Dados...\n",
      "SELECT idProp FROM property WHERE property.desc = 'organismo'\n",
      "verificando se há correspondencia da entidade na Base de Dados...\n",
      "SELECT idProp FROM property WHERE property.desc = 'ser vivo'\n",
      "verificando se há correspondencia da entidade na Base de Dados...\n",
      "SELECT idProp FROM property WHERE property.desc = 'animal'\n",
      "verificando se há correspondencia da entidade na Base de Dados...\n",
      "SELECT idProp FROM property WHERE property.desc = 'besta'\n",
      "verificando se há correspondencia da entidade na Base de Dados...\n",
      "SELECT idProp FROM property WHERE property.desc = 'bicho'\n",
      "verificando se há correspondencia da entidade na Base de Dados...\n",
      "SELECT idProp FROM property WHERE property.desc = 'lançado'\n",
      "verificando se há correspondencia da entidade na Base de Dados...\n",
      "SELECT idProp FROM property WHERE property.desc = 'existir'\n",
      "verificando se há correspondencia da entidade na Base de Dados...\n",
      "SELECT idProp FROM property WHERE property.desc = 'estar'\n",
      "verificando se há correspondencia da entidade na Base de Dados...\n",
      "SELECT idProp FROM property WHERE property.desc = 'criança'\n",
      "verificando se há correspondencia da entidade na Base de Dados...\n",
      "SELECT idProp FROM property WHERE property.desc = 'existência'\n",
      "verificando se há correspondencia da entidade na Base de Dados...\n",
      "SELECT idProp FROM property WHERE property.desc = 'Existência'\n",
      "verificando se há correspondencia da entidade na Base de Dados...\n",
      "SELECT idProp FROM property WHERE property.desc = 'forma de vida'\n",
      "verificando se há correspondencia da entidade na Base de Dados...\n",
      "SELECT idProp FROM property WHERE property.desc = 'apelido'\n",
      "buscando Q142794 P1449\n",
      "SELECT R.textValue From relation R WHERE R.idEnt1 = 'Q142794' AND R.idProp = 'P1449'\n",
      "verificando se há correspondencia da entidade na Base de Dados...\n",
      "SELECT idProp FROM property WHERE property.desc = 'cognome'\n",
      "verificando se há correspondencia da entidade na Base de Dados...\n",
      "SELECT idProp FROM property WHERE property.desc = 'nome de família'\n",
      "verificando se há correspondencia da entidade na Base de Dados...\n",
      "SELECT idProp FROM property WHERE property.desc = 'sobrenome'\n",
      "buscando Q142794 P734\n",
      "SELECT R.textValue From relation R WHERE R.idEnt1 = 'Q142794' AND R.idProp = 'P734'\n",
      "verificando se há correspondencia da entidade na Base de Dados...\n",
      "SELECT idProp FROM property WHERE property.desc = 'último nome'\n",
      "verificando se há correspondencia da entidade na Base de Dados...\n",
      "SELECT idProp FROM property WHERE property.desc = 'alcunha'\n"
     ]
    },
    {
     "data": {
      "text/plain": [
       "[['Neymar', 'ente', []],\n",
       " ['Neymar', 'entidade', []],\n",
       " ['Neymar', 'ser', []],\n",
       " ['Neymar', 'criatura', []],\n",
       " ['Neymar', 'organismo', []],\n",
       " ['Neymar', 'ser vivo', []],\n",
       " ['Neymar', 'animal', []],\n",
       " ['Neymar', 'besta', []],\n",
       " ['Neymar', 'bicho', []],\n",
       " ['Neymar', 'lançado', []],\n",
       " ['Neymar', 'existir', []],\n",
       " ['Neymar', 'estar', []],\n",
       " ['Neymar', 'criança', []],\n",
       " ['Neymar', 'existência', []],\n",
       " ['Neymar', 'Existência', []],\n",
       " ['Neymar', 'forma de vida', []],\n",
       " ['Neymar', 'apelido', []],\n",
       " ['Neymar', 'cognome', []],\n",
       " ['Neymar', 'nome de família', []],\n",
       " ['Neymar', 'sobrenome', ['Q23781436', 'Q4407937']],\n",
       " ['Neymar', 'último nome', []],\n",
       " ['Neymar', 'alcunha', []]]"
      ]
     },
     "execution_count": 8,
     "metadata": {},
     "output_type": "execute_result"
    }
   ],
   "source": [
    "processar.responder('Qual é o sobrenome do Neymar?')"
   ]
  },
  {
   "cell_type": "code",
   "execution_count": 4,
   "metadata": {},
   "outputs": [],
   "source": [
    "del processar"
   ]
  },
  {
   "cell_type": "code",
   "execution_count": null,
   "metadata": {},
   "outputs": [],
   "source": []
  }
 ],
 "metadata": {
  "kernelspec": {
   "display_name": "Python 3",
   "language": "python",
   "name": "python3"
  },
  "language_info": {
   "codemirror_mode": {
    "name": "ipython",
    "version": 3
   },
   "file_extension": ".py",
   "mimetype": "text/x-python",
   "name": "python",
   "nbconvert_exporter": "python",
   "pygments_lexer": "ipython3",
   "version": "3.5.2"
  }
 },
 "nbformat": 4,
 "nbformat_minor": 2
}
