{
 "cells": [
  {
   "cell_type": "code",
   "execution_count": 1,
   "metadata": {},
   "outputs": [],
   "source": [
    "import prif"
   ]
  },
  {
   "cell_type": "code",
   "execution_count": 2,
   "metadata": {},
   "outputs": [],
   "source": [
    "processar = prif.Prif()"
   ]
  },
  {
   "cell_type": "code",
   "execution_count": 3,
   "metadata": {
    "scrolled": false
   },
   "outputs": [
    {
     "name": "stdout",
     "output_type": "stream",
     "text": [
      "verificando se há correspondencia da entidade na Base de Dados...\n",
      "consulta {'entidade': 'Neymar'}\n",
      "SELECT idProp FROM property WHERE property.desc = 'ente'\n",
      "SELECT idProp FROM property WHERE property.desc = 'entidade'\n",
      "SELECT idProp FROM property WHERE property.desc = 'ser'\n",
      "SELECT idProp FROM property WHERE property.desc = 'criatura'\n",
      "SELECT idProp FROM property WHERE property.desc = 'organismo'\n",
      "SELECT idProp FROM property WHERE property.desc = 'ser vivo'\n",
      "SELECT idProp FROM property WHERE property.desc = 'animal'\n",
      "SELECT idProp FROM property WHERE property.desc = 'besta'\n",
      "SELECT idProp FROM property WHERE property.desc = 'bicho'\n",
      "SELECT idProp FROM property WHERE property.desc = 'lançado'\n",
      "SELECT idProp FROM property WHERE property.desc = 'existir'\n",
      "SELECT idProp FROM property WHERE property.desc = 'estar'\n",
      "SELECT idProp FROM property WHERE property.desc = 'criança'\n",
      "SELECT idProp FROM property WHERE property.desc = 'existência'\n",
      "SELECT idProp FROM property WHERE property.desc = 'Existência'\n",
      "SELECT idProp FROM property WHERE property.desc = 'forma de vida'\n",
      "SELECT idProp FROM property WHERE property.desc = 'apelido'\n",
      "buscando Q142794 P1449\n",
      "SELECT R.textValue From relation R WHERE R.idEnt1 = 'Q142794' AND R.idProp = 'P1449'\n",
      "SELECT idProp FROM property WHERE property.desc = 'cognome'\n",
      "SELECT idProp FROM property WHERE property.desc = 'nome de família'\n",
      "SELECT idProp FROM property WHERE property.desc = 'sobrenome'\n",
      "buscando Q142794 P734\n",
      "SELECT R.textValue From relation R WHERE R.idEnt1 = 'Q142794' AND R.idProp = 'P734'\n",
      "SELECT idProp FROM property WHERE property.desc = 'último nome'\n",
      "SELECT idProp FROM property WHERE property.desc = 'alcunha'\n"
     ]
    },
    {
     "data": {
      "text/plain": [
       "[['Neymar', 'sobrenome', ['da Silva', 'Santos']]]"
      ]
     },
     "execution_count": 3,
     "metadata": {},
     "output_type": "execute_result"
    }
   ],
   "source": [
    "processar.responder('Qual é o sobrenome do Neymar?')"
   ]
  },
  {
   "cell_type": "code",
   "execution_count": 4,
   "metadata": {},
   "outputs": [],
   "source": [
    "del processar"
   ]
  },
  {
   "cell_type": "code",
   "execution_count": null,
   "metadata": {},
   "outputs": [],
   "source": []
  },
  {
   "cell_type": "code",
   "execution_count": 5,
   "metadata": {},
   "outputs": [],
   "source": [
    "import re"
   ]
  },
  {
   "cell_type": "code",
   "execution_count": 6,
   "metadata": {},
   "outputs": [],
   "source": [
    "p = re.compile('Q\\d+')"
   ]
  },
  {
   "cell_type": "code",
   "execution_count": 7,
   "metadata": {},
   "outputs": [
    {
     "data": {
      "text/plain": [
       "re.compile(r'Q\\d+', re.UNICODE)"
      ]
     },
     "execution_count": 7,
     "metadata": {},
     "output_type": "execute_result"
    }
   ],
   "source": [
    "p"
   ]
  },
  {
   "cell_type": "code",
   "execution_count": 8,
   "metadata": {},
   "outputs": [
    {
     "ename": "SyntaxError",
     "evalue": "invalid syntax (<ipython-input-8-e47f86cab5d0>, line 1)",
     "output_type": "error",
     "traceback": [
      "\u001b[0;36m  File \u001b[0;32m\"<ipython-input-8-e47f86cab5d0>\"\u001b[0;36m, line \u001b[0;32m1\u001b[0m\n\u001b[0;31m    print(p.('Q2d'))\u001b[0m\n\u001b[0m            ^\u001b[0m\n\u001b[0;31mSyntaxError\u001b[0m\u001b[0;31m:\u001b[0m invalid syntax\n"
     ]
    }
   ],
   "source": [
    "print(p.('Q2d'))"
   ]
  },
  {
   "cell_type": "code",
   "execution_count": null,
   "metadata": {},
   "outputs": [],
   "source": []
  }
 ],
 "metadata": {
  "kernelspec": {
   "display_name": "Python 3",
   "language": "python",
   "name": "python3"
  },
  "language_info": {
   "codemirror_mode": {
    "name": "ipython",
    "version": 3
   },
   "file_extension": ".py",
   "mimetype": "text/x-python",
   "name": "python",
   "nbconvert_exporter": "python",
   "pygments_lexer": "ipython3",
   "version": "3.5.2"
  }
 },
 "nbformat": 4,
 "nbformat_minor": 2
}
