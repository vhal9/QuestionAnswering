{
 "cells": [
  {
   "cell_type": "code",
   "execution_count": 1,
   "metadata": {},
   "outputs": [],
   "source": [
    "import wikipedia"
   ]
  },
  {
   "cell_type": "code",
   "execution_count": 5,
   "metadata": {},
   "outputs": [],
   "source": [
    "wikipedia.set_lang('pt')"
   ]
  },
  {
   "cell_type": "code",
   "execution_count": 7,
   "metadata": {},
   "outputs": [
    {
     "name": "stdout",
     "output_type": "stream",
     "text": [
      "A Universidade Federal de Lavras (UFLA) é uma instituição de ensino superior pública federal brasileira, sediada na cidade de Lavras, no estado de Minas Gerais. É uma autarquia, vinculada ao Ministério da Educação, órgão responsável por sua manutenção. Possui cursos de graduação e também cursos de pós-graduação lato sensu e stricto sensu.\n",
      "De acordo com o Índices Gerais de Cursos das Instituições (IGC) divulgado pelo MEC, a UFLA possui um dos melhores índices de qualidade do Brasil entre as universidade públicas e privadas pesquisadas. A universidade já havia se destacado em 2008 e 2009 como a 4º do Brasil e 2º de Minas.\n"
     ]
    }
   ],
   "source": [
    "print(wikipedia.summary(\"Ufla\"))"
   ]
  },
  {
   "cell_type": "code",
   "execution_count": null,
   "metadata": {},
   "outputs": [],
   "source": []
  }
 ],
 "metadata": {
  "kernelspec": {
   "display_name": "Python 3",
   "language": "python",
   "name": "python3"
  },
  "language_info": {
   "codemirror_mode": {
    "name": "ipython",
    "version": 3
   },
   "file_extension": ".py",
   "mimetype": "text/x-python",
   "name": "python",
   "nbconvert_exporter": "python",
   "pygments_lexer": "ipython3",
   "version": "3.5.2"
  }
 },
 "nbformat": 4,
 "nbformat_minor": 2
}
