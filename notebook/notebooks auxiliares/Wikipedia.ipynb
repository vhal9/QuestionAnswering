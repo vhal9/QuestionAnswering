{
 "cells": [
  {
   "cell_type": "markdown",
   "metadata": {},
   "source": [
    "# Buscar dados das entidades"
   ]
  },
  {
   "cell_type": "code",
   "execution_count": 1,
   "metadata": {},
   "outputs": [],
   "source": [
    "import pandas as pd"
   ]
  },
  {
   "cell_type": "code",
   "execution_count": 2,
   "metadata": {},
   "outputs": [
    {
     "name": "stderr",
     "output_type": "stream",
     "text": [
      "/home/victorhugo/Documentos/Faculdade/IC/ICENV/lib/python3.5/site-packages/ipykernel_launcher.py:1: ParserWarning: Falling back to the 'python' engine because the 'c' engine does not support skipfooter; you can avoid this warning by specifying engine='python'.\n",
      "  \"\"\"Entry point for launching an IPython kernel.\n"
     ]
    }
   ],
   "source": [
    "database = pd.read_csv('../data/questions.csv', usecols=['Entidades Buscadas'], skipfooter=24)"
   ]
  },
  {
   "cell_type": "code",
   "execution_count": 3,
   "metadata": {},
   "outputs": [
    {
     "data": {
      "text/html": [
       "<div>\n",
       "<style scoped>\n",
       "    .dataframe tbody tr th:only-of-type {\n",
       "        vertical-align: middle;\n",
       "    }\n",
       "\n",
       "    .dataframe tbody tr th {\n",
       "        vertical-align: top;\n",
       "    }\n",
       "\n",
       "    .dataframe thead th {\n",
       "        text-align: right;\n",
       "    }\n",
       "</style>\n",
       "<table border=\"1\" class=\"dataframe\">\n",
       "  <thead>\n",
       "    <tr style=\"text-align: right;\">\n",
       "      <th></th>\n",
       "      <th>Entidades Buscadas</th>\n",
       "    </tr>\n",
       "  </thead>\n",
       "  <tbody>\n",
       "    <tr>\n",
       "      <th>0</th>\n",
       "      <td>Arnold Schwarzenegger</td>\n",
       "    </tr>\n",
       "    <tr>\n",
       "      <th>1</th>\n",
       "      <td>Neymar</td>\n",
       "    </tr>\n",
       "    <tr>\n",
       "      <th>2</th>\n",
       "      <td>Mahatma Gandhi</td>\n",
       "    </tr>\n",
       "    <tr>\n",
       "      <th>3</th>\n",
       "      <td>Nárnia</td>\n",
       "    </tr>\n",
       "    <tr>\n",
       "      <th>4</th>\n",
       "      <td>Arco do Triunfo</td>\n",
       "    </tr>\n",
       "    <tr>\n",
       "      <th>5</th>\n",
       "      <td>Afeganistão</td>\n",
       "    </tr>\n",
       "    <tr>\n",
       "      <th>6</th>\n",
       "      <td>LexCorp</td>\n",
       "    </tr>\n",
       "    <tr>\n",
       "      <th>7</th>\n",
       "      <td>UFLA</td>\n",
       "    </tr>\n",
       "    <tr>\n",
       "      <th>8</th>\n",
       "      <td>Oracle</td>\n",
       "    </tr>\n",
       "    <tr>\n",
       "      <th>9</th>\n",
       "      <td>Raposa</td>\n",
       "    </tr>\n",
       "    <tr>\n",
       "      <th>10</th>\n",
       "      <td>Donut</td>\n",
       "    </tr>\n",
       "    <tr>\n",
       "      <th>11</th>\n",
       "      <td>Nanotecnologia</td>\n",
       "    </tr>\n",
       "  </tbody>\n",
       "</table>\n",
       "</div>"
      ],
      "text/plain": [
       "       Entidades Buscadas\n",
       "0   Arnold Schwarzenegger\n",
       "1                  Neymar\n",
       "2          Mahatma Gandhi\n",
       "3                  Nárnia\n",
       "4         Arco do Triunfo\n",
       "5             Afeganistão\n",
       "6                 LexCorp\n",
       "7                    UFLA\n",
       "8                  Oracle\n",
       "9                  Raposa\n",
       "10                  Donut\n",
       "11         Nanotecnologia"
      ]
     },
     "execution_count": 3,
     "metadata": {},
     "output_type": "execute_result"
    }
   ],
   "source": [
    "database"
   ]
  },
  {
   "cell_type": "code",
   "execution_count": 4,
   "metadata": {},
   "outputs": [],
   "source": [
    "entidades = []\n",
    "for row in database:\n",
    "    entidades.extend(database[row])"
   ]
  },
  {
   "cell_type": "code",
   "execution_count": 5,
   "metadata": {},
   "outputs": [
    {
     "data": {
      "text/plain": [
       "['Arnold Schwarzenegger',\n",
       " 'Neymar',\n",
       " 'Mahatma Gandhi',\n",
       " 'Nárnia',\n",
       " 'Arco do Triunfo',\n",
       " 'Afeganistão',\n",
       " 'LexCorp',\n",
       " 'UFLA',\n",
       " 'Oracle',\n",
       " 'Raposa',\n",
       " 'Donut',\n",
       " 'Nanotecnologia']"
      ]
     },
     "execution_count": 5,
     "metadata": {},
     "output_type": "execute_result"
    }
   ],
   "source": [
    "entidades"
   ]
  },
  {
   "cell_type": "markdown",
   "metadata": {},
   "source": [
    "# Pesquisa na wikipedia"
   ]
  },
  {
   "cell_type": "code",
   "execution_count": 6,
   "metadata": {},
   "outputs": [],
   "source": [
    "from datasearch import wikipedia"
   ]
  },
  {
   "cell_type": "code",
   "execution_count": 7,
   "metadata": {},
   "outputs": [],
   "source": [
    "wikipedia = wikipedia.wikipediaApi.Wiki()"
   ]
  },
  {
   "cell_type": "code",
   "execution_count": 8,
   "metadata": {},
   "outputs": [],
   "source": [
    "data = {}"
   ]
  },
  {
   "cell_type": "code",
   "execution_count": 9,
   "metadata": {},
   "outputs": [
    {
     "name": "stdout",
     "output_type": "stream",
     "text": [
      "['Arnold Schwarzenegger', 'Filmografia de Arnold Schwarzenegger']\n",
      "['Neymar', 'Lista de gols de Neymar pela Seleção Brasileira de Futebol']\n",
      "['Mahatma Gandhi', 'Assassinato de Mahatma Gandhi']\n",
      "['Nárnia', 'The Chronicles of Narnia']\n",
      "['Arco do triunfo', 'Arco do Triunfo (França)']\n",
      "['Afeganistão', 'Guerra do Afeganistão (2001–presente)']\n",
      "['Universo DC', 'Talia al Ghul']\n",
      "['Universidade Federal de Lavras', 'Lavras']\n",
      "['Oracle Corporation', 'Oracle']\n",
      "['Raposa', 'Raposa-vermelha']\n",
      "['Rosquinha', 'DONUT']\n",
      "['Nanotecnologia', 'Nanotecnologia do carbono']\n"
     ]
    }
   ],
   "source": [
    "for entidade in entidades:\n",
    "    data[entidade] = wikipedia.search(entidade)"
   ]
  },
  {
   "cell_type": "markdown",
   "metadata": {},
   "source": [
    "# salvar os textos"
   ]
  },
  {
   "cell_type": "code",
   "execution_count": 10,
   "metadata": {},
   "outputs": [],
   "source": [
    "import os"
   ]
  },
  {
   "cell_type": "code",
   "execution_count": 11,
   "metadata": {},
   "outputs": [],
   "source": [
    "for entidade in data:\n",
    "    corpus_path = '../data/' + entidade\n",
    "    if not os.path.exists(corpus_path):\n",
    "        os.mkdir(corpus_path)\n",
    "    corpus_path += '/'+ entidade + '.txt'\n",
    "    arquivo = open(corpus_path, 'w')\n",
    "    arquivo.write(data[entidade])"
   ]
  },
  {
   "cell_type": "code",
   "execution_count": null,
   "metadata": {},
   "outputs": [],
   "source": []
  }
 ],
 "metadata": {
  "kernelspec": {
   "display_name": "Python 3",
   "language": "python",
   "name": "python3"
  },
  "language_info": {
   "codemirror_mode": {
    "name": "ipython",
    "version": 3
   },
   "file_extension": ".py",
   "mimetype": "text/x-python",
   "name": "python",
   "nbconvert_exporter": "python",
   "pygments_lexer": "ipython3",
   "version": "3.5.2"
  }
 },
 "nbformat": 4,
 "nbformat_minor": 2
}
