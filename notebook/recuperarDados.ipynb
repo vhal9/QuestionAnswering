{
 "cells": [
  {
   "cell_type": "markdown",
   "metadata": {},
   "source": [
    "# Buscando dados"
   ]
  },
  {
   "cell_type": "code",
   "execution_count": 13,
   "metadata": {},
   "outputs": [],
   "source": [
    "import requests"
   ]
  },
  {
   "cell_type": "code",
   "execution_count": 14,
   "metadata": {},
   "outputs": [],
   "source": [
    "API_ENDPOINT = 'https://www.wikidata.org/w/api.php'"
   ]
  },
  {
   "cell_type": "code",
   "execution_count": 15,
   "metadata": {},
   "outputs": [],
   "source": [
    "querys = ['Neymar', 'Arnold Schwarzenegger', 'Mahatma Gandhi', 'Nárnia', 'Arco do Triunfo', 'Afeganistão',\n",
    "         'LexCorp', 'UFLA', 'Oracle', 'raposa', 'Donut', 'Nanotecnologia']"
   ]
  },
  {
   "cell_type": "code",
   "execution_count": 16,
   "metadata": {},
   "outputs": [],
   "source": [
    "parameters = {}\n",
    "for query in querys:\n",
    "    parameter = {\n",
    "        'action': 'wbsearchentities',\n",
    "        'format': 'json',\n",
    "        'language': 'pt',\n",
    "        'search': query\n",
    "    }\n",
    "    parameters[query] = parameter"
   ]
  },
  {
   "cell_type": "code",
   "execution_count": 19,
   "metadata": {},
   "outputs": [
    {
     "name": "stdout",
     "output_type": "stream",
     "text": [
      "Neymar\n",
      "UFLA\n",
      "Mahatma Gandhi\n",
      "Nanotecnologia\n",
      "Arnold Schwarzenegger\n",
      "LexCorp\n",
      "Oracle\n",
      "Arco do Triunfo\n",
      "Nárnia\n",
      "Donut\n",
      "Afeganistão\n",
      "raposa\n"
     ]
    }
   ],
   "source": [
    "data = {}\n",
    "for parameter in parameters:\n",
    "    print(parameter)\n",
    "    data[parameter] = requests.get(API_ENDPOINT, params = parameters[parameter])"
   ]
  },
  {
   "cell_type": "code",
   "execution_count": 22,
   "metadata": {},
   "outputs": [
    {
     "name": "stdout",
     "output_type": "stream",
     "text": [
      "Neymar: Brazilian association football player\n",
      "UFLA: university in Brazil\n",
      "Mahatma Gandhi: pre-eminent leader of Indian nationalism during the British Raj\n",
      "Nanotecnologia: field of applied science whose theme is the control of matter on atomic and (supra)molecular scale\n",
      "Arnold Schwarzenegger: Austrian-American actor, businessman, bodybuilder and politician\n",
      "Arco do Triunfo: monumental structure in the shape of an archway\n",
      "Oracle: database software\n",
      "LexCorp: fictional company appearing in DC Comics\n",
      "Nárnia: fantasy world created by C.S. Lewis, setting of The Chronicles of Narnia\n",
      "Donut: dessert food\n",
      "Afeganistão: republic in South Asia\n",
      "raposa: small to medium-sized omnivorous mammal belonging to the family Canidae\n"
     ]
    }
   ],
   "source": [
    "for entidade in data:\n",
    "    print(entidade + ': ' +data[entidade].json()['search'][0]['description'])"
   ]
  },
  {
   "cell_type": "code",
   "execution_count": 25,
   "metadata": {},
   "outputs": [
    {
     "data": {
      "text/plain": [
       "{'search': [{'concepturi': 'http://www.wikidata.org/entity/Q142794',\n",
       "   'description': 'Brazilian association football player',\n",
       "   'id': 'Q142794',\n",
       "   'label': 'Neymar',\n",
       "   'match': {'language': 'pt', 'text': 'Neymar', 'type': 'label'},\n",
       "   'pageid': 144444,\n",
       "   'repository': '',\n",
       "   'title': 'Q142794',\n",
       "   'url': '//www.wikidata.org/wiki/Q142794'},\n",
       "  {'concepturi': 'http://www.wikidata.org/entity/Q61901279',\n",
       "   'description': 'male given name',\n",
       "   'id': 'Q61901279',\n",
       "   'label': 'Neymar',\n",
       "   'match': {'language': 'pt', 'text': 'Neymar', 'type': 'label'},\n",
       "   'pageid': 61733569,\n",
       "   'repository': '',\n",
       "   'title': 'Q61901279',\n",
       "   'url': '//www.wikidata.org/wiki/Q61901279'},\n",
       "  {'concepturi': 'http://www.wikidata.org/entity/Q53759004',\n",
       "   'description': '2018 single by Capital Bra',\n",
       "   'id': 'Q53759004',\n",
       "   'label': 'Neymar',\n",
       "   'match': {'language': 'en', 'text': 'Neymar', 'type': 'label'},\n",
       "   'pageid': 54233615,\n",
       "   'repository': '',\n",
       "   'title': 'Q53759004',\n",
       "   'url': '//www.wikidata.org/wiki/Q53759004'},\n",
       "  {'aliases': ['Neymar'],\n",
       "   'concepturi': 'http://www.wikidata.org/entity/Q9500714',\n",
       "   'description': 'Wikimedia category',\n",
       "   'id': 'Q9500714',\n",
       "   'label': 'Category:Neymar',\n",
       "   'match': {'language': 'en', 'text': 'Neymar', 'type': 'alias'},\n",
       "   'pageid': 9628682,\n",
       "   'repository': '',\n",
       "   'title': 'Q9500714',\n",
       "   'url': '//www.wikidata.org/wiki/Q9500714'},\n",
       "  {'concepturi': 'http://www.wikidata.org/entity/Q42294058',\n",
       "   'description': 'family name',\n",
       "   'id': 'Q42294058',\n",
       "   'label': 'Neymark',\n",
       "   'match': {'language': 'pt', 'text': 'Neymark', 'type': 'label'},\n",
       "   'pageid': 43576563,\n",
       "   'repository': '',\n",
       "   'title': 'Q42294058',\n",
       "   'url': '//www.wikidata.org/wiki/Q42294058'},\n",
       "  {'aliases': ['Neymar assina extensão de contrato com Barça até 2021'],\n",
       "   'concepturi': 'http://www.wikidata.org/entity/Q27518366',\n",
       "   'description': 'Wikinews article',\n",
       "   'id': 'Q27518366',\n",
       "   'label': 'Neymar signs contract extension with Barça till 2021',\n",
       "   'match': {'language': 'pt',\n",
       "    'text': 'Neymar assina extensão de contrato com Barça até 2021',\n",
       "    'type': 'label'},\n",
       "   'pageid': 29240233,\n",
       "   'repository': '',\n",
       "   'title': 'Q27518366',\n",
       "   'url': '//www.wikidata.org/wiki/Q27518366'},\n",
       "  {'concepturi': 'http://www.wikidata.org/entity/Q18285262',\n",
       "   'description': 'book',\n",
       "   'id': 'Q18285262',\n",
       "   'label': 'Neymar Jr.',\n",
       "   'match': {'language': 'pt', 'text': 'Neymar Jr.', 'type': 'label'},\n",
       "   'pageid': 19814776,\n",
       "   'repository': '',\n",
       "   'title': 'Q18285262',\n",
       "   'url': '//www.wikidata.org/wiki/Q18285262'}],\n",
       " 'search-continue': 7,\n",
       " 'searchinfo': {'search': 'Neymar'},\n",
       " 'success': 1}"
      ]
     },
     "execution_count": 25,
     "metadata": {},
     "output_type": "execute_result"
    }
   ],
   "source": [
    "data['Neymar'].json()"
   ]
  },
  {
   "cell_type": "code",
   "execution_count": null,
   "metadata": {},
   "outputs": [],
   "source": []
  }
 ],
 "metadata": {
  "kernelspec": {
   "display_name": "Python 3",
   "language": "python",
   "name": "python3"
  },
  "language_info": {
   "codemirror_mode": {
    "name": "ipython",
    "version": 3
   },
   "file_extension": ".py",
   "mimetype": "text/x-python",
   "name": "python",
   "nbconvert_exporter": "python",
   "pygments_lexer": "ipython3",
   "version": "3.5.2"
  }
 },
 "nbformat": 4,
 "nbformat_minor": 2
}
